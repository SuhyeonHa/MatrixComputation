{
  "nbformat": 4,
  "nbformat_minor": 0,
  "metadata": {
    "colab": {
      "name": "Assignment05.ipynb",
      "provenance": [],
      "collapsed_sections": [],
      "mount_file_id": "1_mL4Gh2gNEnPSYZ0mUL9WG5-5AZT5vPs",
      "authorship_tag": "ABX9TyPJUcz+nQbQmwvLFhxlVfPc",
      "include_colab_link": true
    },
    "kernelspec": {
      "name": "python3",
      "display_name": "Python 3"
    }
  },
  "cells": [
    {
      "cell_type": "markdown",
      "metadata": {
        "id": "view-in-github",
        "colab_type": "text"
      },
      "source": [
        "<a href=\"https://colab.research.google.com/github/SuhyeonHa/MatrixComputation/blob/master/Assignment05.ipynb\" target=\"_parent\"><img src=\"https://colab.research.google.com/assets/colab-badge.svg\" alt=\"Open In Colab\"/></a>"
      ]
    },
    {
      "cell_type": "markdown",
      "metadata": {
        "id": "XCMH5rVZ8fBD",
        "colab_type": "text"
      },
      "source": [
        "# Logistic regression for a binary classification\n",
        "\n",
        "#### 1. Training Data\n",
        "\n",
        "- load the training data file ('data.txt')\n",
        "- each row $\\{ (x^{(i)}, y^{(i)}, l^{(i)}) \\}$ of the data consists of a 2-dimensional point $(x, y)$ with its label $l$\n",
        "- $x, y \\in \\mathbb{R}$ and $l \\in \\{0, 1\\}$\n",
        "\n",
        "#### 2. Logistic regression\n",
        "\n",
        "- $\\hat{h} = \\sigma(z)$ \n",
        "- $z = \\theta_0 + \\theta_1 x + \\theta_2 y$, where $\\theta_0, \\theta_1, \\theta_2 \\in \\mathbb{R}$\n",
        "- $\\sigma(z) = \\frac{1}{1 + \\exp(-z)}$\n",
        "- $\\sigma^{\\prime}(z) = \\sigma(z) (1 - \\sigma(z))$\n",
        "\n",
        "#### 3. Objective Function\n",
        "\n",
        "- $J(\\theta_0, \\theta_1, \\theta_2) = \\frac{1}{m} \\sum_{i=1}^m ( - l^{(i)} \\log(\\sigma(z^{(i)})) - (1 - l^{(i)}) \\log(1 - \\sigma(z^{(i)}))  )$\n",
        "\n",
        "#### 4. Gradient Descent\n",
        "\n",
        "- $\\theta_0^{(t+1)} := \\theta_0^{(t)} - \\alpha \\frac{1}{m} \\sum_{i=1}^{m} (\\sigma(z^{(i)}) - l^{(i)})$\n",
        "- $\\theta_1^{(t+1)} := \\theta_1^{(t)} - \\alpha \\frac{1}{m} \\sum_{i=1}^{m} (\\sigma(z^{(i)}) - l^{(i)}) x^{(i)}$\n",
        "- $\\theta_2^{(t+1)} := \\theta_2^{(t)} - \\alpha \\frac{1}{m} \\sum_{i=1}^{m} (\\sigma(z^{(i)}) - l^{(i)}) y^{(i)}$\n",
        "- you should choose a learning rate $\\alpha$ in such a way that the convergence is achieved\n",
        "- you can use any initial conditions $(\\theta_0^{(0)}, \\theta_1^{(0)}, \\theta_2^{(0)})$\n",
        " \n",
        "#### 5. Training\n",
        "\n",
        "- find optimal parameters $(\\theta_0, \\theta_1, \\theta_2)$ using the training data\n",
        "\n",
        "#### 6. Visualize Classifier\n",
        "\n",
        "- visualize the obtained classifier with varying $x$ and $y$ values that range from the minimum to the maximum of the training data\n",
        "\n",
        "\n",
        "\n",
        "\n",
        "## Maching Learning Lecture\n",
        " ~ 4\n",
        "\n",
        "https://www.youtube.com/playlist?list=PLLssT5z_DsK-h9vYZkQkYNWcItqhlRJLN"
      ]
    },
    {
      "cell_type": "code",
      "metadata": {
        "colab_type": "code",
        "id": "nIGyJC2b1xH9",
        "colab": {}
      },
      "source": [
        "import numpy as np\n",
        "from matplotlib import pyplot as plt\n",
        "import csv\n",
        "\n",
        "train_path = '/content/drive/My Drive/Colab Notebooks/MatrixComputation/data_train.csv'\n",
        "test_path = '/content/drive/My Drive/Colab Notebooks/MatrixComputation/data_test.csv'\n",
        "\n",
        "train_data = []\n",
        "test_data = []\n",
        "\n",
        "with open(train_path, newline='') as myfile:\n",
        "    reader  = csv.reader(myfile, delimiter=',')\n",
        "    ct = 0\n",
        "    for i in reader:\n",
        "        # print('[', ct, ']', 'x =', i[0], ', y = ', i[1], ', z = ', i[2], ', h = ', i[3])\n",
        "        train_data.append(i[0])\n",
        "        train_data.append(i[1])\n",
        "        train_data.append(i[2])\n",
        "        train_data.append(i[3])\n",
        "        ct += 1\n",
        "    num_train = ct\n",
        "\n",
        "with open(test_path, newline='') as myfile:\n",
        "    reader  = csv.reader(myfile, delimiter=',')\n",
        "    ct = 0\n",
        "    for i in reader:\n",
        "        # print('[', ct, ']', 'x =', i[0], ', y = ', i[1], ', z = ', i[2], ', h = ', i[3])\n",
        "        test_data.append(i[0])\n",
        "        test_data.append(i[1])\n",
        "        test_data.append(i[2])\n",
        "        test_data.append(i[3])\n",
        "        ct += 1\n",
        "    num_test = ct\n",
        "\n",
        "train_data = np.reshape(train_data, (num_train, 4))\n",
        "test_data = np.reshape(test_data, (num_test, 4))"
      ],
      "execution_count": 0,
      "outputs": []
    },
    {
      "cell_type": "code",
      "metadata": {
        "id": "wXUIBkqGDvgX",
        "colab_type": "code",
        "outputId": "edabaae9-6fc9-4bca-bd31-59f7db911192",
        "colab": {
          "base_uri": "https://localhost:8080/",
          "height": 53
        }
      },
      "source": [
        "print(f'train_data {train_data.shape}')\n",
        "print(f'test_data {test_data.shape}')\n",
        "# print(f'train_data {train_data}')\n",
        "# print(f'test_data {test_data}')"
      ],
      "execution_count": 0,
      "outputs": [
        {
          "output_type": "stream",
          "text": [
            "train_data (300, 4)\n",
            "test_data (300, 4)\n"
          ],
          "name": "stdout"
        }
      ]
    },
    {
      "cell_type": "code",
      "metadata": {
        "id": "DwsJIlppt_W3",
        "colab_type": "code",
        "colab": {}
      },
      "source": [
        "train_data = train_data.astype(np.float) # string to float\n",
        "test_data = test_data.astype(np.float)\n",
        "# print(f'train_data {train_data}')\n",
        "# print(f'test_data {test_data}')"
      ],
      "execution_count": 0,
      "outputs": []
    },
    {
      "cell_type": "code",
      "metadata": {
        "id": "bWFQQ-aCZ4bj",
        "colab_type": "code",
        "outputId": "37171f87-2caf-4f5b-95a5-17e8854571ba",
        "colab": {
          "base_uri": "https://localhost:8080/",
          "height": 89
        }
      },
      "source": [
        "x = train_data[:, 0]\n",
        "y = train_data[:, 1]\n",
        "z = train_data[:, 2]\n",
        "h = train_data[:, 3]\n",
        "print(f'x.shape {x.shape}')\n",
        "print(f'y.shape {y.shape}')\n",
        "print(f'z.shape {z.shape}')\n",
        "print(f'h.shape {h.shape}')"
      ],
      "execution_count": 0,
      "outputs": [
        {
          "output_type": "stream",
          "text": [
            "x.shape (300,)\n",
            "y.shape (300,)\n",
            "z.shape (300,)\n",
            "h.shape (300,)\n"
          ],
          "name": "stdout"
        }
      ]
    },
    {
      "cell_type": "code",
      "metadata": {
        "id": "ROFVB89KP7jf",
        "colab_type": "code",
        "outputId": "0a334804-a52f-4005-d2bd-bf641ec9cd2f",
        "colab": {
          "base_uri": "https://localhost:8080/",
          "height": 89
        }
      },
      "source": [
        "x_test = test_data[:, 0]\n",
        "y_test = test_data[:, 1]\n",
        "z_test = test_data[:, 2]\n",
        "h_test = test_data[:, 3]\n",
        "print(f'x_test.shape {x_test.shape}')\n",
        "print(f'y_test.shape {y_test.shape}')\n",
        "print(f'z_test.shape {z_test.shape}')\n",
        "print(f'h_test.shape {h_test.shape}')"
      ],
      "execution_count": 0,
      "outputs": [
        {
          "output_type": "stream",
          "text": [
            "x_test.shape (300,)\n",
            "y_test.shape (300,)\n",
            "z_test.shape (300,)\n",
            "h_test.shape (300,)\n"
          ],
          "name": "stdout"
        }
      ]
    },
    {
      "cell_type": "code",
      "metadata": {
        "id": "R__BbyKf2uuV",
        "colab_type": "code",
        "colab": {}
      },
      "source": [
        "# linear regression #\n",
        "# x, y, num, theta0, theta1 -> x, y, z, num, theta0, theta1, theta2, theta3, h\n",
        "# x = i[0] y = i[1] z = i[2] h = i[3]"
      ],
      "execution_count": 0,
      "outputs": []
    },
    {
      "cell_type": "code",
      "metadata": {
        "id": "1pgYW1Bv1Yhe",
        "colab_type": "code",
        "colab": {}
      },
      "source": [
        "def pred(x, y, z, theta0, theta1, theta2, theta3):\n",
        "  h_hat = theta0 + theta1*x + theta2*y + theta3*z\n",
        "  return h_hat"
      ],
      "execution_count": 0,
      "outputs": []
    },
    {
      "cell_type": "code",
      "metadata": {
        "id": "kWryiVukzcb4",
        "colab_type": "code",
        "colab": {}
      },
      "source": [
        "def ObjFnc(num, h, h_hat): # L2-norm between h_hat and h\n",
        "  total = 0\n",
        "  diff = h - h_hat\n",
        "  sqr = diff ** 2\n",
        "  for i in range(num):\n",
        "    total += sqr[i]\n",
        "  result = total/(2*num)\n",
        "  return result"
      ],
      "execution_count": 0,
      "outputs": []
    },
    {
      "cell_type": "code",
      "metadata": {
        "id": "6R_yyTtY0-st",
        "colab_type": "code",
        "colab": {}
      },
      "source": [
        "# hyper parameters #\n",
        "theta0 = 0 # parameter initilization\n",
        "theta1 = 0\n",
        "theta2 = 0\n",
        "theta3 = 0\n",
        "itr = 3000 # step_size\n",
        "lr = 1e-6 # learning_rate\n",
        "\n",
        "cost_list = []\n",
        "theta0_list = []\n",
        "theta1_list = []\n",
        "theta2_list = []\n",
        "theta3_list = []"
      ],
      "execution_count": 0,
      "outputs": []
    },
    {
      "cell_type": "code",
      "metadata": {
        "id": "6RQq5J1i65T4",
        "colab_type": "code",
        "outputId": "23af89c4-37dc-48f1-880b-58473d707671",
        "colab": {
          "base_uri": "https://localhost:8080/",
          "height": 53
        }
      },
      "source": [
        "for i in range(itr): # gradient descent\n",
        "  h_hat_prev = pred(x, y, z, theta0, theta1, theta2, theta3)\n",
        "  # print(h_hat_prev)\n",
        "  cost_prev = ObjFnc(num_train, h, h_hat_prev)\n",
        "  cost_list.append(cost_prev)\n",
        "  theta0_list.append(theta0)\n",
        "  theta1_list.append(theta1)\n",
        "  theta2_list.append(theta2)\n",
        "  theta3_list.append(theta3)\n",
        "\n",
        "  grad_zero = np.sum(h_hat_prev - h) / num_train\n",
        "  grad_one = np.sum((h_hat_prev - h)*x) / num_train\n",
        "  grad_two = np.sum((h_hat_prev - h)*y) / num_train\n",
        "  grad_three = np.sum((h_hat_prev - h)*z) / num_train\n",
        "\n",
        "  temp0 = theta0 - lr*grad_zero\n",
        "  temp1 = theta1 - lr*grad_one\n",
        "  temp2 = theta2 - lr*grad_two\n",
        "  temp3 = theta3 - lr*grad_three\n",
        "  h_hat_next = pred(x, y, z, temp0, temp1, temp2, temp3)\n",
        "  cost_next = ObjFnc(num_train, h, h_hat_next)\n",
        "\n",
        "  if(cost_prev < cost_next): # repeat until convergence cost_prev < cost_next\n",
        "    break\n",
        "  else:\n",
        "    theta0 = temp0\n",
        "    theta1 = temp1\n",
        "    theta2 = temp2\n",
        "    theta3 = temp3\n",
        "\n",
        "final_step = i\n",
        "print(f'final_step {final_step}')\n",
        "print(f'final_cost {cost_prev}')\n",
        "# print(f'cost {cost_list}')\n",
        "# print(f'theta0 {theta0_list}')\n",
        "# print(f'theta1 {theta1_list}')"
      ],
      "execution_count": 0,
      "outputs": [
        {
          "output_type": "stream",
          "text": [
            "final_step 2999\n",
            "final_cost 486.58297701235074\n"
          ],
          "name": "stdout"
        }
      ]
    },
    {
      "cell_type": "code",
      "metadata": {
        "id": "aQpRmIuuVw-K",
        "colab_type": "code",
        "outputId": "589142cc-a0ac-4b47-e52b-eb6d16816c6f",
        "colab": {
          "base_uri": "https://localhost:8080/",
          "height": 295
        }
      },
      "source": [
        "plt.plot(range(final_step+1), theta0_list, c='k')\n",
        "plt.plot(range(final_step+1), theta1_list, c='r')\n",
        "plt.plot(range(final_step+1), theta2_list, c='g')\n",
        "plt.plot(range(final_step+1), theta3_list, c='b')\n",
        "plt.xlabel('optimization step')\n",
        "plt.ylabel('value of parameter')\n",
        "plt.title('Model parameters')\n",
        "plt.legend(['theta0', 'theta1', 'theta2', 'theta3'])\n",
        "plt.show()"
      ],
      "execution_count": 0,
      "outputs": [
        {
          "output_type": "display_data",
          "data": {
            "image/png": "[encoded data removed]",
            "text/plain": [
              "<Figure size 432x288 with 1 Axes>"
            ]
          },
          "metadata": {
            "tags": [],
            "needs_background": "light"
          }
        }
      ]
    },
    {
      "cell_type": "code",
      "metadata": {
        "id": "7_mglvguUDF3",
        "colab_type": "code",
        "outputId": "dae2093c-1644-493c-bd11-e1eb217d1200",
        "colab": {
          "base_uri": "https://localhost:8080/",
          "height": 295
        }
      },
      "source": [
        "plt.plot(range(final_step+1), cost_list, c='b')\n",
        "plt.xlabel('optimization step')\n",
        "plt.ylabel('value of obeject function')\n",
        "plt.title('Training error')\n",
        "plt.show()"
      ],
      "execution_count": 0,
      "outputs": [
        {
          "output_type": "display_data",
          "data": {
            "image/png": "[encoded data removed]",
            "text/plain": [
              "<Figure size 432x288 with 1 Axes>"
            ]
          },
          "metadata": {
            "tags": [],
            "needs_background": "light"
          }
        }
      ]
    },
    {
      "cell_type": "code",
      "metadata": {
        "id": "xceKLYEuPcTg",
        "colab_type": "code",
        "colab": {}
      },
      "source": [
        "test_cost_list = []\n",
        "for i in range(final_step+1): # test error\n",
        "  temp0 = theta0_list[i]\n",
        "  temp1 = theta1_list[i]\n",
        "  temp2 = theta2_list[i]\n",
        "  temp3 = theta3_list[i]\n",
        "\n",
        "  h_hat_test = pred(x_test, y_test, z_test, temp0, temp1, temp2, temp3)\n",
        "  cost = ObjFnc(num_test, h_test, h_hat_test)\n",
        "  test_cost_list.append(cost)"
      ],
      "execution_count": 0,
      "outputs": []
    },
    {
      "cell_type": "code",
      "metadata": {
        "id": "cZLhs2TeQxC7",
        "colab_type": "code",
        "outputId": "022a1729-ab78-476c-e306-e26da7aa1a54",
        "colab": {
          "base_uri": "https://localhost:8080/",
          "height": 295
        }
      },
      "source": [
        "plt.plot(range(final_step+1), test_cost_list, c='r')\n",
        "plt.xlabel('optimization step')\n",
        "plt.ylabel('value of obeject function')\n",
        "plt.title('Testing error')\n",
        "plt.show()"
      ],
      "execution_count": 0,
      "outputs": [
        {
          "output_type": "display_data",
          "data": {
            "image/png": "[encoded data removed]",
            "text/plain": [
              "<Figure size 432x288 with 1 Axes>"
            ]
          },
          "metadata": {
            "tags": [],
            "needs_background": "light"
          }
        }
      ]
    }
  ]
}