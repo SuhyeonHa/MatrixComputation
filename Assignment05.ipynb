{
  "nbformat": 4,
  "nbformat_minor": 0,
  "metadata": {
    "colab": {
      "name": "Assignment05.ipynb",
      "provenance": [],
      "collapsed_sections": [],
      "mount_file_id": "1MYCrz3lgfBd2wcaUfQ-QwoyCg7zPyzEC",
      "authorship_tag": "ABX9TyMmp/6P92VQYgNP7gPHcrB/",
      "include_colab_link": true
    },
    "kernelspec": {
      "name": "python3",
      "display_name": "Python 3"
    }
  },
  "cells": [
    {
      "cell_type": "markdown",
      "metadata": {
        "id": "view-in-github",
        "colab_type": "text"
      },
      "source": [
        "<a href=\"https://colab.research.google.com/github/SuhyeonHa/MatrixComputation/blob/master/Assignment05.ipynb\" target=\"_parent\"><img src=\"https://colab.research.google.com/assets/colab-badge.svg\" alt=\"Open In Colab\"/></a>"
      ]
    },
    {
      "cell_type": "markdown",
      "metadata": {
        "id": "XCMH5rVZ8fBD",
        "colab_type": "text"
      },
      "source": [
        "# Logistic regression for a binary classification\n",
        "\n",
        "#### 1. Training Data\n",
        "\n",
        "- load the training data file ('data.txt')\n",
        "- each row $\\{ (x^{(i)}, y^{(i)}, l^{(i)}) \\}$ of the data consists of a 2-dimensional point $(x, y)$ with its label $l$\n",
        "- $x, y \\in \\mathbb{R}$ and $l \\in \\{0, 1\\}$\n",
        "\n",
        "#### 2. Logistic regression\n",
        "\n",
        "- $\\hat{h} = \\sigma(z)$ \n",
        "- $z = \\theta_0 + \\theta_1 x + \\theta_2 y$, where $\\theta_0, \\theta_1, \\theta_2 \\in \\mathbb{R}$\n",
        "- $\\sigma(z) = \\frac{1}{1 + \\exp(-z)}$\n",
        "- $\\sigma^{\\prime}(z) = \\sigma(z) (1 - \\sigma(z))$\n",
        "\n",
        "#### 3. Objective Function\n",
        "\n",
        "- $J(\\theta_0, \\theta_1, \\theta_2) = \\frac{1}{m} \\sum_{i=1}^m ( - l^{(i)} \\log(\\sigma(z^{(i)})) - (1 - l^{(i)}) \\log(1 - \\sigma(z^{(i)}))  )$\n",
        "\n",
        "#### 4. Gradient Descent\n",
        "\n",
        "- $\\theta_0^{(t+1)} := \\theta_0^{(t)} - \\alpha \\frac{1}{m} \\sum_{i=1}^{m} (\\sigma(z^{(i)}) - l^{(i)})$\n",
        "- $\\theta_1^{(t+1)} := \\theta_1^{(t)} - \\alpha \\frac{1}{m} \\sum_{i=1}^{m} (\\sigma(z^{(i)}) - l^{(i)}) x^{(i)}$\n",
        "- $\\theta_2^{(t+1)} := \\theta_2^{(t)} - \\alpha \\frac{1}{m} \\sum_{i=1}^{m} (\\sigma(z^{(i)}) - l^{(i)}) y^{(i)}$\n",
        "- you should choose a learning rate $\\alpha$ in such a way that the convergence is achieved\n",
        "- you can use any initial conditions $(\\theta_0^{(0)}, \\theta_1^{(0)}, \\theta_2^{(0)})$\n",
        " \n",
        "#### 5. Training\n",
        "\n",
        "- find optimal parameters $(\\theta_0, \\theta_1, \\theta_2)$ using the training data\n",
        "\n",
        "#### 6. Visualize Classifier\n",
        "\n",
        "- visualize the obtained classifier with varying $x$ and $y$ values that range from the minimum to the maximum of the training data\n",
        "\n",
        "\n",
        "\n",
        "\n",
        "## Maching Learning Lecture\n",
        " ~ 4\n",
        "\n",
        "https://www.youtube.com/playlist?list=PLLssT5z_DsK-h9vYZkQkYNWcItqhlRJLN"
      ]
    },
    {
      "cell_type": "code",
      "metadata": {
        "colab_type": "code",
        "id": "nIGyJC2b1xH9",
        "colab": {
          "base_uri": "https://localhost:8080/",
          "height": 483
        },
        "outputId": "539b6710-021f-402f-d16c-dc489e9d29c1"
      },
      "source": [
        "import numpy as np\n",
        "from matplotlib import pyplot as plt\n",
        "\n",
        "data_path = '/content/drive/My Drive/Colab Notebooks/MatrixComputation/data.txt'\n",
        "data    = np.genfromtxt(data_path, delimiter=',')\n",
        "\n",
        "x       = data[:, 0]\n",
        "y       = data[:, 1]\n",
        "label   = data[:, 2]\n",
        "\n",
        "x_label0    = x[label == 0]\n",
        "x_label1    = x[label == 1]\n",
        "\n",
        "y_label0    = y[label == 0]\n",
        "y_label1    = y[label == 1]\n",
        "\n",
        "plt.figure(figsize=(8, 8))\n",
        "plt.scatter(x_label0, y_label0, alpha=0.3, c='b')\n",
        "plt.scatter(x_label1, y_label1, alpha=0.3, c='r')\n",
        "plt.show()"
      ],
      "execution_count": 2,
      "outputs": [
        {
          "output_type": "display_data",
          "data": {
            "image/png": "[encoded data removed]",
            "text/plain": [
              "<Figure size 576x576 with 1 Axes>"
            ]
          },
          "metadata": {
            "tags": [],
            "needs_background": "light"
          }
        }
      ]
    },
    {
      "cell_type": "code",
      "metadata": {
        "id": "LLNL1Z0AA1Pv",
        "colab_type": "code",
        "colab": {
          "base_uri": "https://localhost:8080/",
          "height": 85
        },
        "outputId": "77fc9227-3f6e-472c-9f69-bcefef906c89"
      },
      "source": [
        "SIZE_DATA = len(x)\n",
        "print(f'SIZE_DATAL {SIZE_DATA}')\n",
        "print(f'x.shape {x.shape}')\n",
        "print(f'y.shape {y.shape}')\n",
        "print(f'label.shape {label.shape}')"
      ],
      "execution_count": 19,
      "outputs": [
        {
          "output_type": "stream",
          "text": [
            "SIZE_DATAL 100\n",
            "x.shape (100,)\n",
            "y.shape (100,)\n",
            "label.shape (100,)\n"
          ],
          "name": "stdout"
        }
      ]
    },
    {
      "cell_type": "code",
      "metadata": {
        "id": "ROFVB89KP7jf",
        "colab_type": "code",
        "colab": {}
      },
      "source": [
        "def pred_sigma(z):\n",
        "  temp = 1 + np.exp(-z)\n",
        "  return 1/temp"
      ],
      "execution_count": 0,
      "outputs": []
    },
    {
      "cell_type": "code",
      "metadata": {
        "id": "21mLQB_5IdQP",
        "colab_type": "code",
        "colab": {}
      },
      "source": [
        "def pred_z(theta0, theta1, theta2, x, y):\n",
        "  return theta0 + theta1*x + theta2*y"
      ],
      "execution_count": 0,
      "outputs": []
    },
    {
      "cell_type": "code",
      "metadata": {
        "id": "d9lUmDfvGEyh",
        "colab_type": "code",
        "colab": {}
      },
      "source": [
        "def objFunc(sigma, label, num):\n",
        "  term1 = -label*np.log(sigma)\n",
        "  term2 = (1-label)*np.log(1-sigma)\n",
        "  result = np.sum(term1-term2)\n",
        "  return result/num"
      ],
      "execution_count": 0,
      "outputs": []
    },
    {
      "cell_type": "code",
      "metadata": {
        "id": "R__BbyKf2uuV",
        "colab_type": "code",
        "colab": {}
      },
      "source": [
        "# linear regression #"
      ],
      "execution_count": 0,
      "outputs": []
    },
    {
      "cell_type": "code",
      "metadata": {
        "id": "6R_yyTtY0-st",
        "colab_type": "code",
        "colab": {}
      },
      "source": [
        "# hyper parameters #\n",
        "theta0 = 0 # parameter initilization\n",
        "theta1 = 0\n",
        "theta2 = 0\n",
        "itr = 100 # step_size\n",
        "lr = 1e-4 # learning_rate\n",
        "\n",
        "cost_list = []\n",
        "theta0_list = []\n",
        "theta1_list = []\n",
        "theta2_list = []"
      ],
      "execution_count": 0,
      "outputs": []
    },
    {
      "cell_type": "code",
      "metadata": {
        "id": "6RQq5J1i65T4",
        "colab_type": "code",
        "outputId": "c2cdf6f9-20ef-4276-eb2b-61ceb083dbb0",
        "colab": {
          "base_uri": "https://localhost:8080/",
          "height": 51
        }
      },
      "source": [
        "for i in range(itr): # gradient descent\n",
        "  z = pred_z(theta0, theta1, theta2, x, y)\n",
        "  sigma = pred_sigma(z)\n",
        "  cost_prev = objFunc(sigma, label, SIZE_DATA) \n",
        "  # print(cost_prev)\n",
        "\n",
        "  cost_list.append(cost_prev)\n",
        "  theta0_list.append(theta0)\n",
        "  theta1_list.append(theta1)\n",
        "  theta2_list.append(theta2) \n",
        "\n",
        "  grad_zero = np.sum(sigma - label) / SIZE_DATA\n",
        "  grad_one = np.sum((sigma - label)*x) / SIZE_DATA\n",
        "  grad_two = np.sum((sigma - label)*y) / SIZE_DATA\n",
        "\n",
        "  temp0 = theta0 - lr*grad_zero\n",
        "  temp1 = theta1 - lr*grad_one\n",
        "  temp2 = theta2 - lr*grad_two\n",
        "\n",
        "  z = pred_z(temp0, temp1, temp2, x, y)\n",
        "  sigma = pred_sigma(z)\n",
        "  cost_next = objFunc(sigma, label, SIZE_DATA)\n",
        "  # print(cost_next)\n",
        "\n",
        "  if(cost_prev < cost_next): # repeat until convergence cost_prev < cost_next\n",
        "    break\n",
        "  else:\n",
        "    theta0 = temp0\n",
        "    theta1 = temp1\n",
        "    theta2 = temp2\n",
        "\n",
        "final_step = i\n",
        "print(f'final_step {final_step}')\n",
        "print(f'final_cost {cost_prev}')\n",
        "# print(f'cost {cost_list}')\n",
        "# print(f'theta0 {theta0_list}')\n",
        "# print(f'theta1 {theta1_list}')"
      ],
      "execution_count": 75,
      "outputs": [
        {
          "output_type": "stream",
          "text": [
            "final_step 99\n",
            "final_cost 0.6301784181708053\n"
          ],
          "name": "stdout"
        }
      ]
    },
    {
      "cell_type": "code",
      "metadata": {
        "id": "aQpRmIuuVw-K",
        "colab_type": "code",
        "outputId": "ae211b90-0996-4ccb-bdc5-ff1cf9925aa5",
        "colab": {
          "base_uri": "https://localhost:8080/",
          "height": 295
        }
      },
      "source": [
        "plt.plot(range(final_step+1), theta0_list, c='r')\n",
        "plt.plot(range(final_step+1), theta1_list, c='g')\n",
        "plt.plot(range(final_step+1), theta2_list, c='b')\n",
        "plt.xlabel('optimization step')\n",
        "plt.ylabel('value of parameter')\n",
        "plt.title('Model parameters')\n",
        "plt.legend(['theta0', 'theta1', 'theta2'])\n",
        "plt.show()"
      ],
      "execution_count": 77,
      "outputs": [
        {
          "output_type": "display_data",
          "data": {
            "image/png": "[encoded data removed]",
            "text/plain": [
              "<Figure size 432x288 with 1 Axes>"
            ]
          },
          "metadata": {
            "tags": [],
            "needs_background": "light"
          }
        }
      ]
    },
    {
      "cell_type": "code",
      "metadata": {
        "id": "7_mglvguUDF3",
        "colab_type": "code",
        "outputId": "dae2093c-1644-493c-bd11-e1eb217d1200",
        "colab": {
          "base_uri": "https://localhost:8080/",
          "height": 295
        }
      },
      "source": [
        "plt.plot(range(final_step+1), cost_list, c='b')\n",
        "plt.xlabel('optimization step')\n",
        "plt.ylabel('value of obeject function')\n",
        "plt.title('Training error')\n",
        "plt.show()"
      ],
      "execution_count": 0,
      "outputs": [
        {
          "output_type": "display_data",
          "data": {
            "image/png": "[encoded data removed]",
            "text/plain": [
              "<Figure size 432x288 with 1 Axes>"
            ]
          },
          "metadata": {
            "tags": [],
            "needs_background": "light"
          }
        }
      ]
    },
    {
      "cell_type": "code",
      "metadata": {
        "id": "xceKLYEuPcTg",
        "colab_type": "code",
        "colab": {}
      },
      "source": [
        "test_cost_list = []\n",
        "for i in range(final_step+1): # test error\n",
        "  temp0 = theta0_list[i]\n",
        "  temp1 = theta1_list[i]\n",
        "  temp2 = theta2_list[i]\n",
        "  temp3 = theta3_list[i]\n",
        "\n",
        "  h_hat_test = pred(x_test, y_test, z_test, temp0, temp1, temp2, temp3)\n",
        "  cost = ObjFnc(num_test, h_test, h_hat_test)\n",
        "  test_cost_list.append(cost)"
      ],
      "execution_count": 0,
      "outputs": []
    },
    {
      "cell_type": "code",
      "metadata": {
        "id": "cZLhs2TeQxC7",
        "colab_type": "code",
        "outputId": "022a1729-ab78-476c-e306-e26da7aa1a54",
        "colab": {
          "base_uri": "https://localhost:8080/",
          "height": 295
        }
      },
      "source": [
        "plt.plot(range(final_step+1), test_cost_list, c='r')\n",
        "plt.xlabel('optimization step')\n",
        "plt.ylabel('value of obeject function')\n",
        "plt.title('Testing error')\n",
        "plt.show()"
      ],
      "execution_count": 0,
      "outputs": [
        {
          "output_type": "display_data",
          "data": {
            "image/png": "[encoded data removed]",
            "text/plain": [
              "<Figure size 432x288 with 1 Axes>"
            ]
          },
          "metadata": {
            "tags": [],
            "needs_background": "light"
          }
        }
      ]
    }
  ]
}