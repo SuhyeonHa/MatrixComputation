{
  "nbformat": 4,
  "nbformat_minor": 0,
  "metadata": {
    "colab": {
      "name": "Assignment07.ipynb",
      "provenance": [],
      "collapsed_sections": [],
      "mount_file_id": "15vUlAfbLmVDsffLnBG8pe682MdLjQeTI",
      "authorship_tag": "ABX9TyPfjABYc4ZpbyalIThgsXCb",
      "include_colab_link": true
    },
    "kernelspec": {
      "name": "python3",
      "display_name": "Python 3"
    }
  },
  "cells": [
    {
      "cell_type": "markdown",
      "metadata": {
        "id": "view-in-github",
        "colab_type": "text"
      },
      "source": [
        "<a href=\"https://colab.research.google.com/github/SuhyeonHa/MatrixComputation/blob/master/Assignment07.ipynb\" target=\"_parent\"><img src=\"https://colab.research.google.com/assets/colab-badge.svg\" alt=\"Open In Colab\"/></a>"
      ]
    },
    {
      "cell_type": "markdown",
      "metadata": {
        "id": "XCMH5rVZ8fBD",
        "colab_type": "text"
      },
      "source": [
        "# Logistic regression for a binary classification with a regularization\n",
        "\n",
        "#### 1. Training Data\n",
        "\n",
        "- load the training data file ('data-nonlinear.txt')\n",
        "- each row $\\{ (x^{(i)}, y^{(i)}, l^{(i)}) \\}$ of the data consists of a 2-dimensional point $(x, y)$ with its label $l$\n",
        "- $x, y \\in \\mathbb{R}$ and $l \\in \\{0, 1\\}$\n",
        "\n",
        "#### 2. Logistic regression with a high dimensional feature function\n",
        "\n",
        "- $\\hat{h} = \\sigma(z)$ \n",
        "- $z = g(x, y; \\theta)$, where $g$ is a high dimensional function and $\\theta \\in \\mathbb{R}^{100}$\n",
        "- $\\theta = (\\theta_{0,0}, \\theta_{0,1}, \\cdots, \\theta_{9,9})$\n",
        "- $g(x, y ; \\theta) = \\sum_{i=0}^{9} \\sum_{j=0}^{9} \\theta_{i,j} x^{i} y^{j}$\n",
        "- $\\sigma(z) = \\frac{1}{1 + \\exp(-z)}$\n",
        "- $\\sigma^{\\prime}(z) = \\sigma(z) (1 - \\sigma(z))$\n",
        "\n",
        "#### 3. Objective Function with a regularization term\n",
        "\n",
        "- $J(\\theta) = \\frac{1}{m} \\sum_{i=1}^m \\left[ - l^{(i)} \\log(\\sigma(g(x^{(i)}, y^{(i)}; \\theta))) - (1 - l^{(i)}) \\log(1 - \\sigma(g(x^{(i)}, y^{(i)}; \\theta))) \\right] + \\frac{\\lambda}{2} \\sum_{i=0}^{9} \\sum_{j=0}^{9} \\theta_{i,j}^2$\n",
        "- the degree of regularization is determined by the control parameter $\\lambda$\n",
        "- the larger value of $\\lambda$ yields smoother classification boundary\n",
        "\n",
        "#### 4. Gradient Descent\n",
        "\n",
        "- $\\theta_{i, j}^{(t+1)} := \\theta_{i, j}^{(t)} - \\alpha \\left[ \\frac{1}{m} \\sum_{i=1}^{m} (\\sigma(g(x^{(i)}, y^{(i)}; \\theta^{(t)})) - l^{(i)}) \\frac{\\partial g(x^{(i)}, y^{(i)}; \\theta^{(t)})}{\\partial \\theta_{i, j}} + \\lambda \\theta_{i, j}^{(t)} \\right]$, for all $i, j$\n",
        "- you should choose a learning rate $\\alpha$ in such a way that the convergence is achieved\n",
        "- you can use initial conditions $\\theta_{i, j}^{(0)}$ for all $i, j$ to achieve the best accuracy\n",
        " \n",
        "#### 5. Training\n",
        "\n",
        "- find optimal parameters $\\theta$ using the training data with varying values of the regularization parameter $\\lambda$\n",
        "\n",
        "#### 6. Compute the training accuracy\n",
        "\n",
        "- the accuracy is computed by $\\frac{\\textrm{number of correct predictions}}{\\textrm{total number of predictions}}$\n",
        "- compute the accuracy with varying values of the regularization parameter $\\lambda$\n",
        "\n",
        "## Maching Learning Lecture\n",
        "\n",
        "https://www.youtube.com/playlist?list=PLLssT5z_DsK-h9vYZkQkYNWcItqhlRJLN"
      ]
    },
    {
      "cell_type": "code",
      "metadata": {
        "colab_type": "code",
        "id": "nIGyJC2b1xH9",
        "outputId": "6017bdab-68e6-41fc-bbe0-e7626322acaf",
        "colab": {
          "base_uri": "https://localhost:8080/",
          "height": 297
        }
      },
      "source": [
        "import numpy as np\n",
        "from matplotlib import pyplot as plt\n",
        "\n",
        "# np.seterr(divide='ignore', invalid='ignore')\n",
        "\n",
        "data_path = '/content/drive/My Drive/Colab Notebooks/MatrixComputation/data-nonlinear-07.txt'\n",
        "data    = np.genfromtxt(data_path, delimiter=',')\n",
        "\n",
        "pointX  = data[:, 0]\n",
        "pointY  = data[:, 1]\n",
        "label   = data[:, 2]\n",
        "\n",
        "pointX0 = pointX[label == 0]\n",
        "pointY0 = pointY[label == 0]\n",
        "\n",
        "pointX1 = pointX[label == 1]\n",
        "pointY1 = pointY[label == 1]\n",
        "\n",
        "plt.figure()\n",
        "plt.scatter(pointX0, pointY0, c='b')\n",
        "plt.scatter(pointX1, pointY1, c='r')\n",
        "plt.tight_layout()\n",
        "plt.gca().set_aspect('equal', adjustable='box')\n",
        "plt.show()"
      ],
      "execution_count": 312,
      "outputs": [
        {
          "output_type": "display_data",
          "data": {
            "image/png": "[encoded data removed]",
            "text/plain": [
              "<Figure size 432x288 with 1 Axes>"
            ]
          },
          "metadata": {
            "tags": [],
            "needs_background": "light"
          }
        }
      ]
    },
    {
      "cell_type": "code",
      "metadata": {
        "id": "rU88PDFFIGHT",
        "colab_type": "code",
        "colab": {
          "base_uri": "https://localhost:8080/",
          "height": 297
        },
        "outputId": "8b5a81de-2f5a-412c-8334-19f20e3dc4fc"
      },
      "source": [
        "def normalize_data(X):\n",
        "    mean = np.mean(X, axis=0)\n",
        "    std = np.std(X, axis=0)\n",
        "    return (X-mean) / std\n",
        "\n",
        "pointX = normalize_data(pointX)\n",
        "pointY = normalize_data(pointY)\n",
        "\n",
        "# float64 -> float128\n",
        "pointX.astype(np.float128)\n",
        "pointY.astype(np.float128)\n",
        "\n",
        "# normalized data representation\n",
        "pointX0 = pointX[label == 0]\n",
        "pointY0 = pointY[label == 0]\n",
        "\n",
        "pointX1 = pointX[label == 1]\n",
        "pointY1 = pointY[label == 1]\n",
        "\n",
        "plt.figure()\n",
        "plt.scatter(pointX0, pointY0, c='b')\n",
        "plt.scatter(pointX1, pointY1, c='r')\n",
        "plt.tight_layout()\n",
        "plt.gca().set_aspect('equal', adjustable='box')\n",
        "plt.show()"
      ],
      "execution_count": 314,
      "outputs": [
        {
          "output_type": "display_data",
          "data": {
            "image/png": "[encoded data removed]",
            "text/plain": [
              "<Figure size 432x288 with 1 Axes>"
            ]
          },
          "metadata": {
            "tags": [],
            "needs_background": "light"
          }
        }
      ]
    },
    {
      "cell_type": "code",
      "metadata": {
        "id": "LLNL1Z0AA1Pv",
        "colab_type": "code",
        "outputId": "649d5ce0-669f-4bf7-c882-fbe47c139b11",
        "colab": {
          "base_uri": "https://localhost:8080/",
          "height": 85
        }
      },
      "source": [
        "SIZE_DATA = len(pointX)\n",
        "print(f'SIZE_DATA {SIZE_DATA}')\n",
        "print(f'x.shape {pointX.shape}')\n",
        "print(f'y.shape {pointY.shape}')\n",
        "print(f'label.shape {label.shape}')"
      ],
      "execution_count": 315,
      "outputs": [
        {
          "output_type": "stream",
          "text": [
            "SIZE_DATA 118\n",
            "x.shape (118,)\n",
            "y.shape (118,)\n",
            "label.shape (118,)\n"
          ],
          "name": "stdout"
        }
      ]
    },
    {
      "cell_type": "code",
      "metadata": {
        "id": "ROFVB89KP7jf",
        "colab_type": "code",
        "colab": {}
      },
      "source": [
        "def pred_sigma(z):\n",
        "  temp = 1 + np.exp(-z)\n",
        "  np.nan_to_num(temp, copy=False) # makes nan to min, inf to max\n",
        "  return 1./temp"
      ],
      "execution_count": 0,
      "outputs": []
    },
    {
      "cell_type": "code",
      "metadata": {
        "id": "21mLQB_5IdQP",
        "colab_type": "code",
        "colab": {}
      },
      "source": [
        "def pred_z(theta, x, y):\n",
        "  total = 0\n",
        "  for i in range(10):\n",
        "    for j in range(10):\n",
        "      total = total + theta[i][j]*(np.power(x, i))*(np.power(y, j))\n",
        "  # print(f'total {total}')\n",
        "  return total"
      ],
      "execution_count": 0,
      "outputs": []
    },
    {
      "cell_type": "code",
      "metadata": {
        "id": "d9lUmDfvGEyh",
        "colab_type": "code",
        "colab": {}
      },
      "source": [
        "def objFunc(sigma, label, num, theta, l): # = J(theta)\n",
        "  term1 = -label*np.log(sigma)\n",
        "  term2 = (1-label)*np.log(1-sigma)\n",
        "  np.nan_to_num(term1, copy=False)\n",
        "  np.nan_to_num(term2, copy=False)\n",
        "  term3 = (np.sum(theta**2, dtype=np.float128)*l)/2\n",
        "  # print(f'term1 {term1}')\n",
        "  # print(f'term2 {term2}')\n",
        "  # print(f'term3 {term3}')\n",
        "  result = np.mean((term1-term2), dtype=np.float128)\n",
        "  # print(f'sum1 {result}')\n",
        "  result = result + term3\n",
        "  # print(f'result {result}')\n",
        "  return result"
      ],
      "execution_count": 0,
      "outputs": []
    },
    {
      "cell_type": "code",
      "metadata": {
        "id": "P03rmay40Mmr",
        "colab_type": "code",
        "colab": {}
      },
      "source": [
        "def accuracy(pred_label, label):\n",
        "  count = 0\n",
        "  num = len(pred_label)\n",
        "  for i in range(num):\n",
        "    if pred_label[i]==label[i]:\n",
        "      count = count+1\n",
        "  return count/num"
      ],
      "execution_count": 0,
      "outputs": []
    },
    {
      "cell_type": "code",
      "metadata": {
        "id": "az8167OJ0vqY",
        "colab_type": "code",
        "colab": {}
      },
      "source": [
        "def sigma2label(sigma):\n",
        "  pred_label = np.empty_like(sigma)\n",
        "  for i in range(len(sigma)):\n",
        "    if sigma[i] > 0.5:\n",
        "      pred_label[i] = 1\n",
        "    else:\n",
        "      pred_label[i] = 0\n",
        "  return pred_label"
      ],
      "execution_count": 0,
      "outputs": []
    },
    {
      "cell_type": "code",
      "metadata": {
        "id": "R__BbyKf2uuV",
        "colab_type": "code",
        "colab": {}
      },
      "source": [
        "# Logistic regression #"
      ],
      "execution_count": 0,
      "outputs": []
    },
    {
      "cell_type": "code",
      "metadata": {
        "id": "HEaEUqP5gyL2",
        "colab_type": "code",
        "colab": {}
      },
      "source": [
        "# # hyper parameters #\n",
        "# SIZE_THETA = (10, 10)\n",
        "# theta = np.ones(SIZE_THETA, dtype=float) # initiate every theta as zero\n",
        "# grad = np.ones(SIZE_THETA, dtype=float)\n",
        "\n",
        "# cost_list = []\n",
        "# theta_list = []\n",
        "# accuracy_list = []\n",
        "\n",
        "# z = pred_z(theta, pointX, pointY)\n",
        "# sigma = pred_sigma(z)\n",
        "# cost_prev = objFunc(sigma, label, SIZE_DATA, theta, l)\n",
        "# print(cost_prev)\n",
        "\n",
        "# # check accuracy\n",
        "# pred_label = sigma2label(sigma)\n",
        "# accr = accuracy(pred_label, label)\n",
        "# accuracy_list.append(accr)"
      ],
      "execution_count": 0,
      "outputs": []
    },
    {
      "cell_type": "code",
      "metadata": {
        "id": "6RQq5J1i65T4",
        "colab_type": "code",
        "colab": {}
      },
      "source": [
        "def gradDescent(l, pointX, pointY, SIZE_DATA, label):\n",
        "  # hyper parameters #\n",
        "  SIZE_THETA = (10, 10)\n",
        "  theta = np.ones(SIZE_THETA, dtype=np.float128) # initiate every theta as zero\n",
        "  grad = np.ones(SIZE_THETA, dtype=np.float128)\n",
        "  itr = 100 # step_size\n",
        "  lr = 1e-2 # learning_rate\n",
        "\n",
        "  cost_list = []\n",
        "  theta_list = []\n",
        "  accuracy_list = []\n",
        "\n",
        "  for r in range(itr):\n",
        "    z = pred_z(theta, pointX, pointY)\n",
        "    sigma = pred_sigma(z)\n",
        "    cost_prev = objFunc(sigma, label, SIZE_DATA, theta, l)\n",
        "    # print(cost_prev)\n",
        "\n",
        "    # check accuracy\n",
        "    pred_label = sigma2label(sigma)\n",
        "    accr = accuracy(pred_label, label)\n",
        "    accuracy_list.append(accr)\n",
        "\n",
        "    cost_list.append(cost_prev)\n",
        "    theta_list.append(theta)\n",
        "\n",
        "    for i in range(10):\n",
        "      for j in range(10):\n",
        "        temp = np.power(pointX, i)@np.power(pointY, j)\n",
        "        if i == 0 and j == 0:    \n",
        "          grad[i][j] = np.mean(sigma - label, dtype=np.float128)*temp\n",
        "        else:\n",
        "          grad[i][j] = np.mean(sigma - label, dtype=np.float128)*temp+(l*theta[i][j])/SIZE_DATA\n",
        "    \n",
        "    # print(grad)\n",
        "    temp = theta - lr*grad\n",
        "\n",
        "    z = pred_z(temp, pointX, pointY)\n",
        "    sigma = pred_sigma(z)\n",
        "    cost_next = objFunc(sigma, label, SIZE_DATA, theta, l)\n",
        "    # print(cost_next)\n",
        "\n",
        "    if(cost_prev < cost_next): # repeat until convergence cost_prev < cost_next\n",
        "      break\n",
        "    else:\n",
        "      theta = temp\n",
        "\n",
        "  print(f'lambda {l}')\n",
        "  final_step = r\n",
        "  final_theta = theta_list[-1]\n",
        "  final_accr = accuracy_list[-1]\n",
        "  print(f'final_step {final_step}')\n",
        "  print(f'final_cost {cost_prev}')\n",
        "  # print(f'cost {cost_list}')\n",
        "  # print(f'theta {final_theta}')\n",
        "  print(f'final_accuracy {final_accr}')\n",
        "  # print(f'accuracy {accuracy_list}')\n",
        "  # print(sigma)\n",
        "  print(pred_label)\n",
        "\n",
        "  return l, final_step, final_theta, cost_list, accuracy_list\n",
        "\n",
        "# lambda value, training error, training accuracy, final training accuracy(%), plot"
      ],
      "execution_count": 0,
      "outputs": []
    },
    {
      "cell_type": "code",
      "metadata": {
        "id": "b4oLn6CWr15o",
        "colab_type": "code",
        "colab": {
          "base_uri": "https://localhost:8080/",
          "height": 204
        },
        "outputId": "83243103-755b-420a-e828-7f509fa2c400"
      },
      "source": [
        "# demonstration for over-fitting\n",
        "result_1 = gradDescent(0, pointX, pointY, SIZE_DATA, label)"
      ],
      "execution_count": 331,
      "outputs": [
        {
          "output_type": "stream",
          "text": [
            "/usr/local/lib/python3.6/dist-packages/ipykernel_launcher.py:2: RuntimeWarning: overflow encountered in exp\n",
            "  \n"
          ],
          "name": "stderr"
        },
        {
          "output_type": "stream",
          "text": [
            "lambda 0\n",
            "final_step 99\n",
            "final_cost 2.7422437650442104e+307\n",
            "final_accuracy 0.5677966101694916\n",
            "[1. 1. 1. 1. 0. 0. 0. 0. 0. 0. 0. 0. 0. 0. 1. 1. 1. 1. 1. 0. 0. 0. 0. 0.\n",
            " 0. 0. 0. 0. 1. 1. 1. 1. 1. 1. 1. 1. 0. 1. 1. 0. 1. 1. 0. 1. 1. 1. 1. 1.\n",
            " 1. 1. 1. 1. 1. 1. 1. 0. 1. 0. 1. 1. 1. 1. 1. 1. 1. 1. 1. 1. 0. 0. 0. 0.\n",
            " 0. 0. 0. 0. 0. 0. 0. 0. 0. 0. 1. 0. 1. 0. 0. 0. 0. 0. 0. 0. 1. 1. 1. 1.\n",
            " 1. 1. 1. 1. 1. 0. 0. 0. 0. 1. 0. 1. 0. 1. 1. 0. 0. 0. 0. 0. 1. 1.]\n"
          ],
          "name": "stdout"
        }
      ]
    },
    {
      "cell_type": "code",
      "metadata": {
        "id": "6JiSwr7Dr533",
        "colab_type": "code",
        "colab": {
          "base_uri": "https://localhost:8080/",
          "height": 204
        },
        "outputId": "6ede8b57-a35e-469c-c7a9-29407d3556cd"
      },
      "source": [
        "# demonstration for just-right\n",
        "result_2 = gradDescent(150, pointX, pointY, SIZE_DATA, label)"
      ],
      "execution_count": 332,
      "outputs": [
        {
          "output_type": "stream",
          "text": [
            "/usr/local/lib/python3.6/dist-packages/ipykernel_launcher.py:2: RuntimeWarning: overflow encountered in exp\n",
            "  \n"
          ],
          "name": "stderr"
        },
        {
          "output_type": "stream",
          "text": [
            "lambda 150\n",
            "final_step 76\n",
            "final_cost 1.980509385865263e+307\n",
            "final_accuracy 0.6186440677966102\n",
            "[1. 1. 1. 1. 0. 0. 1. 1. 0. 0. 0. 0. 0. 0. 1. 1. 1. 1. 1. 0. 0. 0. 0. 1.\n",
            " 0. 0. 0. 0. 1. 1. 1. 1. 1. 1. 1. 1. 1. 1. 1. 0. 1. 0. 0. 1. 1. 1. 1. 1.\n",
            " 1. 1. 1. 1. 1. 1. 1. 1. 1. 1. 1. 1. 1. 1. 1. 1. 1. 1. 0. 0. 0. 0. 0. 0.\n",
            " 0. 0. 0. 0. 0. 0. 0. 0. 0. 0. 1. 1. 1. 0. 0. 0. 0. 0. 0. 0. 1. 1. 1. 1.\n",
            " 1. 1. 1. 1. 1. 0. 0. 0. 0. 1. 0. 1. 0. 1. 1. 1. 0. 0. 0. 0. 1. 0.]\n"
          ],
          "name": "stdout"
        }
      ]
    },
    {
      "cell_type": "code",
      "metadata": {
        "id": "JQpRIqyTtvM-",
        "colab_type": "code",
        "colab": {
          "base_uri": "https://localhost:8080/",
          "height": 204
        },
        "outputId": "24e8871d-834d-4314-a782-3245f441ce80"
      },
      "source": [
        "# demonstration for under-fitting\n",
        "result_3 = gradDescent(1000, pointX, pointY, SIZE_DATA, label)"
      ],
      "execution_count": 333,
      "outputs": [
        {
          "output_type": "stream",
          "text": [
            "lambda 1000\n",
            "final_step 10\n",
            "final_cost 1.980509385865263e+307\n",
            "final_accuracy 0.6101694915254238\n",
            "[1. 1. 1. 1. 0. 0. 1. 1. 0. 0. 0. 0. 0. 0. 1. 1. 1. 1. 1. 0. 0. 0. 0. 1.\n",
            " 0. 0. 0. 0. 1. 1. 1. 1. 1. 1. 1. 1. 1. 1. 1. 0. 1. 0. 0. 1. 1. 1. 1. 1.\n",
            " 1. 1. 1. 1. 1. 1. 1. 0. 1. 1. 1. 1. 1. 1. 1. 1. 1. 1. 0. 0. 0. 0. 0. 0.\n",
            " 0. 0. 0. 0. 0. 0. 0. 0. 0. 0. 1. 1. 1. 0. 0. 0. 0. 0. 0. 0. 1. 1. 1. 1.\n",
            " 1. 1. 1. 1. 1. 0. 0. 0. 0. 1. 0. 1. 0. 1. 1. 1. 0. 0. 0. 0. 1. 0.]\n"
          ],
          "name": "stdout"
        },
        {
          "output_type": "stream",
          "text": [
            "/usr/local/lib/python3.6/dist-packages/ipykernel_launcher.py:2: RuntimeWarning: overflow encountered in exp\n",
            "  \n"
          ],
          "name": "stderr"
        }
      ]
    },
    {
      "cell_type": "code",
      "metadata": {
        "id": "iRAMKv37WQCL",
        "colab_type": "code",
        "colab": {
          "base_uri": "https://localhost:8080/",
          "height": 281
        },
        "outputId": "3efe61bd-3ff1-4e06-cf80-5486f9309a5c"
      },
      "source": [
        "plt.scatter(0, result_1[0], c='r')\n",
        "plt.scatter(0, result_2[0], c='g')\n",
        "plt.scatter(0, result_3[0], c='b')\n",
        "plt.ylabel('lambda')\n",
        "plt.title('Values of the chosen lambda')\n",
        "plt.legend(['over-fitting', 'just-right', 'under-fitting'])\n",
        "plt.show()"
      ],
      "execution_count": 334,
      "outputs": [
        {
          "output_type": "display_data",
          "data": {
            "image/png": "[encoded data removed]",
            "text/plain": [
              "<Figure size 432x288 with 1 Axes>"
            ]
          },
          "metadata": {
            "tags": [],
            "needs_background": "light"
          }
        }
      ]
    },
    {
      "cell_type": "code",
      "metadata": {
        "id": "7_mglvguUDF3",
        "colab_type": "code",
        "outputId": "b5b61ce1-a338-4017-c915-d6c6fe774f70",
        "colab": {
          "base_uri": "https://localhost:8080/",
          "height": 295
        }
      },
      "source": [
        "plt.plot(range(result_1[1]+1), result_1[3], c='r')\n",
        "plt.plot(range(result_2[1]+1), result_2[3], c='g')\n",
        "plt.plot(range(result_3[1]+1), result_3[3], c='b')\n",
        "plt.xlabel('optimization step')\n",
        "plt.ylabel('value of obeject function')\n",
        "plt.title('Training error')\n",
        "plt.show()"
      ],
      "execution_count": 337,
      "outputs": [
        {
          "output_type": "display_data",
          "data": {
            "image/png": "[encoded data removed]",
            "text/plain": [
              "<Figure size 432x288 with 1 Axes>"
            ]
          },
          "metadata": {
            "tags": [],
            "needs_background": "light"
          }
        }
      ]
    },
    {
      "cell_type": "code",
      "metadata": {
        "id": "oDh9sQK12xDr",
        "colab_type": "code",
        "outputId": "d8f81249-aa6c-44d1-8423-0ec0c01175f0",
        "colab": {
          "base_uri": "https://localhost:8080/",
          "height": 295
        }
      },
      "source": [
        "plt.plot(range(final_step+1), accuracy_list, c='r')\n",
        "plt.xlabel('optimization step')\n",
        "plt.ylabel('score')\n",
        "plt.title('Training accuracy')\n",
        "plt.show()"
      ],
      "execution_count": 0,
      "outputs": [
        {
          "output_type": "display_data",
          "data": {
            "image/png": "[encoded data removed]",
            "text/plain": [
              "<Figure size 432x288 with 1 Axes>"
            ]
          },
          "metadata": {
            "tags": [],
            "needs_background": "light"
          }
        }
      ]
    },
    {
      "cell_type": "code",
      "metadata": {
        "id": "rMOEYOQS3vIj",
        "colab_type": "code",
        "outputId": "6fb2386d-0a30-4e63-d393-c991037cb8de",
        "colab": {
          "base_uri": "https://localhost:8080/",
          "height": 35
        }
      },
      "source": [
        "print('The final training accuracy is {:.1%}'.format(final_accr))"
      ],
      "execution_count": 0,
      "outputs": [
        {
          "output_type": "stream",
          "text": [
            "The final training accuracy is 77.1%\n"
          ],
          "name": "stdout"
        }
      ]
    },
    {
      "cell_type": "code",
      "metadata": {
        "id": "oJ528xEznYuV",
        "colab_type": "code",
        "outputId": "40ea5874-20c7-4948-f388-861a251e8ab3",
        "colab": {
          "base_uri": "https://localhost:8080/",
          "height": 161
        }
      },
      "source": [
        "x_test = np.arange(-2.0, 2.0, 0.1)\n",
        "y_test = np.arange(-2.0, 2.0, 0.1)\n",
        "x_test = normalize_data(x_test)\n",
        "y_test = normalize_data(y_test)\n",
        "\n",
        "X, Y = np.meshgrid(x_test, y_test)\n",
        "test_z = pred_z(final_theta, X, Y)\n",
        "bound_z = np.empty_like(test_z)\n",
        "print(bound_z.shape)\n",
        "for i in range(len(X)):\n",
        "  for j in range(len(Y)):\n",
        "      bound_z[i][j] = int(test_z[i][j])\n",
        "      # if bound_z[i][j] != 0:\n",
        "      #   bound_z[i][j] = 0.1\n",
        "print(bound_z)"
      ],
      "execution_count": 0,
      "outputs": [
        {
          "output_type": "stream",
          "text": [
            "(40, 40)\n",
            "[[-5. -4. -4. ... -4. -4. -5.]\n",
            " [-5. -4. -4. ... -4. -4. -5.]\n",
            " [-4. -4. -3. ... -3. -4. -4.]\n",
            " ...\n",
            " [-4. -4. -3. ... -3. -4. -4.]\n",
            " [-5. -4. -4. ... -4. -4. -5.]\n",
            " [-5. -4. -4. ... -4. -4. -5.]]\n"
          ],
          "name": "stdout"
        }
      ]
    },
    {
      "cell_type": "code",
      "metadata": {
        "id": "YIa50sQp6z78",
        "colab_type": "code",
        "outputId": "8cb19eb4-830a-4cf8-aac4-7c734ee3f44b",
        "colab": {
          "base_uri": "https://localhost:8080/",
          "height": 283
        }
      },
      "source": [
        "pointX0 = pointX[pred_label == 0]\n",
        "pointY0 = pointY[pred_label == 0]\n",
        "\n",
        "pointX1 = pointX[pred_label == 1]\n",
        "pointY1 = pointY[pred_label == 1]\n",
        "\n",
        "fig, ax = plt.subplots()\n",
        "CS = ax.contour(X, Y, test_z, levels=[1.], colors='g')\n",
        "ax.scatter(pointX0, pointY0, c='b')\n",
        "ax.scatter(pointX1, pointY1, c='r')"
      ],
      "execution_count": 0,
      "outputs": [
        {
          "output_type": "execute_result",
          "data": {
            "text/plain": [
              "<matplotlib.collections.PathCollection at 0x7f2db0e8ba20>"
            ]
          },
          "metadata": {
            "tags": []
          },
          "execution_count": 274
        },
        {
          "output_type": "display_data",
          "data": {
            "image/png": "[encoded data removed]",
            "text/plain": [
              "<Figure size 432x288 with 1 Axes>"
            ]
          },
          "metadata": {
            "tags": [],
            "needs_background": "light"
          }
        }
      ]
    },
    {
      "cell_type": "code",
      "metadata": {
        "id": "xfIymnacQH4F",
        "colab_type": "code",
        "colab": {}
      },
      "source": [
        ""
      ],
      "execution_count": 0,
      "outputs": []
    }
  ]
}