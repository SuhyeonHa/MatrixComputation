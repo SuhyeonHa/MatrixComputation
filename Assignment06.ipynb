{
  "nbformat": 4,
  "nbformat_minor": 0,
  "metadata": {
    "colab": {
      "name": "Assignment06.ipynb",
      "provenance": [],
      "collapsed_sections": [],
      "mount_file_id": "1YmbVHPNjclXz2dotX5_GHoRCP-e8EgfP",
      "authorship_tag": "ABX9TyNG0eWtC2AI+hRZsAV1Xx+o",
      "include_colab_link": true
    },
    "kernelspec": {
      "name": "python3",
      "display_name": "Python 3"
    }
  },
  "cells": [
    {
      "cell_type": "markdown",
      "metadata": {
        "id": "view-in-github",
        "colab_type": "text"
      },
      "source": [
        "<a href=\"https://colab.research.google.com/github/SuhyeonHa/MatrixComputation/blob/master/Assignment06.ipynb\" target=\"_parent\"><img src=\"https://colab.research.google.com/assets/colab-badge.svg\" alt=\"Open In Colab\"/></a>"
      ]
    },
    {
      "cell_type": "markdown",
      "metadata": {
        "id": "XCMH5rVZ8fBD",
        "colab_type": "text"
      },
      "source": [
        "# Logistic regression for a binary classification with a non-linear classification boundary\n",
        "\n",
        "#### 1. Training Data\n",
        "\n",
        "- load the training data file ('data-nonlinear.txt')\n",
        "- each row $\\{ (x^{(i)}, y^{(i)}, l^{(i)}) \\}$ of the data consists of a 2-dimensional point $(x, y)$ with its label $l$\n",
        "- $x, y \\in \\mathbb{R}$ and $l \\in \\{0, 1\\}$\n",
        "\n",
        "#### 2. Logistic regression\n",
        "\n",
        "- $\\hat{h} = \\sigma(z)$ \n",
        "- $z = g(x, y; \\theta)$, where $g$ is a high dimensional function and $\\theta \\in \\mathbb{R}^{k}$\n",
        "- $\\theta = (\\theta_{0}, \\theta_{1}, \\cdots, \\theta_{k-1})$\n",
        "- $g(x, y ; \\theta) = \\theta_{0} f_{0}(x, y) + \\theta_{1} f_{1}(x, y) + \\cdots + \\theta_{k-1} f_{k-1}(x, y)$\n",
        "- $f_{k}(x, y)$ be any high dimensional function of $x$ and $y$\n",
        "- $\\sigma(z) = \\frac{1}{1 + \\exp(-z)}$\n",
        "- $\\sigma^{\\prime}(z) = \\sigma(z) (1 - \\sigma(z))$\n",
        "- the dimension $k$ of $\\theta$ can be 16, but it can be less than that. you can choose $k$ for the best performance\n",
        "\n",
        "#### 3. Objective Function\n",
        "\n",
        "- $J(\\theta) = \\frac{1}{m} \\sum_{i=1}^m ( - l^{(i)} \\log(\\sigma(g(x^{(i)}, y^{(i)}; \\theta))) - (1 - l^{(i)}) \\log(1 - \\sigma(g(x^{(i)}, y^{(i)}; \\theta)))  )$\n",
        "\n",
        "#### 4. Gradient Descent\n",
        "\n",
        "- $\\theta_{k}^{(t+1)} := \\theta_0^{(t)} - \\alpha \\frac{1}{m} \\sum_{i=1}^{m} (\\sigma(g(x^{(i)}, y^{(i)}; \\theta)) - l^{(i)}) \\frac{\\partial g(x^{(i)}, y^{(i)}; \\theta^{(t)})}{\\partial \\theta_{k}}$, for all $k$\n",
        "- you should choose a learning rate $\\alpha$ in such a way that the convergence is achieved\n",
        "- you can use any initial conditions $\\theta_k^{(0)}$ for all $k$\n",
        "\n",
        " \n",
        "#### 5. Training\n",
        "\n",
        "- find optimal parameters $\\theta$ using the training data\n",
        "\n",
        "#### 6. Compute the training accuracy\n",
        "\n",
        "- the accuracy is computed by $\\frac{\\textrm{number of correct predictions}}{\\textrm{total number of predictions}}$\n",
        "\n",
        "\n",
        "\n",
        "## Maching Learning Lecture\n",
        "\n",
        "https://www.youtube.com/playlist?list=PLLssT5z_DsK-h9vYZkQkYNWcItqhlRJLN"
      ]
    },
    {
      "cell_type": "code",
      "metadata": {
        "colab_type": "code",
        "id": "nIGyJC2b1xH9",
        "outputId": "564dbfc1-f246-4735-9348-4830e12e9025",
        "colab": {
          "base_uri": "https://localhost:8080/",
          "height": 297
        }
      },
      "source": [
        "import numpy as np\n",
        "from matplotlib import pyplot as plt\n",
        "\n",
        "data_path = '/content/drive/My Drive/Colab Notebooks/MatrixComputation/data-nonlinear.txt'\n",
        "data    = np.genfromtxt(data_path, delimiter=',')\n",
        "\n",
        "pointX  = data[:, 0]\n",
        "pointY  = data[:, 1]\n",
        "label   = data[:, 2]\n",
        "\n",
        "pointX0 = pointX[label == 0]\n",
        "pointY0 = pointY[label == 0]\n",
        "\n",
        "pointX1 = pointX[label == 1]\n",
        "pointY1 = pointY[label == 1]\n",
        "\n",
        "plt.figure()\n",
        "plt.scatter(pointX0, pointY0, c='b')\n",
        "plt.scatter(pointX1, pointY1, c='r')\n",
        "plt.tight_layout()\n",
        "plt.gca().set_aspect('equal', adjustable='box')\n",
        "plt.show()\n"
      ],
      "execution_count": 105,
      "outputs": [
        {
          "output_type": "display_data",
          "data": {
            "image/png": "[encoded data removed]",
            "text/plain": [
              "<Figure size 432x288 with 1 Axes>"
            ]
          },
          "metadata": {
            "tags": [],
            "needs_background": "light"
          }
        }
      ]
    },
    {
      "cell_type": "code",
      "metadata": {
        "id": "rU88PDFFIGHT",
        "colab_type": "code",
        "colab": {}
      },
      "source": [
        "def normalize_data(X):\n",
        "    mean = np.mean(X, axis=0)\n",
        "    std = np.std(X, axis=0)\n",
        "    return (X-mean) / std\n",
        "\n",
        "pointX = normalize_data(pointX)\n",
        "pointY = normalize_data(pointY)"
      ],
      "execution_count": 0,
      "outputs": []
    },
    {
      "cell_type": "code",
      "metadata": {
        "id": "LLNL1Z0AA1Pv",
        "colab_type": "code",
        "outputId": "02f715ba-76a0-4a6d-cb91-5e6fa709874f",
        "colab": {
          "base_uri": "https://localhost:8080/",
          "height": 89
        }
      },
      "source": [
        "SIZE_DATA = len(pointX)\n",
        "print(f'SIZE_DATA {SIZE_DATA}')\n",
        "print(f'x.shape {pointX.shape}')\n",
        "print(f'y.shape {pointY.shape}')\n",
        "print(f'label.shape {label.shape}')"
      ],
      "execution_count": 107,
      "outputs": [
        {
          "output_type": "stream",
          "text": [
            "SIZE_DATA 118\n",
            "x.shape (118,)\n",
            "y.shape (118,)\n",
            "label.shape (118,)\n"
          ],
          "name": "stdout"
        }
      ]
    },
    {
      "cell_type": "markdown",
      "metadata": {
        "id": "PCd4x7Nedyta",
        "colab_type": "text"
      },
      "source": [
        "I defined $g(x, y ; \\theta)$ and $f_{k-1}(x, y)$ as below.\n",
        "- $g(x, y ; \\theta) = \\theta_{0} f_{0}(x, y) + \\theta_{1} f_{1}(x, y) + \\cdots + \\theta_{k-1} f_{k-1}(x, y)$\n",
        "- $f_{0}(x, y)=1$\n",
        "- $f_{1}(x, y)=x^{2}$\n",
        "- $f_{2}(x, y)=y^{2}$"
      ]
    },
    {
      "cell_type": "code",
      "metadata": {
        "id": "ROFVB89KP7jf",
        "colab_type": "code",
        "colab": {}
      },
      "source": [
        "def pred_sigma(z):\n",
        "  temp = 1 + np.exp(-z)\n",
        "  return 1./temp"
      ],
      "execution_count": 0,
      "outputs": []
    },
    {
      "cell_type": "code",
      "metadata": {
        "id": "21mLQB_5IdQP",
        "colab_type": "code",
        "colab": {}
      },
      "source": [
        "def pred_z(theta, x, y):\n",
        "  return theta[0]+theta[1]*(x**2)+theta[2]*(y**2)"
      ],
      "execution_count": 0,
      "outputs": []
    },
    {
      "cell_type": "code",
      "metadata": {
        "id": "d9lUmDfvGEyh",
        "colab_type": "code",
        "colab": {}
      },
      "source": [
        "def objFunc(sigma, label, num):\n",
        "  term1 = -label*np.log(sigma)\n",
        "  term2 = (1-label)*np.log(1-sigma)\n",
        "  result = np.mean(term1-term2)\n",
        "  return result"
      ],
      "execution_count": 0,
      "outputs": []
    },
    {
      "cell_type": "code",
      "metadata": {
        "id": "P03rmay40Mmr",
        "colab_type": "code",
        "colab": {}
      },
      "source": [
        "def accuracy(pred_label, label):\n",
        "  count = 0\n",
        "  num = len(pred_label)\n",
        "  for i in range(num):\n",
        "    if pred_label[i]==label[i]:\n",
        "      count = count+1\n",
        "  return count/num"
      ],
      "execution_count": 0,
      "outputs": []
    },
    {
      "cell_type": "code",
      "metadata": {
        "id": "az8167OJ0vqY",
        "colab_type": "code",
        "colab": {}
      },
      "source": [
        "def sigma2label(sigma):\n",
        "  pred_label = np.empty_like(sigma)\n",
        "  for i in range(len(sigma)):\n",
        "    if sigma[i] > 0.5:\n",
        "      pred_label[i] = 1\n",
        "    else:\n",
        "      pred_label[i] = 0\n",
        "  return pred_label"
      ],
      "execution_count": 0,
      "outputs": []
    },
    {
      "cell_type": "code",
      "metadata": {
        "id": "R__BbyKf2uuV",
        "colab_type": "code",
        "colab": {}
      },
      "source": [
        "# Logistic regression #"
      ],
      "execution_count": 0,
      "outputs": []
    },
    {
      "cell_type": "code",
      "metadata": {
        "id": "6R_yyTtY0-st",
        "colab_type": "code",
        "colab": {}
      },
      "source": [
        "# hyper parameters #\n",
        "num_k = 3\n",
        "theta = np.full(num_k, 1, dtype=float) # initiate every theta as zero\n",
        "grad = np.full(num_k, 0, dtype=float)\n",
        "itr = 1000 # step_size\n",
        "lr = 1e-1 # learning_rate\n",
        "\n",
        "cost_list = []\n",
        "theta_list = []\n",
        "accuracy_list = []"
      ],
      "execution_count": 0,
      "outputs": []
    },
    {
      "cell_type": "code",
      "metadata": {
        "id": "6RQq5J1i65T4",
        "colab_type": "code",
        "outputId": "d8f79671-8fe8-4805-d554-aa6b961e230b",
        "colab": {
          "base_uri": "https://localhost:8080/",
          "height": 89
        }
      },
      "source": [
        "for i in range(itr): # gradient descent\n",
        "  z = pred_z(theta, pointX, pointY)\n",
        "  sigma = pred_sigma(z)\n",
        "  cost_prev = objFunc(sigma, label, SIZE_DATA) \n",
        "  # print(cost_prev)\n",
        "\n",
        "  # check accuracy\n",
        "  pred_label = sigma2label(sigma)\n",
        "  accr = accuracy(pred_label, label)\n",
        "  accuracy_list.append(accr)\n",
        "\n",
        "  cost_list.append(cost_prev)\n",
        "  theta_list.append(theta)\n",
        "\n",
        "  grad[0] = np.mean(sigma - label)\n",
        "  temp1 = (pointX**2)+theta[1]*2*pointX\n",
        "  grad[1] = np.mean((sigma - label)*temp1)\n",
        "  temp2 = (pointY**2)+theta[2]*2*pointY\n",
        "  grad[2] = np.mean((sigma - label)*temp2)\n",
        "\n",
        "  temp = theta - lr*grad\n",
        "\n",
        "  z = pred_z(temp, pointX, pointY)\n",
        "  sigma = pred_sigma(z)\n",
        "  cost_next = objFunc(sigma, label, SIZE_DATA)\n",
        "  # print(cost_next)\n",
        "\n",
        "  if(cost_prev < cost_next): # repeat until convergence cost_prev < cost_next\n",
        "    break\n",
        "  else:\n",
        "    theta = temp\n",
        "\n",
        "final_step = i\n",
        "final_theta = theta_list[-1]\n",
        "final_accr = accuracy_list[-1]\n",
        "print(f'final_step {final_step}')\n",
        "print(f'final_cost {cost_prev}')\n",
        "# print(f'cost {cost_list}')\n",
        "print(f'theta {final_theta}')\n",
        "print(f'accuracy {final_accr}')"
      ],
      "execution_count": 131,
      "outputs": [
        {
          "output_type": "stream",
          "text": [
            "final_step 744\n",
            "final_cost 0.4778825897661883\n",
            "theta [ 2.53880971 -1.74721931 -1.01630861]\n",
            "accuracy 0.7711864406779662\n"
          ],
          "name": "stdout"
        }
      ]
    },
    {
      "cell_type": "code",
      "metadata": {
        "id": "7_mglvguUDF3",
        "colab_type": "code",
        "outputId": "f537fabb-532b-48be-dd27-76fbfa7d9a43",
        "colab": {
          "base_uri": "https://localhost:8080/",
          "height": 295
        }
      },
      "source": [
        "plt.plot(range(final_step+1), cost_list, c='b')\n",
        "plt.xlabel('optimization step')\n",
        "plt.ylabel('value of obeject function')\n",
        "plt.title('Training error')\n",
        "plt.show()"
      ],
      "execution_count": 132,
      "outputs": [
        {
          "output_type": "display_data",
          "data": {
            "image/png": "[encoded data removed]",
            "text/plain": [
              "<Figure size 432x288 with 1 Axes>"
            ]
          },
          "metadata": {
            "tags": [],
            "needs_background": "light"
          }
        }
      ]
    },
    {
      "cell_type": "code",
      "metadata": {
        "id": "oDh9sQK12xDr",
        "colab_type": "code",
        "colab": {
          "base_uri": "https://localhost:8080/",
          "height": 295
        },
        "outputId": "0b1e978a-d52a-4c82-93b2-c3c72b0b26e2"
      },
      "source": [
        "plt.plot(range(final_step+1), accuracy_list, c='r')\n",
        "plt.xlabel('optimization step')\n",
        "plt.ylabel('score')\n",
        "plt.title('Training accuracy')\n",
        "plt.show()"
      ],
      "execution_count": 133,
      "outputs": [
        {
          "output_type": "display_data",
          "data": {
            "image/png": "[encoded data removed]",
            "text/plain": [
              "<Figure size 432x288 with 1 Axes>"
            ]
          },
          "metadata": {
            "tags": [],
            "needs_background": "light"
          }
        }
      ]
    },
    {
      "cell_type": "code",
      "metadata": {
        "id": "aQpRmIuuVw-K",
        "colab_type": "code",
        "outputId": "f61aeebf-0125-4936-de47-89f20a6c3136",
        "colab": {
          "base_uri": "https://localhost:8080/",
          "height": 295
        }
      },
      "source": [
        "plt.plot(range(final_step+1), theta0_list, c='r')\n",
        "plt.plot(range(final_step+1), theta1_list, c='g')\n",
        "plt.plot(range(final_step+1), theta2_list, c='b')\n",
        "plt.xlabel('optimization step')\n",
        "plt.ylabel('value of parameter')\n",
        "plt.title('Model parameters')\n",
        "plt.legend(['theta0', 'theta1', 'theta2'])\n",
        "plt.show()"
      ],
      "execution_count": 0,
      "outputs": [
        {
          "output_type": "display_data",
          "data": {
            "image/png": "[encoded data removed]",
            "text/plain": [
              "<Figure size 432x288 with 1 Axes>"
            ]
          },
          "metadata": {
            "tags": [],
            "needs_background": "light"
          }
        }
      ]
    },
    {
      "cell_type": "code",
      "metadata": {
        "id": "GLbIOQg-uVEW",
        "colab_type": "code",
        "outputId": "8be230ea-efc1-4d00-f32a-186812bf9a6c",
        "colab": {
          "base_uri": "https://localhost:8080/",
          "height": 68
        }
      },
      "source": [
        "print(final_theta0)\n",
        "print(final_theta1)\n",
        "print(final_theta2)"
      ],
      "execution_count": 0,
      "outputs": [
        {
          "output_type": "stream",
          "text": [
            "1.271307404855522\n",
            "3.048598912865148\n",
            "2.8128542788905295\n"
          ],
          "name": "stdout"
        }
      ]
    },
    {
      "cell_type": "code",
      "metadata": {
        "id": "oJ528xEznYuV",
        "colab_type": "code",
        "colab": {}
      },
      "source": [
        "x_test = np.arange(30, 100, 0.5)\n",
        "y_test = np.arange(30, 100, 0.5)\n",
        "x_test = normalize_data(x_test)\n",
        "y_test = normalize_data(y_test)\n",
        "X, Y = np.meshgrid(x_test, y_test)\n",
        "test_z = pred_z(final_theta0, final_theta1, final_theta2, X, Y)\n",
        "test_sigma = pred_sigma(test_z)"
      ],
      "execution_count": 0,
      "outputs": []
    },
    {
      "cell_type": "code",
      "metadata": {
        "id": "ebG5ttflrmAO",
        "colab_type": "code",
        "outputId": "c999c600-7f4e-4841-a55a-64ec88739bd6",
        "colab": {
          "base_uri": "https://localhost:8080/",
          "height": 136
        }
      },
      "source": [
        "for i in range(len(x_test)):\n",
        "  for j in range(len(y_test)):\n",
        "    if test_sigma[i][j] > 0.5:\n",
        "      test_sigma[i][j] = 1\n",
        "    else:\n",
        "      test_sigma[i][j] = 0\n",
        "test_sigma"
      ],
      "execution_count": 0,
      "outputs": [
        {
          "output_type": "execute_result",
          "data": {
            "text/plain": [
              "array([[0., 0., 0., ..., 1., 1., 1.],\n",
              "       [0., 0., 0., ..., 1., 1., 1.],\n",
              "       [0., 0., 0., ..., 1., 1., 1.],\n",
              "       ...,\n",
              "       [1., 1., 1., ..., 1., 1., 1.],\n",
              "       [1., 1., 1., ..., 1., 1., 1.],\n",
              "       [1., 1., 1., ..., 1., 1., 1.]])"
            ]
          },
          "metadata": {
            "tags": []
          },
          "execution_count": 148
        }
      ]
    },
    {
      "cell_type": "code",
      "metadata": {
        "id": "0iiEEM5EZNma",
        "colab_type": "code",
        "outputId": "21e57113-8b99-498a-f28b-3d780cd9dff5",
        "colab": {
          "base_uri": "https://localhost:8080/",
          "height": 483
        }
      },
      "source": [
        "x_label0    = X[test_sigma == 0]\n",
        "x_label1    = X[test_sigma == 1]\n",
        "\n",
        "y_label0    = Y[test_sigma == 0]\n",
        "y_label1    = Y[test_sigma == 1]\n",
        "\n",
        "plt.figure(figsize=(8, 8))\n",
        "plt.scatter(x_label0, y_label0, alpha=0.3, c='b')\n",
        "plt.scatter(x_label1, y_label1, alpha=0.3, c='r')\n",
        "plt.show()"
      ],
      "execution_count": 0,
      "outputs": [
        {
          "output_type": "display_data",
          "data": {
            "image/png": "[encoded data removed]",
            "text/plain": [
              "<Figure size 576x576 with 1 Axes>"
            ]
          },
          "metadata": {
            "tags": [],
            "needs_background": "light"
          }
        }
      ]
    },
    {
      "cell_type": "code",
      "metadata": {
        "id": "7BnEPn3-Viji",
        "colab_type": "code",
        "colab": {}
      },
      "source": [
        ""
      ],
      "execution_count": 0,
      "outputs": []
    }
  ]
}