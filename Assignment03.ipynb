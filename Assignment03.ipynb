{
  "nbformat": 4,
  "nbformat_minor": 0,
  "metadata": {
    "colab": {
      "name": "Assignment03.ipynb",
      "provenance": [],
      "collapsed_sections": [],
      "toc_visible": true,
      "mount_file_id": "1gch0dprzdjVePC1MhruUjMbEsK3OZ6da",
      "authorship_tag": "ABX9TyPngabYOSnIUOJjnkUwmAgl",
      "include_colab_link": true
    },
    "kernelspec": {
      "name": "python3",
      "display_name": "Python 3"
    }
  },
  "cells": [
    {
      "cell_type": "markdown",
      "metadata": {
        "id": "view-in-github",
        "colab_type": "text"
      },
      "source": [
        "<a href=\"https://colab.research.google.com/github/SuhyeonHa/MatrixComputation/blob/master/Assignment03.ipynb\" target=\"_parent\"><img src=\"https://colab.research.google.com/assets/colab-badge.svg\" alt=\"Open In Colab\"/></a>"
      ]
    },
    {
      "cell_type": "markdown",
      "metadata": {
        "id": "XCMH5rVZ8fBD",
        "colab_type": "text"
      },
      "source": [
        "# Linear Regression\n",
        "\n",
        "1. Data\n",
        "\n",
        "- generate a set of $m$ point pairs $\\{ (x^{(i)}, y^{(i)}) \\}_{i = 1}^m$ from random perturbations using `random` function based on a linear function that you define\n",
        "- $\\hat{y} = a x + b$ where $a, b \\in \\mathbb{R}$\n",
        "- $y = \\hat{y} + n$ where $n \\sim \\mathcal{N}(0, \\sigma^2)$ is drawn from the normal distribution with mean $0$ and standard deviation $\\sigma$\n",
        "- you can choose $m, a, b$ and $\\sigma > 0$\n",
        "\n",
        "2. Linear Model\n",
        "\n",
        "- $h_\\theta(x) = \\theta_0 + \\theta_1 x$, $\\quad$ where $\\theta = (\\theta_0, \\theta_1)$ and $\\theta_0, \\theta_1 \\in \\mathbb{R}$\n",
        "\n",
        "3. Objective Function\n",
        "\n",
        "- $J(\\theta) = \\frac{1}{2 m} \\sum_{i=1}^m (h_\\theta(x^{(i)}) - y^{(i)})^2$\n",
        "\n",
        "4. Gradient Descent\n",
        " \n",
        "- $\\theta_0^{(t+1)} := \\theta_0^{(t)} - \\alpha \\frac{1}{m} \\sum_{i=1}^{m} (h_\\theta(x^{(i)}) - y^{(i)})$\n",
        "- $\\theta_1^{(t+1)} := \\theta_1^{(t)} - \\alpha \\frac{1}{m} \\sum_{i=1}^{m} (h_\\theta(x^{(i)}) - y^{(i)}) x^{(i)}$\n",
        "- you can choose a step-size (learning rate) $\\alpha > 0$ in $\\mathbb{R}$\n",
        "- you can choose any initial conditions for $\\theta_0^{(0)}$ and $\\theta_1^{(0)}$\n",
        "\n",
        "## Maching Learning Lecture\n",
        "1.1 - 2.8\n",
        "\n",
        "https://www.youtube.com/playlist?list=PLLssT5z_DsK-h9vYZkQkYNWcItqhlRJLN"
      ]
    },
    {
      "cell_type": "code",
      "metadata": {
        "id": "Lj8VSjZCB5CT",
        "colab_type": "code",
        "colab": {
          "base_uri": "https://localhost:8080/",
          "height": 514
        },
        "outputId": "892075a8-f3ea-4f6d-b8e8-4864a3906b67"
      },
      "source": [
        "import numpy as np\n",
        "import matplotlib.pyplot as plt\n",
        "\n",
        "# 1. Google drive mount\n",
        "# 2. Copy a path of data.csv file with right-click\n",
        "# 3. Paste it 'path' variable below\n",
        "path = '/content/drive/My Drive/Colab Notebooks/MatrixComputation/data.csv'\n",
        "data = np.genfromtxt(path, delimiter=',')\n",
        "\n",
        "x_data = data[:, 0]\n",
        "y_data = data[:, 1]\n",
        "\n",
        "plt.figure(figsize=(8, 8))\n",
        "plt.scatter(x_data, y_data, alpha=0.3, c='k')\n",
        "plt.xlabel('x_data')\n",
        "plt.ylabel('y_data')\n",
        "plt.title('Input points')\n",
        "plt.show()"
      ],
      "execution_count": 25,
      "outputs": [
        {
          "output_type": "display_data",
          "data": {
            "image/png": "[encoded data removed]",
            "text/plain": [
              "<Figure size 576x576 with 1 Axes>"
            ]
          },
          "metadata": {
            "tags": []
          }
        }
      ]
    },
    {
      "cell_type": "code",
      "metadata": {
        "id": "R__BbyKf2uuV",
        "colab_type": "code",
        "colab": {}
      },
      "source": [
        "# linear regression #"
      ],
      "execution_count": 0,
      "outputs": []
    },
    {
      "cell_type": "code",
      "metadata": {
        "id": "sOHxzavgLWpj",
        "colab_type": "code",
        "colab": {}
      },
      "source": [
        "# print(f'x_data {x_data}')\n",
        "# print(f'y_data {y_data}')"
      ],
      "execution_count": 0,
      "outputs": []
    },
    {
      "cell_type": "code",
      "metadata": {
        "id": "IRp-2JV68_fR",
        "colab_type": "code",
        "colab": {}
      },
      "source": [
        "def gradient0(x, y, num, theta0, theta1): # partial derivative by theta0\n",
        "  h = theta0*x + theta1\n",
        "  diff = np.zeros(num, dtype='float')\n",
        "  result = 0.0\n",
        "  # print(diff)\n",
        "  # print(h)\n",
        "  # print(y)\n",
        "  diff = h - y\n",
        "  # print(diff)\n",
        "  for i in range(num):\n",
        "    result += diff[i]\n",
        "  # print(result)\n",
        "  result /= num\n",
        "  return result"
      ],
      "execution_count": 0,
      "outputs": []
    },
    {
      "cell_type": "code",
      "metadata": {
        "colab_type": "code",
        "id": "riyqiIHcATHf",
        "colab": {}
      },
      "source": [
        "def gradient1(x, y, num, theta0, theta1): # partial derivative by theta1\n",
        "  h = theta0*x + theta1\n",
        "  diff = np.zeros(num, dtype='float')\n",
        "  result = 0.0\n",
        "  # print(diff)\n",
        "  # print(h)\n",
        "  # print(y)\n",
        "  diff = h - y\n",
        "  # print(diff)\n",
        "  # print(x)\n",
        "  diff *= x\n",
        "  # print(diff)\n",
        "  for i in range(num):\n",
        "    result += diff[i]\n",
        "  # print(result)\n",
        "  result /= num\n",
        "  return result"
      ],
      "execution_count": 0,
      "outputs": []
    },
    {
      "cell_type": "code",
      "metadata": {
        "id": "kWryiVukzcb4",
        "colab_type": "code",
        "colab": {}
      },
      "source": [
        "def ObjFnc(x, y, a, b, num): # L2-norm between h(x) and y\n",
        "  total = 0\n",
        "  arr1 = a*x+b # h(x) = ax+b\n",
        "  arr2 = y\n",
        "  diff = np.zeros_like(arr1)\n",
        "  # print(f'arr1 {arr1}')\n",
        "  # print(f'arr2 {arr2}')\n",
        "  # print(f'diff {diff}')\n",
        "  diff = arr1 - arr2\n",
        "  # print(diff)\n",
        "  two = np.full(num, 2) # Make (num,) list filled with 2\n",
        "  # print(f'sqr {two}')\n",
        "  sqr = np.power(diff, two)\n",
        "  # print(f'after sqr {sqr}')\n",
        "  for i in range(num):\n",
        "    total += sqr[i]\n",
        "  # print(total)\n",
        "  result = total/(2*m)\n",
        "  return result"
      ],
      "execution_count": 0,
      "outputs": []
    },
    {
      "cell_type": "code",
      "metadata": {
        "id": "6R_yyTtY0-st",
        "colab_type": "code",
        "outputId": "a594e6d7-16e8-4e02-f3dc-2861efdd814c",
        "colab": {
          "base_uri": "https://localhost:8080/",
          "height": 51
        }
      },
      "source": [
        "theta0 = 1.0 # parameter initilization\n",
        "theta1 = 1.0\n",
        "m = len(x_data)\n",
        "itr = 100 # step_size\n",
        "lr = 0.01 # learning_rate\n",
        "cost_list = []\n",
        "theta0_list = []\n",
        "theta1_list = []\n",
        "for i in range(itr): # gradient descent\n",
        "  # print(f'iter {i}')\n",
        "  # print(f'theta0 {theta0}')\n",
        "  # print(f'theta1 {theta1}')\n",
        "  cost_prev = ObjFnc(x_data, y_data, theta0, theta1, m)\n",
        "  cost_list.append(cost_prev)\n",
        "  theta0_list.append(theta0)\n",
        "  theta1_list.append(theta1)\n",
        "  # print(f'loss_prev {cost_prev}')\n",
        "  grad0 = gradient0(x_data, y_data, m, theta0, theta1)\n",
        "  grad1 = gradient1(x_data, y_data, m, theta0, theta1)\n",
        "  temp0 = theta0 - lr*grad0\n",
        "  temp1 = theta1 - lr*grad1\n",
        "  # print(f'temp0 {temp0}')\n",
        "  # print(f'temp1 {temp1}')\n",
        "  cost_next = ObjFnc(x_data, y_data, temp0, temp1, m)\n",
        "  # print(f'loss_next {cost_next}')\n",
        "  if(cost_prev < cost_next): # repeat until convergence\n",
        "    break\n",
        "  else:\n",
        "    theta0 = temp0\n",
        "    theta1 = temp1\n",
        "\n",
        "final_step = i\n",
        "print(f'final_step {final_step}')\n",
        "print(f'final_cost {cost_prev}')\n",
        "#print(f'cost {cost_list}')\n",
        "#print(f'theta0 {theta0_list}')\n",
        "#print(f'theta1 {theta1_list}')"
      ],
      "execution_count": 23,
      "outputs": [
        {
          "output_type": "stream",
          "text": [
            "final_step 8\n",
            "final_cost 1095.08748654649\n"
          ],
          "name": "stdout"
        }
      ]
    },
    {
      "cell_type": "code",
      "metadata": {
        "id": "7_mglvguUDF3",
        "colab_type": "code",
        "outputId": "9cbfd8c1-f974-4b58-f992-ca0e13316e11",
        "colab": {
          "base_uri": "https://localhost:8080/",
          "height": 295
        }
      },
      "source": [
        "plt.plot(range(final_step+1), cost_list, c='b')\n",
        "plt.xlabel('optimization step')\n",
        "plt.ylabel('value of obeject function')\n",
        "plt.title('Energy values')\n",
        "plt.show()"
      ],
      "execution_count": 0,
      "outputs": [
        {
          "output_type": "display_data",
          "data": {
            "image/png": "[encoded data removed]",
            "text/plain": [
              "<Figure size 432x288 with 1 Axes>"
            ]
          },
          "metadata": {
            "tags": []
          }
        }
      ]
    },
    {
      "cell_type": "code",
      "metadata": {
        "id": "aQpRmIuuVw-K",
        "colab_type": "code",
        "outputId": "e9fec696-8ccd-45ca-e0ed-c4855755b6f9",
        "colab": {
          "base_uri": "https://localhost:8080/",
          "height": 295
        }
      },
      "source": [
        "plt.plot(range(final_step+1), theta0_list, c='r')\n",
        "plt.plot(range(final_step+1), theta1_list, c='b')\n",
        "plt.xlabel('optimization step')\n",
        "plt.ylabel('value of parameter')\n",
        "plt.title('Model parameters')\n",
        "plt.legend(['theta0', 'theta1'])\n",
        "plt.show()"
      ],
      "execution_count": 0,
      "outputs": [
        {
          "output_type": "display_data",
          "data": {
            "image/png": "[encoded data removed]",
            "text/plain": [
              "<Figure size 432x288 with 1 Axes>"
            ]
          },
          "metadata": {
            "tags": []
          }
        }
      ]
    },
    {
      "cell_type": "code",
      "metadata": {
        "id": "Ef7R-xoTEmbE",
        "colab_type": "code",
        "outputId": "c2875bef-2288-4dd3-fc71-d97c252eaffb",
        "colab": {
          "base_uri": "https://localhost:8080/",
          "height": 51
        }
      },
      "source": [
        "new_a = theta0\n",
        "new_b = theta1\n",
        "print(f'new_a {new_a}')\n",
        "print(f'new_b {new_b}')\n",
        "new_y = theta0*x + theta1\n",
        "# print(f'new_y {new_y}')"
      ],
      "execution_count": 0,
      "outputs": [
        {
          "output_type": "stream",
          "text": [
            "new_a 1.3073669859106225\n",
            "new_b 3.0770891822821542\n"
          ],
          "name": "stdout"
        }
      ]
    },
    {
      "cell_type": "code",
      "metadata": {
        "id": "kUR7EwC9QxnS",
        "colab_type": "code",
        "outputId": "0adfccd1-5c93-415d-9299-11e8062ed1d7",
        "colab": {
          "base_uri": "https://localhost:8080/",
          "height": 295
        }
      },
      "source": [
        "plt.plot(x, new_y, c='r')\n",
        "plt.scatter(x, y, c='k')\n",
        "plt.xlabel('x')\n",
        "plt.ylabel('y')\n",
        "plt.title('Output results')\n",
        "plt.legend(['new_y=theta0*x+theta1', '(x, y)'])\n",
        "plt.show()"
      ],
      "execution_count": 0,
      "outputs": [
        {
          "output_type": "display_data",
          "data": {
            "image/png": "[encoded data removed]",
            "text/plain": [
              "<Figure size 432x288 with 1 Axes>"
            ]
          },
          "metadata": {
            "tags": []
          }
        }
      ]
    },
    {
      "cell_type": "code",
      "metadata": {
        "colab_type": "code",
        "id": "nIGyJC2b1xH9",
        "colab": {}
      },
      "source": [
        "import numpy as np\n",
        "from matplotlib import pyplot as plt\n",
        "\n",
        "m = 10 # num of samples\n",
        "a = 2\n",
        "b = 3\n",
        "std = 2\n",
        "\n",
        "np.random.seed(1025)\n",
        "x = np.linspace(-5,5,m)\n",
        "y_hat = a*x + b\n",
        "n = np.zeros_like(y_hat)"
      ],
      "execution_count": 0,
      "outputs": []
    }
  ]
}