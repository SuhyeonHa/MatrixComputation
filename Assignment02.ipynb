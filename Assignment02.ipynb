{
  "nbformat": 4,
  "nbformat_minor": 0,
  "metadata": {
    "colab": {
      "name": "Assignment02.ipynb",
      "provenance": [],
      "authorship_tag": "ABX9TyNPx4y0d2axit8wjsAFW9av",
      "include_colab_link": true
    },
    "kernelspec": {
      "name": "python3",
      "display_name": "Python 3"
    }
  },
  "cells": [
    {
      "cell_type": "markdown",
      "metadata": {
        "id": "view-in-github",
        "colab_type": "text"
      },
      "source": [
        "<a href=\"https://colab.research.google.com/github/SuhyeonHa/MatrixComputation/blob/master/Assignment02.ipynb\" target=\"_parent\"><img src=\"https://colab.research.google.com/assets/colab-badge.svg\" alt=\"Open In Colab\"/></a>"
      ]
    },
    {
      "cell_type": "code",
      "metadata": {
        "colab_type": "code",
        "id": "nIGyJC2b1xH9",
        "colab": {}
      },
      "source": [
        "import numpy as np\n",
        "from matplotlib import pyplot as plt\n",
        "\n",
        "m = 10 # num of samples\n",
        "theta0 = 2\n",
        "theta1 = 3\n",
        "\n",
        "x = np.linspace(-5,5,m)\n",
        "y = theta0*x + theta1"
      ],
      "execution_count": 0,
      "outputs": []
    },
    {
      "cell_type": "code",
      "metadata": {
        "id": "u4cVmib_4YSw",
        "colab_type": "code",
        "colab": {
          "base_uri": "https://localhost:8080/",
          "height": 34
        },
        "outputId": "69c99fda-2d15-4a54-adcc-430da17f1298"
      },
      "source": [
        "x_mu = np.mean(x)\n",
        "y_mu = np.mean(x)\n",
        "x_std = np.std(x)\n",
        "y_std = np.std(x)\n",
        "x_mu, y_mu, x_std, y_std"
      ],
      "execution_count": 72,
      "outputs": [
        {
          "output_type": "execute_result",
          "data": {
            "text/plain": [
              "(0.0, 0.0, 3.191423692521127, 3.191423692521127)"
            ]
          },
          "metadata": {
            "tags": []
          },
          "execution_count": 72
        }
      ]
    },
    {
      "cell_type": "code",
      "metadata": {
        "id": "sODiaUj332R5",
        "colab_type": "code",
        "colab": {}
      },
      "source": [
        "np.random.seed(1025)\n",
        "x_data = np.random.normal(x_mu, x_std, size = m)\n",
        "y_data = np.random.normal(y_mu, y_std, size = m)"
      ],
      "execution_count": 0,
      "outputs": []
    },
    {
      "cell_type": "code",
      "metadata": {
        "id": "YLIk2OvD2EVy",
        "colab_type": "code",
        "colab": {
          "base_uri": "https://localhost:8080/",
          "height": 51
        },
        "outputId": "b11dc7dd-bd6f-48f1-bffd-b8ccacda406d"
      },
      "source": [
        "x_data"
      ],
      "execution_count": 76,
      "outputs": [
        {
          "output_type": "execute_result",
          "data": {
            "text/plain": [
              "array([ 5.18238344,  4.58917299, -1.09909608, -6.65582664,  2.4885291 ,\n",
              "       -4.13356177, -0.87368704, -1.82987644,  1.59060217,  1.55997085])"
            ]
          },
          "metadata": {
            "tags": []
          },
          "execution_count": 76
        }
      ]
    },
    {
      "cell_type": "code",
      "metadata": {
        "id": "NyO8L-r72FMN",
        "colab_type": "code",
        "colab": {
          "base_uri": "https://localhost:8080/",
          "height": 51
        },
        "outputId": "2af93e2a-b7eb-4b3a-f20d-40522dc0aded"
      },
      "source": [
        "y_data"
      ],
      "execution_count": 78,
      "outputs": [
        {
          "output_type": "execute_result",
          "data": {
            "text/plain": [
              "array([ 6.25291024, -0.74938565,  2.80431282,  0.18849605,  1.52452881,\n",
              "        0.51860424, -1.34173659, -1.7383458 ,  8.93787204, -3.27956532])"
            ]
          },
          "metadata": {
            "tags": []
          },
          "execution_count": 78
        }
      ]
    },
    {
      "cell_type": "code",
      "metadata": {
        "id": "ki-_lS0e1yXC",
        "colab_type": "code",
        "colab": {
          "base_uri": "https://localhost:8080/",
          "height": 265
        },
        "outputId": "b732c140-47cc-4968-c5e4-7a54004f5d58"
      },
      "source": [
        "plt.plot(x, y, c='b')\n",
        "plt.scatter(x_data, y_data, c='k')\n",
        "plt.show()"
      ],
      "execution_count": 79,
      "outputs": [
        {
          "output_type": "display_data",
          "data": {
            "image/png": "[encoded data removed]",
            "text/plain": [
              "<Figure size 432x288 with 1 Axes>"
            ]
          },
          "metadata": {
            "tags": []
          }
        }
      ]
    },
    {
      "cell_type": "code",
      "metadata": {
        "id": "R__BbyKf2uuV",
        "colab_type": "code",
        "colab": {}
      },
      "source": [
        ""
      ],
      "execution_count": 0,
      "outputs": []
    }
  ]
}