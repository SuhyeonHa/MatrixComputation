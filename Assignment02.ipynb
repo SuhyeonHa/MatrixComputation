{
  "nbformat": 4,
  "nbformat_minor": 0,
  "metadata": {
    "colab": {
      "name": "Assignment02.ipynb",
      "provenance": [],
      "authorship_tag": "ABX9TyP9jwWco25H1i525gtWwahU",
      "include_colab_link": true
    },
    "kernelspec": {
      "name": "python3",
      "display_name": "Python 3"
    }
  },
  "cells": [
    {
      "cell_type": "markdown",
      "metadata": {
        "id": "view-in-github",
        "colab_type": "text"
      },
      "source": [
        "<a href=\"https://colab.research.google.com/github/SuhyeonHa/MatrixComputation/blob/master/Assignment02.ipynb\" target=\"_parent\"><img src=\"https://colab.research.google.com/assets/colab-badge.svg\" alt=\"Open In Colab\"/></a>"
      ]
    },
    {
      "cell_type": "code",
      "metadata": {
        "colab_type": "code",
        "id": "nIGyJC2b1xH9",
        "colab": {}
      },
      "source": [
        "import numpy as np\n",
        "from matplotlib import pyplot as plt\n",
        "\n",
        "m = 10 # num of samples\n",
        "a = 2\n",
        "b = 3\n",
        "std = 2\n",
        "\n",
        "np.random.seed(1025)\n",
        "x = np.linspace(-5,5,m)\n",
        "y_hat = a*x + b\n",
        "n = np.zeros_like(y_hat)"
      ],
      "execution_count": 0,
      "outputs": []
    },
    {
      "cell_type": "code",
      "metadata": {
        "id": "JydrJ5pMrV0H",
        "colab_type": "code",
        "colab": {
          "base_uri": "https://localhost:8080/",
          "height": 51
        },
        "outputId": "20b94fe8-0fa6-45dc-e421-3b83a60907c4"
      },
      "source": [
        "y_hat"
      ],
      "execution_count": 187,
      "outputs": [
        {
          "output_type": "execute_result",
          "data": {
            "text/plain": [
              "array([-7.        , -4.77777778, -2.55555556, -0.33333333,  1.88888889,\n",
              "        4.11111111,  6.33333333,  8.55555556, 10.77777778, 13.        ])"
            ]
          },
          "metadata": {
            "tags": []
          },
          "execution_count": 187
        }
      ]
    },
    {
      "cell_type": "code",
      "metadata": {
        "id": "q-ZNIB1Su5Yw",
        "colab_type": "code",
        "colab": {
          "base_uri": "https://localhost:8080/",
          "height": 34
        },
        "outputId": "ac11d667-9664-4691-efe5-d1befccbd468"
      },
      "source": [
        "n"
      ],
      "execution_count": 188,
      "outputs": [
        {
          "output_type": "execute_result",
          "data": {
            "text/plain": [
              "array([0., 0., 0., 0., 0., 0., 0., 0., 0., 0.])"
            ]
          },
          "metadata": {
            "tags": []
          },
          "execution_count": 188
        }
      ]
    },
    {
      "cell_type": "code",
      "metadata": {
        "id": "5X-xqxGAlTxo",
        "colab_type": "code",
        "colab": {
          "base_uri": "https://localhost:8080/",
          "height": 51
        },
        "outputId": "1d9e2d02-d5c5-47c6-fc61-c3dcce5243fb"
      },
      "source": [
        "for i in range(m):\n",
        "  n[i] = np.random.normal(0, std)\n",
        "n"
      ],
      "execution_count": 189,
      "outputs": [
        {
          "output_type": "execute_result",
          "data": {
            "text/plain": [
              "array([ 3.24769378,  2.87594092, -0.68878105, -4.17107052,  1.55951033,\n",
              "       -2.59041868, -0.54752181, -1.14674617,  0.99679787,  0.97760185])"
            ]
          },
          "metadata": {
            "tags": []
          },
          "execution_count": 189
        }
      ]
    },
    {
      "cell_type": "code",
      "metadata": {
        "id": "he2-cE-EvBVm",
        "colab_type": "code",
        "colab": {
          "base_uri": "https://localhost:8080/",
          "height": 51
        },
        "outputId": "00c86c60-e39f-4874-c9ea-3eec68539f69"
      },
      "source": [
        "y = y_hat + n\n",
        "y"
      ],
      "execution_count": 190,
      "outputs": [
        {
          "output_type": "execute_result",
          "data": {
            "text/plain": [
              "array([-3.75230622, -1.90183686, -3.2443366 , -4.50440385,  3.44839921,\n",
              "        1.52069243,  5.78581152,  7.40880939, 11.77457565, 13.97760185])"
            ]
          },
          "metadata": {
            "tags": []
          },
          "execution_count": 190
        }
      ]
    },
    {
      "cell_type": "code",
      "metadata": {
        "id": "ki-_lS0e1yXC",
        "colab_type": "code",
        "colab": {
          "base_uri": "https://localhost:8080/",
          "height": 269
        },
        "outputId": "3ebfd011-ca54-4d4d-8e33-3c4d96c824ad"
      },
      "source": [
        "plt.plot(x, y_hat, c='b')\n",
        "plt.scatter(x, y, c='k')\n",
        "plt.show()"
      ],
      "execution_count": 191,
      "outputs": [
        {
          "output_type": "display_data",
          "data": {
            "image/png": "[encoded data removed]",
            "text/plain": [
              "<Figure size 432x288 with 1 Axes>"
            ]
          },
          "metadata": {
            "tags": []
          }
        }
      ]
    },
    {
      "cell_type": "code",
      "metadata": {
        "id": "R__BbyKf2uuV",
        "colab_type": "code",
        "colab": {}
      },
      "source": [
        "# linear regression #"
      ],
      "execution_count": 0,
      "outputs": []
    },
    {
      "cell_type": "code",
      "metadata": {
        "id": "od8M5XOpyP9T",
        "colab_type": "code",
        "colab": {}
      },
      "source": [
        "theta0 = 0.0 # initialization\n",
        "theta1 = 0.0\n",
        "itr = 100 # step_size\n",
        "lr = 0.01 # learning_rate"
      ],
      "execution_count": 0,
      "outputs": []
    },
    {
      "cell_type": "code",
      "metadata": {
        "id": "sOHxzavgLWpj",
        "colab_type": "code",
        "colab": {
          "base_uri": "https://localhost:8080/",
          "height": 85
        },
        "outputId": "99f564c4-ab16-410d-b9d9-4738ebaade5e"
      },
      "source": [
        "print(f'x {x}')\n",
        "print(f'y {y}')"
      ],
      "execution_count": 195,
      "outputs": [
        {
          "output_type": "stream",
          "text": [
            "x [-5.         -3.88888889 -2.77777778 -1.66666667 -0.55555556  0.55555556\n",
            "  1.66666667  2.77777778  3.88888889  5.        ]\n",
            "y [-3.75230622 -1.90183686 -3.2443366  -4.50440385  3.44839921  1.52069243\n",
            "  5.78581152  7.40880939 11.77457565 13.97760185]\n"
          ],
          "name": "stdout"
        }
      ]
    },
    {
      "cell_type": "code",
      "metadata": {
        "id": "IRp-2JV68_fR",
        "colab_type": "code",
        "colab": {}
      },
      "source": [
        "def gradient0(x, y, num, theta0, theta1):\n",
        "  h = theta0*x + theta1\n",
        "  diff = np.zeros(10, dtype='float')\n",
        "  result = 0.0\n",
        "  # print(diff)\n",
        "  # print(h)\n",
        "  # print(y)\n",
        "  diff = h - y\n",
        "  # print(diff)\n",
        "  for i in range(num):\n",
        "    result += diff[i]\n",
        "  # print(result)\n",
        "  result /= num\n",
        "  return result"
      ],
      "execution_count": 0,
      "outputs": []
    },
    {
      "cell_type": "code",
      "metadata": {
        "colab_type": "code",
        "id": "riyqiIHcATHf",
        "colab": {}
      },
      "source": [
        "def gradient1(x, y, num, theta0, theta1):\n",
        "  h = theta0*x + theta1\n",
        "  diff = np.zeros(10, dtype='float')\n",
        "  result = 0.0\n",
        "  # print(diff)\n",
        "  # print(h)\n",
        "  # print(y)\n",
        "  diff = h - y\n",
        "  # print(diff)\n",
        "  # print(x)\n",
        "  diff *= x\n",
        "  # print(diff)\n",
        "  for i in range(num):\n",
        "    result += diff[i]\n",
        "  # print(result)\n",
        "  result /= num\n",
        "  return result"
      ],
      "execution_count": 0,
      "outputs": []
    },
    {
      "cell_type": "code",
      "metadata": {
        "id": "1rjZR7Y7-ck3",
        "colab_type": "code",
        "colab": {
          "base_uri": "https://localhost:8080/",
          "height": 51
        },
        "outputId": "07e4d697-0ee5-426d-ea4f-0d9879853da8"
      },
      "source": [
        "test = gradient0(x, y, m, theta0, theta1)\n",
        "test"
      ],
      "execution_count": 198,
      "outputs": [
        {
          "output_type": "stream",
          "text": [
            "theta0 0.0\n",
            "theta1 0.0\n"
          ],
          "name": "stdout"
        }
      ]
    },
    {
      "cell_type": "code",
      "metadata": {
        "id": "DaANBO6mBFwO",
        "colab_type": "code",
        "colab": {
          "base_uri": "https://localhost:8080/",
          "height": 51
        },
        "outputId": "0e1ab65b-9fc8-4261-c408-e00ae8215178"
      },
      "source": [
        "test1 = gradient1(x, y, m, theta0, theta1)\n",
        "test1"
      ],
      "execution_count": 199,
      "outputs": [
        {
          "output_type": "stream",
          "text": [
            "theta0 0.0\n",
            "theta1 0.0\n"
          ],
          "name": "stdout"
        }
      ]
    },
    {
      "cell_type": "code",
      "metadata": {
        "id": "kWryiVukzcb4",
        "colab_type": "code",
        "colab": {}
      },
      "source": [
        "def ObjFnc(x, y, a, b, num): # L2-norm between h(x) and y\n",
        "  total = 0\n",
        "  arr1 = a*x+b # h(x) = ax+b\n",
        "  arr2 = y\n",
        "  diff = np.zeros_like(arr1)\n",
        "  # print(f'arr1 {arr1}')\n",
        "  # print(f'arr2 {arr2}')\n",
        "  # print(f'diff {diff}')\n",
        "  diff = arr1 - arr2\n",
        "  # print(diff)\n",
        "  two = np.full(10, 2)\n",
        "  # print(f'sqr {two}')\n",
        "  sqr = np.power(diff, two)\n",
        "  # print(f'after sqr {sqr}')\n",
        "  for i in range(num):\n",
        "    total += sqr[i]\n",
        "  # print(total)\n",
        "  result = total/(2*m)\n",
        "  return result"
      ],
      "execution_count": 0,
      "outputs": []
    },
    {
      "cell_type": "code",
      "metadata": {
        "id": "VFN6VwCXGpAR",
        "colab_type": "code",
        "colab": {
          "base_uri": "https://localhost:8080/",
          "height": 34
        },
        "outputId": "9058062c-8470-449b-c3a6-6e3671a28f05"
      },
      "source": [
        "cost = ObjFnc(x, y, theta0, theta1, m)\n",
        "cost"
      ],
      "execution_count": 203,
      "outputs": [
        {
          "output_type": "execute_result",
          "data": {
            "text/plain": [
              "16.490446628741967"
            ]
          },
          "metadata": {
            "tags": []
          },
          "execution_count": 203
        }
      ]
    },
    {
      "cell_type": "code",
      "metadata": {
        "id": "6R_yyTtY0-st",
        "colab_type": "code",
        "colab": {
          "base_uri": "https://localhost:8080/",
          "height": 51
        },
        "outputId": "4a97b630-e94d-4c70-a645-b5570076cc81"
      },
      "source": [
        "theta0 = 1.0\n",
        "theta1 = 1.0\n",
        "for i in range(itr):\n",
        "  # print(f'iter {i}')\n",
        "  # print(f'theta0 {theta0}')\n",
        "  # print(f'theta1 {theta1}')\n",
        "  cost_prev = ObjFnc(x, y, theta0, theta1, m)\n",
        "  # print(f'loss_prev {cost_prev}')\n",
        "  grad0 = gradient0(x, y, m, theta0, theta1)\n",
        "  grad1 = gradient1(x, y, m, theta0, theta1)\n",
        "  temp0 = theta0 - lr*grad0\n",
        "  temp1 = theta1 - lr*grad1\n",
        "  # print(f'temp0 {temp0}')\n",
        "  # print(f'temp1 {temp1}')\n",
        "  cost_next = ObjFnc(x, y, temp0, temp1, m)\n",
        "  # print(f'loss_next {cost_next}')\n",
        "  if(cost_prev < cost_next):\n",
        "    break\n",
        "  else:\n",
        "    theta0 = temp0\n",
        "    theta1 = temp1\n",
        "\n",
        "print(f'final_step {i}')\n",
        "print(f'final_cost {cost_prev}')"
      ],
      "execution_count": 233,
      "outputs": [
        {
          "output_type": "stream",
          "text": [
            "final_step 32\n",
            "final_cost 3.7901703010018486\n"
          ],
          "name": "stdout"
        }
      ]
    },
    {
      "cell_type": "code",
      "metadata": {
        "id": "Ef7R-xoTEmbE",
        "colab_type": "code",
        "colab": {
          "base_uri": "https://localhost:8080/",
          "height": 85
        },
        "outputId": "474b28d5-fc86-4146-dc7b-e839c1509902"
      },
      "source": [
        "new_a = theta0\n",
        "new_b = theta1\n",
        "print(f'new_a {new_a}')\n",
        "print(f'new_b {new_b}')\n",
        "new_y = theta0*x + theta1\n",
        "print(f'new_y {new_y}')"
      ],
      "execution_count": 234,
      "outputs": [
        {
          "output_type": "stream",
          "text": [
            "new_a 1.3073669859106225\n",
            "new_b 3.0770891822821542\n",
            "new_y [-3.45974575 -2.00711576 -0.55448578  0.89814421  2.35077419  3.80340417\n",
            "  5.25603416  6.70866414  8.16129413  9.61392411]\n"
          ],
          "name": "stdout"
        }
      ]
    },
    {
      "cell_type": "code",
      "metadata": {
        "id": "kUR7EwC9QxnS",
        "colab_type": "code",
        "colab": {
          "base_uri": "https://localhost:8080/",
          "height": 265
        },
        "outputId": "942f06dc-73d5-46a9-c9b8-20c3324eacae"
      },
      "source": [
        "plt.plot(x, new_y, c='r')\n",
        "plt.scatter(x, y, c='k')\n",
        "plt.show()"
      ],
      "execution_count": 235,
      "outputs": [
        {
          "output_type": "display_data",
          "data": {
            "image/png": "[encoded data removed]",
            "text/plain": [
              "<Figure size 432x288 with 1 Axes>"
            ]
          },
          "metadata": {
            "tags": []
          }
        }
      ]
    },
    {
      "cell_type": "code",
      "metadata": {
        "id": "cl4VpOFQRHYD",
        "colab_type": "code",
        "colab": {}
      },
      "source": [
        ""
      ],
      "execution_count": 0,
      "outputs": []
    }
  ]
}