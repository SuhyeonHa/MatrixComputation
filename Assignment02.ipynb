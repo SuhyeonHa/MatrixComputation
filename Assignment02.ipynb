{
  "nbformat": 4,
  "nbformat_minor": 0,
  "metadata": {
    "colab": {
      "name": "Assignment02.ipynb",
      "provenance": [],
      "authorship_tag": "ABX9TyMS/qb7tmFpW6tWxVfZe3TI",
      "include_colab_link": true
    },
    "kernelspec": {
      "name": "python3",
      "display_name": "Python 3"
    }
  },
  "cells": [
    {
      "cell_type": "markdown",
      "metadata": {
        "id": "view-in-github",
        "colab_type": "text"
      },
      "source": [
        "<a href=\"https://colab.research.google.com/github/SuhyeonHa/MatrixComputation/blob/master/Assignment02.ipynb\" target=\"_parent\"><img src=\"https://colab.research.google.com/assets/colab-badge.svg\" alt=\"Open In Colab\"/></a>"
      ]
    },
    {
      "cell_type": "code",
      "metadata": {
        "colab_type": "code",
        "id": "nIGyJC2b1xH9",
        "colab": {}
      },
      "source": [
        "import numpy as np\n",
        "from matplotlib import pyplot as plt\n",
        "\n",
        "m = 10 # num of samples\n",
        "a = 2\n",
        "b = 3\n",
        "std = 2\n",
        "\n",
        "np.random.seed(1025)\n",
        "x = np.linspace(-5,5,m)\n",
        "y_hat = a*x + b\n",
        "n = np.zeros_like(y_hat)"
      ],
      "execution_count": 0,
      "outputs": []
    },
    {
      "cell_type": "code",
      "metadata": {
        "id": "JydrJ5pMrV0H",
        "colab_type": "code",
        "colab": {
          "base_uri": "https://localhost:8080/",
          "height": 51
        },
        "outputId": "9902c062-2222-4126-dd0d-f52216cfac51"
      },
      "source": [
        "y_hat"
      ],
      "execution_count": 288,
      "outputs": [
        {
          "output_type": "execute_result",
          "data": {
            "text/plain": [
              "array([-7.        , -4.77777778, -2.55555556, -0.33333333,  1.88888889,\n",
              "        4.11111111,  6.33333333,  8.55555556, 10.77777778, 13.        ])"
            ]
          },
          "metadata": {
            "tags": []
          },
          "execution_count": 288
        }
      ]
    },
    {
      "cell_type": "code",
      "metadata": {
        "id": "5X-xqxGAlTxo",
        "colab_type": "code",
        "colab": {
          "base_uri": "https://localhost:8080/",
          "height": 51
        },
        "outputId": "aaf7d1f2-f422-46ce-fe7e-92e235682213"
      },
      "source": [
        "for i in range(m):\n",
        "  n[i] = np.random.normal(0, std)\n",
        "n"
      ],
      "execution_count": 289,
      "outputs": [
        {
          "output_type": "execute_result",
          "data": {
            "text/plain": [
              "array([ 3.24769378,  2.87594092, -0.68878105, -4.17107052,  1.55951033,\n",
              "       -2.59041868, -0.54752181, -1.14674617,  0.99679787,  0.97760185])"
            ]
          },
          "metadata": {
            "tags": []
          },
          "execution_count": 289
        }
      ]
    },
    {
      "cell_type": "code",
      "metadata": {
        "id": "he2-cE-EvBVm",
        "colab_type": "code",
        "colab": {
          "base_uri": "https://localhost:8080/",
          "height": 51
        },
        "outputId": "041edad7-1d08-4e45-d246-aeed257dbd83"
      },
      "source": [
        "y = y_hat + n\n",
        "y"
      ],
      "execution_count": 290,
      "outputs": [
        {
          "output_type": "execute_result",
          "data": {
            "text/plain": [
              "array([-3.75230622, -1.90183686, -3.2443366 , -4.50440385,  3.44839921,\n",
              "        1.52069243,  5.78581152,  7.40880939, 11.77457565, 13.97760185])"
            ]
          },
          "metadata": {
            "tags": []
          },
          "execution_count": 290
        }
      ]
    },
    {
      "cell_type": "code",
      "metadata": {
        "id": "ki-_lS0e1yXC",
        "colab_type": "code",
        "colab": {
          "base_uri": "https://localhost:8080/",
          "height": 269
        },
        "outputId": "38e7e2b6-4627-4fa5-a027-3e6c273b9d4a"
      },
      "source": [
        "plt.plot(x, y_hat, c='b')\n",
        "plt.scatter(x, y, c='k')\n",
        "plt.show()"
      ],
      "execution_count": 291,
      "outputs": [
        {
          "output_type": "display_data",
          "data": {
            "image/png": "[encoded data removed]",
            "text/plain": [
              "<Figure size 432x288 with 1 Axes>"
            ]
          },
          "metadata": {
            "tags": []
          }
        }
      ]
    },
    {
      "cell_type": "code",
      "metadata": {
        "id": "R__BbyKf2uuV",
        "colab_type": "code",
        "colab": {}
      },
      "source": [
        "# linear regression #"
      ],
      "execution_count": 0,
      "outputs": []
    },
    {
      "cell_type": "code",
      "metadata": {
        "id": "sOHxzavgLWpj",
        "colab_type": "code",
        "colab": {
          "base_uri": "https://localhost:8080/",
          "height": 85
        },
        "outputId": "403211ec-98da-42c4-834a-f804158f9e84"
      },
      "source": [
        "print(f'x {x}')\n",
        "print(f'y {y}')"
      ],
      "execution_count": 293,
      "outputs": [
        {
          "output_type": "stream",
          "text": [
            "x [-5.         -3.88888889 -2.77777778 -1.66666667 -0.55555556  0.55555556\n",
            "  1.66666667  2.77777778  3.88888889  5.        ]\n",
            "y [-3.75230622 -1.90183686 -3.2443366  -4.50440385  3.44839921  1.52069243\n",
            "  5.78581152  7.40880939 11.77457565 13.97760185]\n"
          ],
          "name": "stdout"
        }
      ]
    },
    {
      "cell_type": "code",
      "metadata": {
        "id": "IRp-2JV68_fR",
        "colab_type": "code",
        "colab": {}
      },
      "source": [
        "def gradient0(x, y, num, theta0, theta1):\n",
        "  h = theta0*x + theta1\n",
        "  diff = np.zeros(10, dtype='float')\n",
        "  result = 0.0\n",
        "  # print(diff)\n",
        "  # print(h)\n",
        "  # print(y)\n",
        "  diff = h - y\n",
        "  # print(diff)\n",
        "  for i in range(num):\n",
        "    result += diff[i]\n",
        "  # print(result)\n",
        "  result /= num\n",
        "  return result"
      ],
      "execution_count": 0,
      "outputs": []
    },
    {
      "cell_type": "code",
      "metadata": {
        "colab_type": "code",
        "id": "riyqiIHcATHf",
        "colab": {}
      },
      "source": [
        "def gradient1(x, y, num, theta0, theta1):\n",
        "  h = theta0*x + theta1\n",
        "  diff = np.zeros(10, dtype='float')\n",
        "  result = 0.0\n",
        "  # print(diff)\n",
        "  # print(h)\n",
        "  # print(y)\n",
        "  diff = h - y\n",
        "  # print(diff)\n",
        "  # print(x)\n",
        "  diff *= x\n",
        "  # print(diff)\n",
        "  for i in range(num):\n",
        "    result += diff[i]\n",
        "  # print(result)\n",
        "  result /= num\n",
        "  return result"
      ],
      "execution_count": 0,
      "outputs": []
    },
    {
      "cell_type": "code",
      "metadata": {
        "id": "kWryiVukzcb4",
        "colab_type": "code",
        "colab": {}
      },
      "source": [
        "def ObjFnc(x, y, a, b, num): # L2-norm between h(x) and y\n",
        "  total = 0\n",
        "  arr1 = a*x+b # h(x) = ax+b\n",
        "  arr2 = y\n",
        "  diff = np.zeros_like(arr1)\n",
        "  # print(f'arr1 {arr1}')\n",
        "  # print(f'arr2 {arr2}')\n",
        "  # print(f'diff {diff}')\n",
        "  diff = arr1 - arr2\n",
        "  # print(diff)\n",
        "  two = np.full(10, 2)\n",
        "  # print(f'sqr {two}')\n",
        "  sqr = np.power(diff, two)\n",
        "  # print(f'after sqr {sqr}')\n",
        "  for i in range(num):\n",
        "    total += sqr[i]\n",
        "  # print(total)\n",
        "  result = total/(2*m)\n",
        "  return result"
      ],
      "execution_count": 0,
      "outputs": []
    },
    {
      "cell_type": "code",
      "metadata": {
        "id": "6R_yyTtY0-st",
        "colab_type": "code",
        "colab": {
          "base_uri": "https://localhost:8080/",
          "height": 122
        },
        "outputId": "dbd490dc-aab4-46b4-9faf-bd3bb2bd85f6"
      },
      "source": [
        "theta0 = 1.0 # parameter initilization\n",
        "theta1 = 1.0\n",
        "itr = 100 # step_size\n",
        "lr = 0.01 # learning_rate\n",
        "cost_list = []\n",
        "theta0_list = []\n",
        "theta1_list = []\n",
        "for i in range(itr):\n",
        "  # print(f'iter {i}')\n",
        "  # print(f'theta0 {theta0}')\n",
        "  # print(f'theta1 {theta1}')\n",
        "  cost_prev = ObjFnc(x, y, theta0, theta1, m)\n",
        "  cost_list.append(cost_prev)\n",
        "  theta0_list.append(theta0)\n",
        "  theta1_list.append(theta1)\n",
        "  # print(f'loss_prev {cost_prev}')\n",
        "  grad0 = gradient0(x, y, m, theta0, theta1)\n",
        "  grad1 = gradient1(x, y, m, theta0, theta1)\n",
        "  temp0 = theta0 - lr*grad0\n",
        "  temp1 = theta1 - lr*grad1\n",
        "  # print(f'temp0 {temp0}')\n",
        "  # print(f'temp1 {temp1}')\n",
        "  cost_next = ObjFnc(x, y, temp0, temp1, m)\n",
        "  # print(f'loss_next {cost_next}')\n",
        "  if(cost_prev < cost_next):\n",
        "    break\n",
        "  else:\n",
        "    theta0 = temp0\n",
        "    theta1 = temp1\n",
        "\n",
        "final_step = i\n",
        "print(f'final_step {final_step}')\n",
        "print(f'final_cost {cost_prev}')\n",
        "print(f'cost {cost_list}')\n",
        "print(f'theta0 {theta0_list}')\n",
        "print(f'theta1 {theta1_list}')"
      ],
      "execution_count": 297,
      "outputs": [
        {
          "output_type": "stream",
          "text": [
            "final_step 32\n",
            "final_cost 3.7901703010018486\n",
            "cost [8.045393686535203, 7.699795755840635, 7.376733058365213, 7.074843866160516, 6.792855464219673, 6.529578785432113, 6.283903397162513, 6.054792818318154, 5.841280147158085, 5.642463981403324, 5.4575046134353995, 5.285620484526123, 5.126084883129073, 4.978222873287962, 4.84140844018264, 4.715061840744343, 4.598647148131624, 4.491669979670849, 4.393675398633512, 4.304245980950308, 4.223000038651831, 4.149589992480775, 4.08370088674354, 4.025049040062575, 3.9733808262572134, 3.9284715801225696, 3.89012462339537, 3.8581704066947764, 3.832465763707134, 3.8128932743484087, 3.799360734088561, 3.791800727060256, 3.7901703010018486]\n",
            "theta0 [1.0, 1.020513006520055, 1.040169460839125, 1.0589902558342212, 1.0769954119680762, 1.0942040985689259, 1.110634654221721, 1.126304606292444, 1.141230689606297, 1.155428864299648, 1.1689143328647613, 1.1817015564054913, 1.1938042701213025, 1.2052354980361715, 1.216007566988142, 1.226132119894535, 1.2356201283070607, 1.2444819042703459, 1.2527271114966627, 1.2603647758689367, 1.2674032952834169, 1.2738504488427047, 1.2797134054091668, 1.2849987315280949, 1.289712398729325, 1.293859790215386, 1.2974457069436127, 1.3004743731090367, 1.3029494410342517, 1.3048739954718338, 1.3062505573242993, 1.3070810867859826, 1.3073669859106225]\n",
            "theta1 [1.0, 1.085655220098485, 1.1692211524958533, 1.250785038619983, 1.330431991920538, 1.4082450867259781, 1.4843054449331836, 1.558692320620197, 1.6314831826703775, 1.702753795494147, 1.7725782979324827, 1.8410292804243715, 1.9081778605185935, 1.9740937568084274, 2.038845361366191, 2.1024998107529207, 2.165123055676962, 2.226779929373802, 2.287534214778085, 2.3474487105574653, 2.406585296076707, 2.4650049953592883, 2.522768040112683, 2.5799339318824566, 2.6365615033993763, 2.6927089791828376, 2.748434035463089, 2.8037938594839837, 2.858845208247289, 2.913644466758952, 2.9682477058371575, 3.022710739541501, 3.0770891822821542]\n"
          ],
          "name": "stdout"
        }
      ]
    },
    {
      "cell_type": "code",
      "metadata": {
        "id": "7_mglvguUDF3",
        "colab_type": "code",
        "colab": {
          "base_uri": "https://localhost:8080/",
          "height": 265
        },
        "outputId": "25d7bce3-1dec-4730-c71e-c6d29e5592ad"
      },
      "source": [
        "plt.plot(range(final_step+1), cost_list, c='b')\n",
        "plt.show()"
      ],
      "execution_count": 298,
      "outputs": [
        {
          "output_type": "display_data",
          "data": {
            "image/png": "[encoded data removed]",
            "text/plain": [
              "<Figure size 432x288 with 1 Axes>"
            ]
          },
          "metadata": {
            "tags": []
          }
        }
      ]
    },
    {
      "cell_type": "code",
      "metadata": {
        "id": "aQpRmIuuVw-K",
        "colab_type": "code",
        "colab": {
          "base_uri": "https://localhost:8080/",
          "height": 265
        },
        "outputId": "0a3b4af4-5054-445d-8980-a501718ab1b1"
      },
      "source": [
        "plt.plot(range(final_step+1), theta0_list, c='r')\n",
        "plt.plot(range(final_step+1), theta1_list, c='b')\n",
        "plt.show()"
      ],
      "execution_count": 299,
      "outputs": [
        {
          "output_type": "display_data",
          "data": {
            "image/png": "[encoded data removed]",
            "text/plain": [
              "<Figure size 432x288 with 1 Axes>"
            ]
          },
          "metadata": {
            "tags": []
          }
        }
      ]
    },
    {
      "cell_type": "code",
      "metadata": {
        "id": "Ef7R-xoTEmbE",
        "colab_type": "code",
        "colab": {
          "base_uri": "https://localhost:8080/",
          "height": 85
        },
        "outputId": "0f7f5946-3e87-400d-91c6-aa4e5906e50c"
      },
      "source": [
        "new_a = theta0\n",
        "new_b = theta1\n",
        "print(f'new_a {new_a}')\n",
        "print(f'new_b {new_b}')\n",
        "new_y = theta0*x + theta1\n",
        "print(f'new_y {new_y}')"
      ],
      "execution_count": 300,
      "outputs": [
        {
          "output_type": "stream",
          "text": [
            "new_a 1.3073669859106225\n",
            "new_b 3.0770891822821542\n",
            "new_y [-3.45974575 -2.00711576 -0.55448578  0.89814421  2.35077419  3.80340417\n",
            "  5.25603416  6.70866414  8.16129413  9.61392411]\n"
          ],
          "name": "stdout"
        }
      ]
    },
    {
      "cell_type": "code",
      "metadata": {
        "id": "kUR7EwC9QxnS",
        "colab_type": "code",
        "colab": {
          "base_uri": "https://localhost:8080/",
          "height": 265
        },
        "outputId": "0fba115c-54f1-4879-fead-94cf027e1fe6"
      },
      "source": [
        "plt.plot(x, new_y, c='r')\n",
        "plt.scatter(x, y, c='k')\n",
        "plt.show()"
      ],
      "execution_count": 301,
      "outputs": [
        {
          "output_type": "display_data",
          "data": {
            "image/png": "[encoded data removed]",
            "text/plain": [
              "<Figure size 432x288 with 1 Axes>"
            ]
          },
          "metadata": {
            "tags": []
          }
        }
      ]
    },
    {
      "cell_type": "code",
      "metadata": {
        "id": "cl4VpOFQRHYD",
        "colab_type": "code",
        "colab": {}
      },
      "source": [
        ""
      ],
      "execution_count": 0,
      "outputs": []
    }
  ]
}