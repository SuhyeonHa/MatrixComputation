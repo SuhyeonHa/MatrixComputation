{
  "nbformat": 4,
  "nbformat_minor": 0,
  "metadata": {
    "colab": {
      "name": "Assignment04.ipynb",
      "provenance": [],
      "collapsed_sections": [],
      "mount_file_id": "1_mL4Gh2gNEnPSYZ0mUL9WG5-5AZT5vPs",
      "authorship_tag": "ABX9TyPwwnLoXPe3+Lc/faG8HNa2",
      "include_colab_link": true
    },
    "kernelspec": {
      "name": "python3",
      "display_name": "Python 3"
    }
  },
  "cells": [
    {
      "cell_type": "markdown",
      "metadata": {
        "id": "view-in-github",
        "colab_type": "text"
      },
      "source": [
        "<a href=\"https://colab.research.google.com/github/SuhyeonHa/MatrixComputation/blob/master/Assignment04.ipynb\" target=\"_parent\"><img src=\"https://colab.research.google.com/assets/colab-badge.svg\" alt=\"Open In Colab\"/></a>"
      ]
    },
    {
      "cell_type": "markdown",
      "metadata": {
        "id": "XCMH5rVZ8fBD",
        "colab_type": "text"
      },
      "source": [
        "# Linear regression with multiple variables\n",
        "\n",
        "#### 1. Data\n",
        "\n",
        "- load a set of data points $\\{ (x^{(i)}, y^{(i)}, z^{(i)}, h^{(i)}) \\}$ from the given CSV file ('data_train.csv') for training\n",
        "- load a set of data points $\\{ (x^{(i)}, y^{(i)}, z^{(i)}, h^{(i)}) \\}$ from the given CSV file ('data_test.csv') for testing\n",
        "\n",
        "#### 2. Linear Model\n",
        "\n",
        "- $f_\\theta(x, y, z) = \\theta_0 + \\theta_1 x + \\theta_2 y + \\theta_3 z$, where $\\theta = (\\theta_0, \\theta_1, \\theta_2, \\theta_3)$ and $\\theta_0, \\theta_1, \\theta_2, \\theta_3 \\in \\mathbb{R}$\n",
        "\n",
        "#### 3. Objective Function\n",
        "\n",
        "- $J(\\theta_0, \\theta_1, \\theta_2, \\theta_3) = \\frac{1}{2 m} \\sum_{i=1}^m ( \\theta_0 + \\theta_1 x^{(i)} + \\theta_2 y^{(i)} + \\theta_3 z^{(i)} - h^{(i)} )^2$\n",
        "\n",
        "#### 4. Gradient Descent\n",
        " \n",
        "- $\\theta_0^{(t+1)} := \\theta_0^{(t)} - \\alpha \\frac{1}{m} \\sum_{i=1}^{m} (f_\\theta(x^{(i)}, y^{(i)}, z^{(i)}) - h^{(i)})$\n",
        "- $\\theta_1^{(t+1)} := \\theta_1^{(t)} - \\alpha \\frac{1}{m} \\sum_{i=1}^{m} (f_\\theta(x^{(i)}, y^{(i)}, z^{(i)}) - h^{(i)}) x^{(i)}$\n",
        "- $\\theta_2^{(t+1)} := \\theta_2^{(t)} - \\alpha \\frac{1}{m} \\sum_{i=1}^{m} (f_\\theta(x^{(i)}, y^{(i)}, z^{(i)}) - h^{(i)}) y^{(i)}$\n",
        "- $\\theta_3^{(t+1)} := \\theta_3^{(t)} - \\alpha \\frac{1}{m} \\sum_{i=1}^{m} (f_\\theta(x^{(i)}, y^{(i)}, z^{(i)}) - h^{(i)}) z^{(i)}$\n",
        "- you should choose a learning rate $\\alpha$ in such a way that the convergence is achieved\n",
        "- you can use any initial conditions $(\\theta_0^{(0)}, \\theta_1^{(0)}, \\theta_2^{(0)}, \\theta_3^{(0)})$\n",
        " \n",
        "#### 5. Training\n",
        "\n",
        "- find optimal parameters $(\\theta_0, \\theta_1, \\theta_2, \\theta_3)$ using the training dataset ('data_train.csv')\n",
        "\n",
        "#### 6. Testing\n",
        "\n",
        "- evaluate the inference using the testing dataset ('data_test.csv')\n",
        "- use the objective function $J(\\theta_0, \\theta_1, \\theta_2, \\theta_3)$ for measuring the dissimilarity between the expected value and the inference using the testing data\n",
        "\n",
        "\n",
        "\n",
        "## Maching Learning Lecture\n",
        " ~ 4\n",
        "\n",
        "https://www.youtube.com/playlist?list=PLLssT5z_DsK-h9vYZkQkYNWcItqhlRJLN"
      ]
    },
    {
      "cell_type": "code",
      "metadata": {
        "colab_type": "code",
        "id": "nIGyJC2b1xH9",
        "colab": {}
      },
      "source": [
        "import numpy as np\n",
        "from matplotlib import pyplot as plt\n",
        "import csv\n",
        "\n",
        "train_path = '/content/drive/My Drive/Colab Notebooks/MatrixComputation/data_train.csv'\n",
        "test_path = '/content/drive/My Drive/Colab Notebooks/MatrixComputation/data_test.csv'\n",
        "\n",
        "train_data = []\n",
        "test_data = []\n",
        "\n",
        "with open(train_path, newline='') as myfile:\n",
        "    reader  = csv.reader(myfile, delimiter=',')\n",
        "    ct = 0\n",
        "    for i in reader:\n",
        "        # print('[', ct, ']', 'x =', i[0], ', y = ', i[1], ', z = ', i[2], ', h = ', i[3])\n",
        "        train_data.append(i[0])\n",
        "        train_data.append(i[1])\n",
        "        train_data.append(i[2])\n",
        "        train_data.append(i[3])\n",
        "        ct += 1\n",
        "    num_train = ct\n",
        "\n",
        "with open(test_path, newline='') as myfile:\n",
        "    reader  = csv.reader(myfile, delimiter=',')\n",
        "    ct = 0\n",
        "    for i in reader:\n",
        "        # print('[', ct, ']', 'x =', i[0], ', y = ', i[1], ', z = ', i[2], ', h = ', i[3])\n",
        "        test_data.append(i[0])\n",
        "        test_data.append(i[1])\n",
        "        test_data.append(i[2])\n",
        "        test_data.append(i[3])\n",
        "        ct += 1\n",
        "    num_test = ct\n",
        "\n",
        "train_data = np.reshape(train_data, (num_train, 4))\n",
        "test_data = np.reshape(test_data, (num_test, 4))"
      ],
      "execution_count": 0,
      "outputs": []
    },
    {
      "cell_type": "code",
      "metadata": {
        "id": "wXUIBkqGDvgX",
        "colab_type": "code",
        "outputId": "6625266a-4d18-46db-d3f7-0a807b2c9ed8",
        "colab": {
          "base_uri": "https://localhost:8080/",
          "height": 53
        }
      },
      "source": [
        "print(f'train_data {train_data.shape}')\n",
        "print(f'train_data {train_data.shape}')\n",
        "# print(f'train_data {train_data}')\n",
        "# print(f'test_data {test_data}')"
      ],
      "execution_count": 4,
      "outputs": [
        {
          "output_type": "stream",
          "text": [
            "train_data (300, 4)\n",
            "train_data (300, 4)\n"
          ],
          "name": "stdout"
        }
      ]
    },
    {
      "cell_type": "code",
      "metadata": {
        "id": "DwsJIlppt_W3",
        "colab_type": "code",
        "colab": {}
      },
      "source": [
        "train_data = train_data.astype(np.float) # string to float\n",
        "test_data = test_data.astype(np.float)\n",
        "# print(f'train_data {train_data}')\n",
        "# print(f'test_data {test_data}')"
      ],
      "execution_count": 0,
      "outputs": []
    },
    {
      "cell_type": "code",
      "metadata": {
        "id": "bWFQQ-aCZ4bj",
        "colab_type": "code",
        "outputId": "5f846a0e-c14c-4bcd-c5df-821e841012cc",
        "colab": {
          "base_uri": "https://localhost:8080/",
          "height": 89
        }
      },
      "source": [
        "# data normalization #\n",
        "x = train_data[:, 0]\n",
        "y = train_data[:, 1]\n",
        "z = train_data[:, 2]\n",
        "h = train_data[:, 3]\n",
        "print(f'x.shape {x.shape}')\n",
        "print(f'y.shape {y.shape}')\n",
        "print(f'z.shape {z.shape}')\n",
        "print(f'h.shape {h.shape}')"
      ],
      "execution_count": 7,
      "outputs": [
        {
          "output_type": "stream",
          "text": [
            "x.shape (300,)\n",
            "y.shape (300,)\n",
            "z.shape (300,)\n",
            "h.shape (300,)\n"
          ],
          "name": "stdout"
        }
      ]
    },
    {
      "cell_type": "code",
      "metadata": {
        "id": "R__BbyKf2uuV",
        "colab_type": "code",
        "colab": {}
      },
      "source": [
        "# linear regression #\n",
        "# x, y, num, theta0, theta1 -> x, y, z, num, theta0, theta1, theta2, theta3, h\n",
        "# x = i[0] y = i[1] z = i[2] h = i[3]"
      ],
      "execution_count": 0,
      "outputs": []
    },
    {
      "cell_type": "code",
      "metadata": {
        "id": "1pgYW1Bv1Yhe",
        "colab_type": "code",
        "colab": {}
      },
      "source": [
        "def pred(x, y, z, theta0, theta1, theta2, theta3):\n",
        "  h_hat = theta0 + theta1*x + theta2*y + theta3*z\n",
        "  return h_hat"
      ],
      "execution_count": 0,
      "outputs": []
    },
    {
      "cell_type": "code",
      "metadata": {
        "id": "kWryiVukzcb4",
        "colab_type": "code",
        "colab": {}
      },
      "source": [
        "def ObjFnc(num, h, h_hat): # L2-norm between h_hat and h\n",
        "  total = 0\n",
        "  diff = h - h_hat\n",
        "  sqr = diff ** 2\n",
        "  for i in range(num):\n",
        "    total += sqr[i]\n",
        "  result = total/(2*num)\n",
        "  return result"
      ],
      "execution_count": 0,
      "outputs": []
    },
    {
      "cell_type": "code",
      "metadata": {
        "id": "6R_yyTtY0-st",
        "colab_type": "code",
        "colab": {}
      },
      "source": [
        "# hyper parameters #\n",
        "theta0 = 0 # parameter initilization\n",
        "theta1 = 0\n",
        "theta2 = 0\n",
        "theta3 = 0\n",
        "itr = 5000 # step_size\n",
        "lr = 1e-5 # learning_rate\n",
        "\n",
        "cost_list = []\n",
        "theta0_list = []\n",
        "theta1_list = []\n",
        "theta2_list = []\n",
        "theta3_list = []"
      ],
      "execution_count": 0,
      "outputs": []
    },
    {
      "cell_type": "code",
      "metadata": {
        "id": "6RQq5J1i65T4",
        "colab_type": "code",
        "colab": {
          "base_uri": "https://localhost:8080/",
          "height": 53
        },
        "outputId": "dd77d0c3-2e60-4769-cae1-72d3adb887ee"
      },
      "source": [
        "for i in range(itr): # gradient descent\n",
        "  h_hat_prev = pred(x, y, z, theta0, theta1, theta2, theta3)\n",
        "  # print(h_hat_prev)\n",
        "  cost_prev = ObjFnc(num_train, h, h_hat_prev)\n",
        "  cost_list.append(cost_prev)\n",
        "  theta0_list.append(theta0)\n",
        "  theta1_list.append(theta1)\n",
        "  theta2_list.append(theta2)\n",
        "  theta3_list.append(theta3)\n",
        "\n",
        "  grad_zero = np.sum(h_hat_prev - h) / num_train\n",
        "  grad_one = np.sum((h_hat_prev - h)*x) / num_train\n",
        "  grad_two = np.sum((h_hat_prev - h)*y) / num_train\n",
        "  grad_three = np.sum((h_hat_prev - h)*z) / num_train\n",
        "\n",
        "  temp0 = theta0 - lr*grad_zero\n",
        "  temp1 = theta1 - lr*grad_one\n",
        "  temp2 = theta2 - lr*grad_two\n",
        "  temp3 = theta3 - lr*grad_three\n",
        "  h_hat_next = pred(x, y, z, temp0, temp1, temp2, temp3)\n",
        "  cost_next = ObjFnc(num_train, h, h_hat_next)\n",
        "\n",
        "  if(cost_prev < cost_next): # repeat until convergence cost_prev < cost_next\n",
        "    break\n",
        "  else:\n",
        "    theta0 = temp0\n",
        "    theta1 = temp1\n",
        "    theta2 = temp2\n",
        "    theta3 = temp3\n",
        "\n",
        "final_step = i\n",
        "print(f'final_step {final_step}')\n",
        "print(f'final_cost {cost_prev}')\n",
        "#print(f'cost {cost_list}')\n",
        "#print(f'theta0 {theta0_list}')\n",
        "#print(f'theta1 {theta1_list}')"
      ],
      "execution_count": 111,
      "outputs": [
        {
          "output_type": "stream",
          "text": [
            "final_step 4999\n",
            "final_cost 107.18675575535767\n"
          ],
          "name": "stdout"
        }
      ]
    },
    {
      "cell_type": "code",
      "metadata": {
        "id": "aQpRmIuuVw-K",
        "colab_type": "code",
        "outputId": "bf2be2fd-b41a-4f10-ab2c-2c37fce4182a",
        "colab": {
          "base_uri": "https://localhost:8080/",
          "height": 295
        }
      },
      "source": [
        "plt.plot(range(final_step+1), theta0_list, c='k')\n",
        "plt.plot(range(final_step+1), theta1_list, c='r')\n",
        "plt.plot(range(final_step+1), theta2_list, c='g')\n",
        "plt.plot(range(final_step+1), theta3_list, c='b')\n",
        "plt.xlabel('optimization step')\n",
        "plt.ylabel('value of parameter')\n",
        "plt.title('Model parameters')\n",
        "plt.legend(['theta0', 'theta1', 'theta2', 'theta3'])\n",
        "plt.show()"
      ],
      "execution_count": 115,
      "outputs": [
        {
          "output_type": "display_data",
          "data": {
            "image/png": "[encoded data removed]",
            "text/plain": [
              "<Figure size 432x288 with 1 Axes>"
            ]
          },
          "metadata": {
            "tags": [],
            "needs_background": "light"
          }
        }
      ]
    },
    {
      "cell_type": "code",
      "metadata": {
        "id": "7_mglvguUDF3",
        "colab_type": "code",
        "outputId": "fb84955c-d8a2-4416-a181-db489ac74c61",
        "colab": {
          "base_uri": "https://localhost:8080/",
          "height": 295
        }
      },
      "source": [
        "plt.plot(range(final_step+1), cost_list, c='b')\n",
        "plt.xlabel('optimization step')\n",
        "plt.ylabel('value of obeject function')\n",
        "plt.title('Energy values')\n",
        "plt.show()"
      ],
      "execution_count": 0,
      "outputs": [
        {
          "output_type": "display_data",
          "data": {
            "image/png": "[encoded data removed]",
            "text/plain": [
              "<Figure size 432x288 with 1 Axes>"
            ]
          },
          "metadata": {
            "tags": [],
            "needs_background": "light"
          }
        }
      ]
    },
    {
      "cell_type": "code",
      "metadata": {
        "id": "Ef7R-xoTEmbE",
        "colab_type": "code",
        "outputId": "03202019-0849-4335-940e-14f93d5737aa",
        "colab": {
          "base_uri": "https://localhost:8080/",
          "height": 51
        }
      },
      "source": [
        "new_a = theta0\n",
        "new_b = theta1\n",
        "print(f'new_a {new_a}')\n",
        "print(f'new_b {new_b}')\n",
        "new_y = theta0*x + theta1\n",
        "# print(f'new_y {new_y}')"
      ],
      "execution_count": 0,
      "outputs": [
        {
          "output_type": "stream",
          "text": [
            "new_a 1.8471117184659223\n",
            "new_b 1.8381456471949182\n"
          ],
          "name": "stdout"
        }
      ]
    },
    {
      "cell_type": "code",
      "metadata": {
        "id": "kUR7EwC9QxnS",
        "colab_type": "code",
        "outputId": "e606aa44-f8e0-439d-cd97-641f6524c269",
        "colab": {
          "base_uri": "https://localhost:8080/",
          "height": 295
        }
      },
      "source": [
        "plt.plot(x, new_y, c='r')\n",
        "plt.scatter(x, y, c='k')\n",
        "plt.xlabel('x')\n",
        "plt.ylabel('y')\n",
        "plt.title('Output results')\n",
        "plt.legend(['new_y=theta0*x+theta1', '(x, y)'])\n",
        "plt.show()"
      ],
      "execution_count": 0,
      "outputs": [
        {
          "output_type": "display_data",
          "data": {
            "image/png": "[encoded data removed]",
            "text/plain": [
              "<Figure size 432x288 with 1 Axes>"
            ]
          },
          "metadata": {
            "tags": [],
            "needs_background": "light"
          }
        }
      ]
    }
  ]
}