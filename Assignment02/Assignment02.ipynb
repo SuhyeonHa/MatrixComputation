{
  "nbformat": 4,
  "nbformat_minor": 0,
  "metadata": {
    "colab": {
      "name": "Assignment02.ipynb",
      "provenance": [],
      "collapsed_sections": [],
      "authorship_tag": "ABX9TyNICaj7LbwUz+K4NIUysSkk",
      "include_colab_link": true
    },
    "kernelspec": {
      "name": "python3",
      "display_name": "Python 3"
    }
  },
  "cells": [
    {
      "cell_type": "markdown",
      "metadata": {
        "id": "view-in-github",
        "colab_type": "text"
      },
      "source": [
        "<a href=\"https://colab.research.google.com/github/SuhyeonHa/MatrixComputation/blob/master/Assignment02.ipynb\" target=\"_parent\"><img src=\"https://colab.research.google.com/assets/colab-badge.svg\" alt=\"Open In Colab\"/></a>"
      ]
    },
    {
      "cell_type": "markdown",
      "metadata": {
        "id": "XCMH5rVZ8fBD",
        "colab_type": "text"
      },
      "source": [
        "# Linear Regression\n",
        "\n",
        "1. Data\n",
        "\n",
        "- generate a set of $m$ point pairs $\\{ (x^{(i)}, y^{(i)}) \\}_{i = 1}^m$ from random perturbations using `random` function based on a linear function that you define\n",
        "- $\\hat{y} = a x + b$ where $a, b \\in \\mathbb{R}$\n",
        "- $y = \\hat{y} + n$ where $n \\sim \\mathcal{N}(0, \\sigma^2)$ is drawn from the normal distribution with mean $0$ and standard deviation $\\sigma$\n",
        "- you can choose $m, a, b$ and $\\sigma > 0$\n",
        "\n",
        "2. Linear Model\n",
        "\n",
        "- $h_\\theta(x) = \\theta_0 + \\theta_1 x$, $\\quad$ where $\\theta = (\\theta_0, \\theta_1)$ and $\\theta_0, \\theta_1 \\in \\mathbb{R}$\n",
        "\n",
        "3. Objective Function\n",
        "\n",
        "- $J(\\theta) = \\frac{1}{2 m} \\sum_{i=1}^m (h_\\theta(x^{(i)}) - y^{(i)})^2$\n",
        "\n",
        "4. Gradient Descent\n",
        " \n",
        "- $\\theta_0^{(t+1)} := \\theta_0^{(t)} - \\alpha \\frac{1}{m} \\sum_{i=1}^{m} (h_\\theta(x^{(i)}) - y^{(i)})$\n",
        "- $\\theta_1^{(t+1)} := \\theta_1^{(t)} - \\alpha \\frac{1}{m} \\sum_{i=1}^{m} (h_\\theta(x^{(i)}) - y^{(i)}) x^{(i)}$\n",
        "- you can choose a step-size (learning rate) $\\alpha > 0$ in $\\mathbb{R}$\n",
        "- you can choose any initial conditions for $\\theta_0^{(0)}$ and $\\theta_1^{(0)}$\n",
        "\n",
        "## Maching Learning Lecture\n",
        "1.1 - 2.8\n",
        "\n",
        "https://www.youtube.com/playlist?list=PLLssT5z_DsK-h9vYZkQkYNWcItqhlRJLN"
      ]
    },
    {
      "cell_type": "code",
      "metadata": {
        "colab_type": "code",
        "id": "nIGyJC2b1xH9",
        "colab": {}
      },
      "source": [
        "import numpy as np\n",
        "from matplotlib import pyplot as plt\n",
        "\n",
        "m = 10 # num of samples\n",
        "a = 2\n",
        "b = 3\n",
        "std = 2\n",
        "\n",
        "np.random.seed(1025)\n",
        "x = np.linspace(-5,5,m)\n",
        "y_hat = a*x + b\n",
        "n = np.zeros_like(y_hat)"
      ],
      "execution_count": 0,
      "outputs": []
    },
    {
      "cell_type": "code",
      "metadata": {
        "id": "JydrJ5pMrV0H",
        "colab_type": "code",
        "outputId": "f0a53a41-6c91-4caa-e5b0-23b09628f866",
        "colab": {
          "base_uri": "https://localhost:8080/",
          "height": 51
        }
      },
      "source": [
        "y_hat"
      ],
      "execution_count": 2,
      "outputs": [
        {
          "output_type": "execute_result",
          "data": {
            "text/plain": [
              "array([-7.        , -4.77777778, -2.55555556, -0.33333333,  1.88888889,\n",
              "        4.11111111,  6.33333333,  8.55555556, 10.77777778, 13.        ])"
            ]
          },
          "metadata": {
            "tags": []
          },
          "execution_count": 2
        }
      ]
    },
    {
      "cell_type": "code",
      "metadata": {
        "id": "5X-xqxGAlTxo",
        "colab_type": "code",
        "outputId": "e2749054-3cf2-48e2-9ad4-3e1ce930fc7c",
        "colab": {
          "base_uri": "https://localhost:8080/",
          "height": 51
        }
      },
      "source": [
        "for i in range(m):\n",
        "  n[i] = np.random.normal(0, std)\n",
        "n"
      ],
      "execution_count": 3,
      "outputs": [
        {
          "output_type": "execute_result",
          "data": {
            "text/plain": [
              "array([ 3.24769378,  2.87594092, -0.68878105, -4.17107052,  1.55951033,\n",
              "       -2.59041868, -0.54752181, -1.14674617,  0.99679787,  0.97760185])"
            ]
          },
          "metadata": {
            "tags": []
          },
          "execution_count": 3
        }
      ]
    },
    {
      "cell_type": "code",
      "metadata": {
        "id": "he2-cE-EvBVm",
        "colab_type": "code",
        "outputId": "9227275f-eb25-46d0-89e0-6ce38d9fc0cc",
        "colab": {
          "base_uri": "https://localhost:8080/",
          "height": 51
        }
      },
      "source": [
        "y = y_hat + n\n",
        "y"
      ],
      "execution_count": 4,
      "outputs": [
        {
          "output_type": "execute_result",
          "data": {
            "text/plain": [
              "array([-3.75230622, -1.90183686, -3.2443366 , -4.50440385,  3.44839921,\n",
              "        1.52069243,  5.78581152,  7.40880939, 11.77457565, 13.97760185])"
            ]
          },
          "metadata": {
            "tags": []
          },
          "execution_count": 4
        }
      ]
    },
    {
      "cell_type": "code",
      "metadata": {
        "id": "ki-_lS0e1yXC",
        "colab_type": "code",
        "outputId": "f6e06732-53d0-4bcb-aaf1-996fbedd0428",
        "colab": {
          "base_uri": "https://localhost:8080/",
          "height": 295
        }
      },
      "source": [
        "plt.plot(x, y_hat, c='b')\n",
        "plt.scatter(x, y, c='k')\n",
        "plt.xlabel('x')\n",
        "plt.ylabel('y')\n",
        "plt.title('Input data')\n",
        "plt.legend(['y_hat=a*x+b', '(x, y)'])\n",
        "plt.show()"
      ],
      "execution_count": 5,
      "outputs": [
        {
          "output_type": "display_data",
          "data": {
            "image/png": "[encoded data removed]",
            "text/plain": [
              "<Figure size 432x288 with 1 Axes>"
            ]
          },
          "metadata": {
            "tags": [],
            "needs_background": "light"
          }
        }
      ]
    },
    {
      "cell_type": "code",
      "metadata": {
        "id": "R__BbyKf2uuV",
        "colab_type": "code",
        "colab": {}
      },
      "source": [
        "# linear regression #"
      ],
      "execution_count": 0,
      "outputs": []
    },
    {
      "cell_type": "code",
      "metadata": {
        "id": "sOHxzavgLWpj",
        "colab_type": "code",
        "outputId": "58549b65-9dd4-4810-c9c0-8d74229f6b1d",
        "colab": {
          "base_uri": "https://localhost:8080/",
          "height": 85
        }
      },
      "source": [
        "print(f'x {x}')\n",
        "print(f'y {y}')"
      ],
      "execution_count": 7,
      "outputs": [
        {
          "output_type": "stream",
          "text": [
            "x [-5.         -3.88888889 -2.77777778 -1.66666667 -0.55555556  0.55555556\n",
            "  1.66666667  2.77777778  3.88888889  5.        ]\n",
            "y [-3.75230622 -1.90183686 -3.2443366  -4.50440385  3.44839921  1.52069243\n",
            "  5.78581152  7.40880939 11.77457565 13.97760185]\n"
          ],
          "name": "stdout"
        }
      ]
    },
    {
      "cell_type": "code",
      "metadata": {
        "id": "IRp-2JV68_fR",
        "colab_type": "code",
        "colab": {}
      },
      "source": [
        "def gradient0(x, y, num, theta0, theta1): # partial derivative by theta0\n",
        "  h = theta0 + theta1*x\n",
        "  diff = np.zeros(10, dtype='float')\n",
        "  result = 0.0\n",
        "  # print(diff)\n",
        "  # print(h)\n",
        "  # print(y)\n",
        "  diff = h - y\n",
        "  # print(diff)\n",
        "  for i in range(num):\n",
        "    result += diff[i]\n",
        "  # print(result)\n",
        "  result /= num\n",
        "  return result"
      ],
      "execution_count": 0,
      "outputs": []
    },
    {
      "cell_type": "code",
      "metadata": {
        "colab_type": "code",
        "id": "riyqiIHcATHf",
        "colab": {}
      },
      "source": [
        "def gradient1(x, y, num, theta0, theta1): # partial derivative by theta1\n",
        "  h = theta0 + theta1*x\n",
        "  diff = np.zeros(num, dtype='float')\n",
        "  result = 0.0\n",
        "  # print(diff)\n",
        "  # print(h)\n",
        "  # print(y)\n",
        "  diff = h - y\n",
        "  # print(diff)\n",
        "  # print(x)\n",
        "  diff *= x\n",
        "  # print(diff)\n",
        "  for i in range(num):\n",
        "    result += diff[i]\n",
        "  # print(result)\n",
        "  result /= num\n",
        "  return result"
      ],
      "execution_count": 0,
      "outputs": []
    },
    {
      "cell_type": "code",
      "metadata": {
        "id": "kWryiVukzcb4",
        "colab_type": "code",
        "colab": {}
      },
      "source": [
        "def ObjFnc(x, y, a, b, num): # L2-norm between h(x) and y\n",
        "  total = 0\n",
        "  arr1 = a*x+b # h(x) = ax+b\n",
        "  arr2 = y\n",
        "  diff = np.zeros_like(arr1)\n",
        "  # print(f'arr1 {arr1}')\n",
        "  # print(f'arr2 {arr2}')\n",
        "  # print(f'diff {diff}')\n",
        "  diff = arr1 - arr2\n",
        "  # print(diff)\n",
        "  two = np.full(10, 2)\n",
        "  # print(f'sqr {two}')\n",
        "  sqr = np.power(diff, two)\n",
        "  # print(f'after sqr {sqr}')\n",
        "  for i in range(num):\n",
        "    total += sqr[i]\n",
        "  # print(total)\n",
        "  result = total/(2*m)\n",
        "  return result"
      ],
      "execution_count": 0,
      "outputs": []
    },
    {
      "cell_type": "code",
      "metadata": {
        "id": "6R_yyTtY0-st",
        "colab_type": "code",
        "outputId": "d7432717-b076-4525-d376-1a2f40e2383f",
        "colab": {
          "base_uri": "https://localhost:8080/",
          "height": 51
        }
      },
      "source": [
        "theta0 = 1.0 # parameter initilization\n",
        "theta1 = 1.0\n",
        "itr = 100 # step_size\n",
        "lr = 0.01 # learning_rate\n",
        "cost_list = []\n",
        "theta0_list = []\n",
        "theta1_list = []\n",
        "for i in range(itr): # gradient descent\n",
        "  # print(f'iter {i}')\n",
        "  # print(f'theta0 {theta0}')\n",
        "  # print(f'theta1 {theta1}')\n",
        "  cost_prev = ObjFnc(x, y, theta0, theta1, m)\n",
        "  cost_list.append(cost_prev)\n",
        "  theta0_list.append(theta0)\n",
        "  theta1_list.append(theta1)\n",
        "  # print(f'loss_prev {cost_prev}')\n",
        "  grad0 = gradient0(x, y, m, theta0, theta1)\n",
        "  grad1 = gradient1(x, y, m, theta0, theta1)\n",
        "  temp0 = theta0 - lr*grad0\n",
        "  temp1 = theta1 - lr*grad1\n",
        "  # print(f'temp0 {temp0}')\n",
        "  # print(f'temp1 {temp1}')\n",
        "  cost_next = ObjFnc(x, y, temp0, temp1, m)\n",
        "  # print(f'loss_next {cost_next}')\n",
        "  if(cost_prev < cost_next): # repeat until convergence\n",
        "    break\n",
        "  else:\n",
        "    theta0 = temp0\n",
        "    theta1 = temp1\n",
        "\n",
        "final_step = i\n",
        "print(f'final_step {final_step}')\n",
        "print(f'final_cost {cost_prev}')\n",
        "#print(f'cost {cost_list}')\n",
        "#print(f'theta0 {theta0_list}')\n",
        "#print(f'theta1 {theta1_list}')"
      ],
      "execution_count": 11,
      "outputs": [
        {
          "output_type": "stream",
          "text": [
            "final_step 53\n",
            "final_cost 3.075830569078774\n"
          ],
          "name": "stdout"
        }
      ]
    },
    {
      "cell_type": "code",
      "metadata": {
        "id": "7_mglvguUDF3",
        "colab_type": "code",
        "outputId": "cdd1143d-6981-4198-e52f-c52ec68a5de1",
        "colab": {
          "base_uri": "https://localhost:8080/",
          "height": 295
        }
      },
      "source": [
        "plt.plot(range(final_step+1), cost_list, c='b')\n",
        "plt.xlabel('optimization step')\n",
        "plt.ylabel('value of obeject function')\n",
        "plt.title('Energy values')\n",
        "plt.show()"
      ],
      "execution_count": 12,
      "outputs": [
        {
          "output_type": "display_data",
          "data": {
            "image/png": "[encoded data removed]",
            "text/plain": [
              "<Figure size 432x288 with 1 Axes>"
            ]
          },
          "metadata": {
            "tags": [],
            "needs_background": "light"
          }
        }
      ]
    },
    {
      "cell_type": "code",
      "metadata": {
        "id": "aQpRmIuuVw-K",
        "colab_type": "code",
        "outputId": "5947bb0b-920a-4df2-f1c7-e1a02f3e96a0",
        "colab": {
          "base_uri": "https://localhost:8080/",
          "height": 295
        }
      },
      "source": [
        "plt.plot(range(final_step+1), theta0_list, c='r')\n",
        "plt.plot(range(final_step+1), theta1_list, c='b')\n",
        "plt.xlabel('optimization step')\n",
        "plt.ylabel('value of parameter')\n",
        "plt.title('Model parameters')\n",
        "plt.legend(['theta0', 'theta1'])\n",
        "plt.show()"
      ],
      "execution_count": 13,
      "outputs": [
        {
          "output_type": "display_data",
          "data": {
            "image/png": "[encoded data removed]",
            "text/plain": [
              "<Figure size 432x288 with 1 Axes>"
            ]
          },
          "metadata": {
            "tags": [],
            "needs_background": "light"
          }
        }
      ]
    },
    {
      "cell_type": "code",
      "metadata": {
        "id": "Ef7R-xoTEmbE",
        "colab_type": "code",
        "outputId": "03202019-0849-4335-940e-14f93d5737aa",
        "colab": {
          "base_uri": "https://localhost:8080/",
          "height": 51
        }
      },
      "source": [
        "new_a = theta0\n",
        "new_b = theta1\n",
        "print(f'new_a {new_a}')\n",
        "print(f'new_b {new_b}')\n",
        "new_y = theta0*x + theta1\n",
        "# print(f'new_y {new_y}')"
      ],
      "execution_count": 14,
      "outputs": [
        {
          "output_type": "stream",
          "text": [
            "new_a 1.8471117184659223\n",
            "new_b 1.8381456471949182\n"
          ],
          "name": "stdout"
        }
      ]
    },
    {
      "cell_type": "code",
      "metadata": {
        "id": "kUR7EwC9QxnS",
        "colab_type": "code",
        "outputId": "e606aa44-f8e0-439d-cd97-641f6524c269",
        "colab": {
          "base_uri": "https://localhost:8080/",
          "height": 295
        }
      },
      "source": [
        "plt.plot(x, new_y, c='r')\n",
        "plt.scatter(x, y, c='k')\n",
        "plt.xlabel('x')\n",
        "plt.ylabel('y')\n",
        "plt.title('Output results')\n",
        "plt.legend(['new_y=theta0*x+theta1', '(x, y)'])\n",
        "plt.show()"
      ],
      "execution_count": 15,
      "outputs": [
        {
          "output_type": "display_data",
          "data": {
            "image/png": "[encoded data removed]",
            "text/plain": [
              "<Figure size 432x288 with 1 Axes>"
            ]
          },
          "metadata": {
            "tags": [],
            "needs_background": "light"
          }
        }
      ]
    }
  ]
}