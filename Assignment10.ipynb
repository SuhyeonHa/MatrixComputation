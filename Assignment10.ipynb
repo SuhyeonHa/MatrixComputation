{
  "nbformat": 4,
  "nbformat_minor": 0,
  "metadata": {
    "colab": {
      "name": "Assignment10.ipynb",
      "provenance": [],
      "collapsed_sections": [],
      "mount_file_id": "1KliFWsUB3jR2jdP8vfdAQYV3TZZBGAP1",
      "authorship_tag": "ABX9TyMjwSL/37PrccFYTIurYkfN",
      "include_colab_link": true
    },
    "kernelspec": {
      "name": "python3",
      "display_name": "Python 3"
    }
  },
  "cells": [
    {
      "cell_type": "markdown",
      "metadata": {
        "id": "view-in-github",
        "colab_type": "text"
      },
      "source": [
        "<a href=\"https://colab.research.google.com/github/SuhyeonHa/MatrixComputation/blob/master/Assignment10.ipynb\" target=\"_parent\"><img src=\"https://colab.research.google.com/assets/colab-badge.svg\" alt=\"Open In Colab\"/></a>"
      ]
    },
    {
      "cell_type": "markdown",
      "metadata": {
        "id": "XCMH5rVZ8fBD",
        "colab_type": "text"
      },
      "source": [
        "# Multi-label classification using neural networks with a regularization\n",
        "\n",
        "#### 1. Input Data\n",
        "\n",
        "- load the data file ('mnist.csv')\n",
        "- each row of the data consists of the label $l$ and the image pixel values $x$ in a vector form\n",
        "- the label is one of the 10 digits from 0 to 9, $l \\in [0, 9]$\n",
        "- the image represents its associated label in the grey scale\n",
        "- the number of images is 10,000 and the size of each image is 28x28, $x \\in \\mathbb{R}^{784}$\n",
        "- consider the first `1,000` images for `training` and the rest `9,000` images for `testing`\n",
        "- normalise the intensity values of each image so that they ranges from 0 to 1\n",
        "\n",
        "#### 2. Neural Network Architecture\n",
        "\n",
        "(https://gitlab.com/byungwoohong/class-2020-1-machinelearning/-/blob/master/assignment/10/assignment-10.md)\n",
        "\n",
        "- build a neural network for the multi-label classification with 10 labels\n",
        "- construct a neural network that consists of an input layer, an output layer and a sequence of hidden layers\n",
        "- each hidden layer is defined by a logistic unit\n",
        "- a logistic unit consists of a fully connected layer with a bias followed by the sigmoid activation function \n",
        "- the dimensions of the input layer and the output layer are defined by:\n",
        "    - input unit : 784 (+ a bias)\n",
        "    - output unit : 10\n",
        "- you can use determine the dimension of each hidden layer as you want\n",
        "\n",
        "#### 2. Sigmoid function as an activation function\n",
        "\n",
        "- $\\sigma(z) = \\frac{1}{1 + \\exp(-z)}$\n",
        "- $\\sigma^{\\prime}(z) = \\sigma(z) (1 - \\sigma(z))$\n",
        "\n",
        "#### 3. Objective Function\n",
        "\n",
        "- $J(\\theta) = \\frac{1}{m} \\sum_{i=1}^m \\sum_{k=0}^{9}( - l^{(i)}_k \\log( h^{(i)}_k ) - (1 - l^{(i)}_k) \\log(1 - h^{(i)}_k) ) + \\frac{\\lambda}{2 n} \\sum_{j=1}^n \\theta_j^2$ \n",
        "- $\\theta_j$ denotes a model parameter where $j = 1, 2, \\cdots, n$\n",
        "- $\\lambda$ is a control parameter for the regularization based on the $L_2^2$-norm (weight decay)\n",
        "- $n$ is the total number of all the model parameters over the entire neural network\n",
        "- $h^{(i)}_k$ denotes the $k$-th element of the output layer for $i$-th sample data\n",
        "\n",
        "#### 4. Gradient Descent (Back-propagation)\n",
        "\n",
        "- $\\theta_{k}^{(t+1)} := \\theta_{k}^{(t)} - \\alpha \\frac{\\partial J(\\theta^{(t)})}{\\partial \\theta_{k}}$, for all $k$\n",
        "- you should choose a learning rate $\\alpha$ in such a way that the convergence is achieved\n",
        "- you can use random initial conditions $\\theta_k^{(0)}$ for all $k$ following a normal distribution with mean 0 and stardard deviation some number\n",
        " \n",
        "#### 5. Training\n",
        "\n",
        "- find optimal parameters $\\theta$ using the training data\n",
        "\n",
        "#### 6. Testing\n",
        "\n",
        "- apply the obtained $\\theta$ from the training process using the testing data\n",
        "\n",
        "#### 7. Determination of class\n",
        "\n",
        "- $l^* = \\arg\\max_k h_k$\n",
        "- the label is determined by the index of the maximum value at the output of the network for testing\n",
        "\n",
        "#### 8. Compute the accuracy\n",
        "\n",
        "- the accuracy is computed by $\\frac{\\textrm{number of correct predictions}}{\\textrm{total number of predictions}}$\n",
        "\n",
        "#### 9. Regularization\n",
        "\n",
        "- you can choose a value for the regularization parameter $\\lambda$ in such a way that the best `testing accuracy` can be achieved\n",
        "\n",
        "\n",
        "\n",
        "## Maching Learning Lecture\n",
        "~ Lecture 10\n",
        "\n",
        "https://www.youtube.com/playlist?list=PLLssT5z_DsK-h9vYZkQkYNWcItqhlRJLN"
      ]
    },
    {
      "cell_type": "code",
      "metadata": {
        "colab_type": "code",
        "id": "nIGyJC2b1xH9",
        "outputId": "3e05c75c-4053-4de2-de4e-6dc7dcfde6aa",
        "colab": {
          "base_uri": "https://localhost:8080/",
          "height": 478
        }
      },
      "source": [
        "import matplotlib.pyplot as plt\n",
        "import numpy as np\n",
        "\n",
        "file_data   = '/content/drive/My Drive/Colab Notebooks/MatrixComputation/mnist_test.csv'\n",
        "handle_file = open(file_data, \"r\")\n",
        "data        = handle_file.readlines()\n",
        "handle_file.close()\n",
        "\n",
        "size_row    = 28    # height of the image\n",
        "size_col    = 28    # width of the image\n",
        "\n",
        "num_image   = len(data)\n",
        "count       = 0     # count for the number of images\n",
        "\n",
        "#\n",
        "# normalize the values of the input data to be [0, 1]\n",
        "#\n",
        "def normalize(data):\n",
        "\n",
        "    data_normalized = (data - min(data)) / (max(data) - min(data))\n",
        "\n",
        "    return(data_normalized)\n",
        "\n",
        "#\n",
        "# example of distance function between two vectors x and y\n",
        "#\n",
        "def distance(x, y):\n",
        "\n",
        "    d = (x - y) ** 2\n",
        "    s = np.sum(d)\n",
        "    # r = np.sqrt(s)\n",
        "\n",
        "    return(s)\n",
        "\n",
        "#\n",
        "# make a matrix each column of which represents an images in a vector form\n",
        "#\n",
        "list_image  = np.empty((size_row * size_col, num_image), dtype=float)\n",
        "list_label  = np.empty(num_image, dtype=int)\n",
        "\n",
        "for line in data:\n",
        "\n",
        "    line_data   = line.split(',')\n",
        "    label       = line_data[0]\n",
        "    im_vector   = np.asfarray(line_data[1:])\n",
        "    im_vector   = normalize(im_vector)\n",
        "\n",
        "    list_label[count]       = label\n",
        "    list_image[:, count]    = im_vector\n",
        "\n",
        "    count += 1\n",
        "\n",
        "#\n",
        "# plot first 150 images out of 10,000 with their labels\n",
        "#\n",
        "f1 = plt.figure(1)\n",
        "\n",
        "for i in range(150):\n",
        "\n",
        "    label       = list_label[i]\n",
        "    im_vector   = list_image[:, i]\n",
        "    im_matrix   = im_vector.reshape((size_row, size_col))\n",
        "\n",
        "    plt.subplot(10, 15, i+1)\n",
        "    plt.title(label)\n",
        "    plt.imshow(im_matrix, cmap='Greys', interpolation='None')\n",
        "\n",
        "    frame   = plt.gca()\n",
        "    frame.axes.get_xaxis().set_visible(False)\n",
        "    frame.axes.get_yaxis().set_visible(False)\n",
        "\n",
        "\n",
        "#plt.show()\n",
        "\n",
        "#\n",
        "# plot the average image of all the images for each digit\n",
        "#\n",
        "f2 = plt.figure(2)\n",
        "\n",
        "im_average  = np.zeros((size_row * size_col, 10), dtype=float)\n",
        "im_count    = np.zeros(10, dtype=int)\n",
        "\n",
        "for i in range(num_image):\n",
        "\n",
        "    im_average[:, list_label[i]] += list_image[:, i]\n",
        "    im_count[list_label[i]] += 1\n",
        "\n",
        "for i in range(10):\n",
        "\n",
        "    im_average[:, i] /= im_count[i]\n",
        "\n",
        "    plt.subplot(2, 5, i+1)\n",
        "    plt.title(i)\n",
        "    plt.imshow(im_average[:,i].reshape((size_row, size_col)), cmap='Greys', interpolation='None')\n",
        "\n",
        "    frame   = plt.gca()\n",
        "    frame.axes.get_xaxis().set_visible(False)\n",
        "    frame.axes.get_yaxis().set_visible(False)\n",
        "\n",
        "plt.show()\n"
      ],
      "execution_count": 2,
      "outputs": [
        {
          "output_type": "display_data",
          "data": {
            "image/png": "[encoded data removed]",
            "text/plain": [
              "<Figure size 432x288 with 150 Axes>"
            ]
          },
          "metadata": {
            "tags": [],
            "needs_background": "light"
          }
        },
        {
          "output_type": "display_data",
          "data": {
            "image/png": "[encoded data removed]",
            "text/plain": [
              "<Figure size 432x288 with 10 Axes>"
            ]
          },
          "metadata": {
            "tags": [],
            "needs_background": "light"
          }
        }
      ]
    },
    {
      "cell_type": "code",
      "metadata": {
        "id": "Y1CkDCE_6t2u",
        "colab_type": "code",
        "outputId": "5225f6cf-0d51-4e3b-cdd7-e728eba55855",
        "colab": {
          "base_uri": "https://localhost:8080/",
          "height": 68
        }
      },
      "source": [
        "print(f'num_image: {num_image}')\n",
        "print(f'list_image.shape: {list_image.shape}')\n",
        "print(f'list_label.shape: {list_label.shape}')"
      ],
      "execution_count": 3,
      "outputs": [
        {
          "output_type": "stream",
          "text": [
            "num_image: 10000\n",
            "list_image.shape: (784, 10000)\n",
            "list_label.shape: (10000,)\n"
          ],
          "name": "stdout"
        }
      ]
    },
    {
      "cell_type": "code",
      "metadata": {
        "id": "WSkFw_GC9trU",
        "colab_type": "code",
        "outputId": "c6c90f8a-1730-4c4d-bae3-f190bf183ccb",
        "colab": {
          "base_uri": "https://localhost:8080/",
          "height": 85
        }
      },
      "source": [
        "num_train = 1000\n",
        "num_test  = 9000\n",
        "train_image = list_image[:, 0:num_train]\n",
        "train_label = list_label[0:num_train]\n",
        "print(f'train_image.shape: {train_image.shape}')\n",
        "print(f'train_label.shape: {train_label.shape}')\n",
        "test_image = list_image[:, num_train:]\n",
        "test_label = list_label[num_train:]\n",
        "print(f'test_image.shape: {test_image.shape}')\n",
        "print(f'test_label.shape: {test_label.shape}')"
      ],
      "execution_count": 4,
      "outputs": [
        {
          "output_type": "stream",
          "text": [
            "train_image.shape: (784, 1000)\n",
            "train_label.shape: (1000,)\n",
            "test_image.shape: (784, 9000)\n",
            "test_label.shape: (9000,)\n"
          ],
          "name": "stdout"
        }
      ]
    },
    {
      "cell_type": "code",
      "metadata": {
        "id": "QHea36y2_FlM",
        "colab_type": "code",
        "outputId": "80fbbf86-7390-4c0c-9d90-3df6260c7a36",
        "colab": {
          "base_uri": "https://localhost:8080/",
          "height": 51
        }
      },
      "source": [
        "num_class = 10\n",
        "# train/test_label_one: integer labels into one-hot vector\n",
        "train_label_one = np.eye(num_class)[train_label]\n",
        "test_label_one = np.eye(num_class)[test_label]\n",
        "print(f'train_label_one.shape: {train_label_one.shape}')\n",
        "print(f'test_label_one.shape: {test_label_one.shape}')"
      ],
      "execution_count": 5,
      "outputs": [
        {
          "output_type": "stream",
          "text": [
            "train_label_one.shape: (1000, 10)\n",
            "test_label_one.shape: (9000, 10)\n"
          ],
          "name": "stdout"
        }
      ]
    },
    {
      "cell_type": "code",
      "metadata": {
        "id": "kh9wTdcAA-gf",
        "colab_type": "code",
        "colab": {}
      },
      "source": [
        "def forward_prop_with_dropout(x, theta_1, theta_2, theta_3, bias_1, bias_2, bias_3, drop_rate):\n",
        "  # layer 1\n",
        "  a_1 = x\n",
        "  # print(f'a_1.shape: {a_1.shape}')\n",
        "\n",
        "  # layer 2\n",
        "  y_ = np.matmul(theta_1.T, x) + bias_1\n",
        "  # print(f'y_: {y_}')\n",
        "  y = 1 / (1 + np.exp(-1 * y_))\n",
        "  a_2 = y\n",
        "  d_2 = np.random.rand(y.shape[0]) > drop_rate # dropout\n",
        "  y *= d_2\n",
        "  # print(f'a_2.shape: {a_2.shape}')\n",
        "\n",
        "  # layer 3\n",
        "  z_ = np.matmul(theta_2.T, y) + bias_2\n",
        "  # print(f'z_: {z_}')\n",
        "  z = 1 / (1 + np.exp(-1 * z_))\n",
        "  a_3 = z\n",
        "  d_3 = np.random.rand(z.shape[0]) > drop_rate # dropout\n",
        "  z *= d_3\n",
        "  # print(f'a_3.shape: {a_3.shape}')\n",
        "\n",
        "  # layer 4\n",
        "  h_ = np.matmul(theta_3.T, z) + bias_3\n",
        "  # print(f'h_: {h_}')\n",
        "  h = 1 / (1 + np.exp(-1 * h_))\n",
        "  a_4 = h\n",
        "  # print(f'a_4.shape: {a_4.shape}')\n",
        "\n",
        "  return a_1, a_2, a_3, a_4, d_2, d_3"
      ],
      "execution_count": 0,
      "outputs": []
    },
    {
      "cell_type": "code",
      "metadata": {
        "id": "38k7awUYlkAX",
        "colab_type": "code",
        "colab": {}
      },
      "source": [
        "def forward_prop(x, theta_1, theta_2, theta_3, bias_1, bias_2, bias_3):\n",
        "  # layer 1\n",
        "  a_1 = x\n",
        "  # print(f'a_1.shape: {a_1.shape}')\n",
        "\n",
        "  # layer 2\n",
        "  y_ = np.matmul(theta_1.T, x) + bias_1\n",
        "  # print(f'y_: {y_}')\n",
        "  y = 1 / (1 + np.exp(-1 * y_))\n",
        "  a_2 = y\n",
        "  # print(f'a_2.shape: {a_2.shape}')\n",
        "\n",
        "  # layer 3\n",
        "  z_ = np.matmul(theta_2.T, y) + bias_2\n",
        "  # print(f'z_: {z_}')\n",
        "  z = 1 / (1 + np.exp(-1 * z_))\n",
        "  a_3 = z\n",
        "\n",
        "  # print(f'a_3.shape: {a_3.shape}')\n",
        "\n",
        "  # layer 4\n",
        "  h_ = np.matmul(theta_3.T, z) + bias_3\n",
        "  # print(f'h_: {h_}')\n",
        "  h = 1 / (1 + np.exp(-1 * h_))\n",
        "  a_4 = h\n",
        "  # print(f'a_4.shape: {a_4.shape}')\n",
        "\n",
        "  return a_1, a_2, a_3, a_4"
      ],
      "execution_count": 0,
      "outputs": []
    },
    {
      "cell_type": "code",
      "metadata": {
        "id": "9zmu1AM9Hxyf",
        "colab_type": "code",
        "colab": {}
      },
      "source": [
        "def back_prop(m, theta_1, theta_2, theta_3,\n",
        "              a_1, a_2, a_3, a_4,\n",
        "              bias_1, bias_2, bias_3,\n",
        "              d_2, d_3,\n",
        "              learning_rate, epsilon, accuracy_count, loss, control_param):\n",
        "  \n",
        "  pred_label = np.argmax(a_4)\n",
        "  gt_label = train_label[m]\n",
        "  # print(f'gt_label: {gt_label}')\n",
        "  # print(f'pred_label.shape: {pred_label}')\n",
        "  gt_label_one = train_label_one[m]\n",
        "\n",
        "  if pred_label == gt_label:\n",
        "    accuracy_count += 1\n",
        "  loss += loss_func(a_4, gt_label_one)\n",
        "  \n",
        "  delta_4 = a_4 - gt_label_one\n",
        "  # print(f'delta_4.shape: {delta_4.shape}')\n",
        "  delta_3 = np.dot(W, delta_4)*a_3*(1-a_3)\n",
        "  # print(f'delta_3.shape: {delta_3.shape}')\n",
        "  delta_2 = np.dot(V, delta_3)*a_2*(1-a_2)\n",
        "  # print(f'delta_2.shape: {delta_2.shape}')\n",
        "\n",
        "  a_2 *= d_2\n",
        "  a_3 *= d_3\n",
        "  \n",
        "  a_4 = a_4.reshape((10, 1))\n",
        "  a_3 = a_3.reshape((49, 1))\n",
        "  a_2 = a_2.reshape((196, 1))\n",
        "  a_1 = a_1.reshape((784, 1))\n",
        "\n",
        "  delta_4 = delta_4.reshape((10, 1))\n",
        "  delta_3 = delta_3.reshape((49, 1))\n",
        "  delta_2 = delta_2.reshape((196, 1))\n",
        "\n",
        "  grad_3 = np.dot(a_3, delta_4.T)\n",
        "  # print(f'grad_3.shape: {grad_3.shape}')\n",
        "  grad_2 = np.dot(a_2, delta_3.T)\n",
        "  # print(f'grad_2.shape: {grad_2.shape}')\n",
        "  grad_1 = np.dot(a_1, delta_2.T)\n",
        "  # print(f'grad_1.shape: {grad_1.shape}')\n",
        "\n",
        "  D_3 = grad_3 + control_param*W\n",
        "  D_2 = grad_2 + control_param*V\n",
        "  D_1 = grad_1 + control_param*U\n",
        "\n",
        "  delta_4 = delta_4.reshape((10,))\n",
        "  delta_3 = delta_3.reshape((49,))\n",
        "  delta_2 = delta_2.reshape((196,))\n",
        "\n",
        "  new_bias_1 = bias_1 - lr * delta_2\n",
        "  new_bias_2 = bias_2 - lr * delta_3\n",
        "  new_bias_3 = bias_3 - lr * delta_4\n",
        "\n",
        "  new_W = theta_3 - lr*D_3\n",
        "  new_V = theta_2 - lr*D_2\n",
        "  new_U = theta_1 - lr*D_1\n",
        "\n",
        "  return new_U, new_V, new_W, new_bias_1, new_bias_2, new_bias_3, accuracy_count, loss"
      ],
      "execution_count": 0,
      "outputs": []
    },
    {
      "cell_type": "code",
      "metadata": {
        "id": "dWgqa4baJmKy",
        "colab_type": "code",
        "colab": {}
      },
      "source": [
        "def loss_func(pred_prob, gt_label):\n",
        "  # print(f'pred_prob: {pred_prob}')\n",
        "  # print(f'gt_label: {gt_label}')\n",
        "  temp = -gt_label*np.log(pred_prob)-(1-gt_label)*np.log(1-pred_prob)\n",
        "  # print(f'temp.shape: {temp.shape}')\n",
        "  return np.mean(temp)"
      ],
      "execution_count": 0,
      "outputs": []
    },
    {
      "cell_type": "code",
      "metadata": {
        "id": "rnyLEnNMDl76",
        "colab_type": "code",
        "outputId": "ce08c2e1-bf8e-4db9-bdf4-4d530f1bb235",
        "colab": {
          "base_uri": "https://localhost:8080/",
          "height": 1000
        }
      },
      "source": [
        "# layer1 = 784\n",
        "# layer2 = 196\n",
        "# layer3 = 49\n",
        "# layer4 = 10\n",
        "\n",
        "U = np.random.normal(0.0, 1.0, size=(784, 196))\n",
        "V = np.random.normal(0.0, 1.0, size=(196, 49))\n",
        "W = np.random.normal(0.0, 1.0, size=(49, 10))\n",
        "\n",
        "b_1 = np.random.normal(0.0, 1.0, size=(196))\n",
        "b_2 = np.random.normal(0.0, 1.0, size=(49))\n",
        "b_3 = np.random.normal(0.0, 1.0, size=(10))\n",
        "\n",
        "epochs = 200\n",
        "lr = 1e-2 # learning_rate\n",
        "e = 1e-4 # epsilon for stopping criteria\n",
        "control_param = 1e-3\n",
        "\n",
        "num_param = U.shape[0]*U.shape[1]+V.shape[0]*V.shape[1]+W.shape[0]*W.shape[1]\n",
        "num_theta = 3\n",
        "\n",
        "train_loss_list = []\n",
        "train_accuracy_list = []\n",
        "test_loss_list = []\n",
        "test_accuracy_list = []\n",
        "right_pred_list = []\n",
        "wrong_pred_list = []\n",
        "\n",
        "for itr in range(epochs):\n",
        "  accr_cnt = 0\n",
        "  for m in range(num_train):\n",
        "    x = train_image[:, m]\n",
        "    a_1, a_2, a_3, a_4, d_2, d_3 = forward_prop_with_dropout(x, U, V, W, b_1, b_2, b_3, 0.1)\n",
        "    U, V, W, b_1, b_2, b_3, accr_cnt, loss = back_prop(m, U, V, W,\n",
        "                                                       a_1, a_2, a_3, a_4,\n",
        "                                                       b_1, b_2, b_3,\n",
        "                                                       d_2, d_3,\n",
        "                                                       lr, e, accr_cnt, loss,\n",
        "                                                       control_param)\n",
        "    # print(m, accr_cnt)\n",
        "  \n",
        "  # print(f'before loss: {loss}')\n",
        "  loss += (np.sum(U**2)+np.sum(V**2)+np.sum(W**2))*control_param/(2*num_theta)\n",
        "  # print(f'aft loss: {loss}')\n",
        "  train_loss = loss/num_train\n",
        "  train_loss_list.append(train_loss)\n",
        "  train_accr = (accr_cnt/num_train)*100\n",
        "  train_accuracy_list.append(train_accr)\n",
        "\n",
        "  # test\n",
        "  accr_cnt = 0\n",
        "  loss = 0\n",
        "  for m in range(num_test):\n",
        "      x = test_image[:, m]\n",
        "      a_1, a_2, a_3, a_4 = forward_prop(x, U, V, W, b_1, b_2, b_3)\n",
        "      pred_label = np.argmax(a_4)\n",
        "      gt_label = test_label[m]\n",
        "      # print(f'gt_label: {gt_label}')\n",
        "      # print(f'pred_label.shape: {pred_label}')\n",
        "      gt_label_one = test_label_one[m]\n",
        "\n",
        "      if pred_label == gt_label:\n",
        "        accr_cnt += 1\n",
        "        right_pred_list.append((m, pred_label))\n",
        "      else:\n",
        "        wrong_pred_list.append((m, pred_label))\n",
        "      loss += loss_func(a_4, gt_label_one)\n",
        "      \n",
        "  # print(f'before loss: {loss}')\n",
        "  loss += (np.sum(U**2)+np.sum(V**2)+np.sum(W**2))*control_param/(2*num_theta)\n",
        "  # print(f'aft loss: {loss}')\n",
        "  test_loss = loss/num_test\n",
        "  test_loss_list.append(test_loss)\n",
        "  test_accr = (accr_cnt/num_test)*100\n",
        "  test_accuracy_list.append(test_accr)\n",
        "\n",
        "  if (itr+1) % 10 == 0:\n",
        "    print(f'itr: {itr+1}')\n",
        "    print(f'train_loss: {train_loss}')\n",
        "    print(f'train_accr: {train_accr}')\n",
        "    print(f'test_loss: {test_loss}')\n",
        "    print(f'test_accr: {test_accr}')\n",
        "\n",
        "final_step = i\n",
        "print(f'max_test_accuracy: {max(test_accuracy_list)}')"
      ],
      "execution_count": 31,
      "outputs": [
        {
          "output_type": "stream",
          "text": [
            "itr: 10\n",
            "train_loss: 1.784887047366224\n",
            "train_accr: 65.8\n",
            "test_loss: 0.17005012390973\n",
            "test_accr: 69.77777777777779\n",
            "itr: 20\n",
            "train_loss: 1.3323256867331843\n",
            "train_accr: 81.10000000000001\n",
            "test_loss: 0.1323257836856446\n",
            "test_accr: 77.5\n",
            "itr: 30\n",
            "train_loss: 1.1215839828921208\n",
            "train_accr: 86.7\n",
            "test_loss: 0.11104683998024706\n",
            "test_accr: 81.43333333333334\n",
            "itr: 40\n",
            "train_loss: 0.99754406549374\n",
            "train_accr: 92.30000000000001\n",
            "test_loss: 0.09987892106478197\n",
            "test_accr: 83.35555555555555\n",
            "itr: 50\n",
            "train_loss: 0.9065788466718216\n",
            "train_accr: 93.2\n",
            "test_loss: 0.09364545488929504\n",
            "test_accr: 84.65555555555555\n",
            "itr: 60\n",
            "train_loss: 0.8535920971304111\n",
            "train_accr: 95.7\n",
            "test_loss: 0.08749459524297437\n",
            "test_accr: 85.74444444444444\n",
            "itr: 70\n",
            "train_loss: 0.7981595805421354\n",
            "train_accr: 96.89999999999999\n",
            "test_loss: 0.08326922251401313\n",
            "test_accr: 86.4888888888889\n",
            "itr: 80\n",
            "train_loss: 0.772094630652942\n",
            "train_accr: 97.0\n",
            "test_loss: 0.08119201821978181\n",
            "test_accr: 86.91111111111111\n",
            "itr: 90\n",
            "train_loss: 0.7446096133255146\n",
            "train_accr: 98.1\n",
            "test_loss: 0.07771046159447982\n",
            "test_accr: 87.44444444444444\n",
            "itr: 100\n",
            "train_loss: 0.7169207574125686\n",
            "train_accr: 98.5\n",
            "test_loss: 0.07565095050748485\n",
            "test_accr: 87.8111111111111\n",
            "itr: 110\n",
            "train_loss: 0.698198226481889\n",
            "train_accr: 98.3\n",
            "test_loss: 0.07562769860697632\n",
            "test_accr: 87.7\n",
            "itr: 120\n",
            "train_loss: 0.6791903393930372\n",
            "train_accr: 98.7\n",
            "test_loss: 0.07205402261012268\n",
            "test_accr: 88.24444444444445\n",
            "itr: 130\n",
            "train_loss: 0.6783849707910976\n",
            "train_accr: 98.6\n",
            "test_loss: 0.07297167177410697\n",
            "test_accr: 87.96666666666667\n",
            "itr: 140\n",
            "train_loss: 0.6668461134458236\n",
            "train_accr: 98.9\n",
            "test_loss: 0.07005981204830442\n",
            "test_accr: 88.5111111111111\n",
            "itr: 150\n",
            "train_loss: 0.6740326396425351\n",
            "train_accr: 98.8\n",
            "test_loss: 0.07171926864494049\n",
            "test_accr: 88.41111111111111\n",
            "itr: 160\n",
            "train_loss: 0.6536163323152864\n",
            "train_accr: 99.1\n",
            "test_loss: 0.07134685033265228\n",
            "test_accr: 88.17777777777778\n",
            "itr: 170\n",
            "train_loss: 0.6689904805042104\n",
            "train_accr: 99.7\n",
            "test_loss: 0.0718929657725212\n",
            "test_accr: 88.17777777777778\n",
            "itr: 180\n",
            "train_loss: 0.656350307750126\n",
            "train_accr: 99.1\n",
            "test_loss: 0.07281291400953085\n",
            "test_accr: 88.1\n",
            "itr: 190\n",
            "train_loss: 0.6450851336679303\n",
            "train_accr: 99.3\n",
            "test_loss: 0.06913432165447013\n",
            "test_accr: 88.94444444444444\n",
            "itr: 200\n",
            "train_loss: 0.6608809450199518\n",
            "train_accr: 98.9\n",
            "test_loss: 0.0707670263075136\n",
            "test_accr: 88.52222222222223\n",
            "max_test_accuracy: 89.02222222222223\n"
          ],
          "name": "stdout"
        }
      ]
    },
    {
      "cell_type": "code",
      "metadata": {
        "id": "1KFEyuMEvAJs",
        "colab_type": "code",
        "outputId": "a6cc0db3-4d63-423f-9883-e8a1db757c9a",
        "colab": {
          "base_uri": "https://localhost:8080/",
          "height": 295
        }
      },
      "source": [
        "plt.plot(range(epochs), train_loss_list, c='b')\n",
        "plt.plot(range(epochs), test_loss_list, c='r')\n",
        "plt.xlabel('optimization step')\n",
        "plt.ylabel('value of obeject function')\n",
        "plt.title('Loss curve')\n",
        "plt.show()"
      ],
      "execution_count": 32,
      "outputs": [
        {
          "output_type": "display_data",
          "data": {
            "image/png": "[encoded data removed]",
            "text/plain": [
              "<Figure size 432x288 with 1 Axes>"
            ]
          },
          "metadata": {
            "tags": [],
            "needs_background": "light"
          }
        }
      ]
    },
    {
      "cell_type": "code",
      "metadata": {
        "id": "BIL3VJqQJEJC",
        "colab_type": "code",
        "colab": {
          "base_uri": "https://localhost:8080/",
          "height": 295
        },
        "outputId": "e0736b81-2edb-4a3d-c039-21b869432acd"
      },
      "source": [
        "plt.plot(range(epochs), train_accuracy_list, c='b')\n",
        "plt.plot(range(epochs), test_accuracy_list, c='r')\n",
        "plt.xlabel('optimization step')\n",
        "plt.ylabel('score')\n",
        "plt.title('Accuracy curve')\n",
        "plt.show()"
      ],
      "execution_count": 33,
      "outputs": [
        {
          "output_type": "display_data",
          "data": {
            "image/png": "[encoded data removed]",
            "text/plain": [
              "<Figure size 432x288 with 1 Axes>"
            ]
          },
          "metadata": {
            "tags": [],
            "needs_background": "light"
          }
        }
      ]
    },
    {
      "cell_type": "code",
      "metadata": {
        "id": "zEXNccSNK6Vx",
        "colab_type": "code",
        "colab": {
          "base_uri": "https://localhost:8080/",
          "height": 51
        },
        "outputId": "acd8229e-e154-4570-cfad-57cb0e40c97f"
      },
      "source": [
        "# print the accuracy value\n",
        "print(f'Final training accuracy(%): {train_accuracy_list[-1]}')\n",
        "print(f'Final testing accuracy(%): {test_accuracy_list[-1]}')"
      ],
      "execution_count": 34,
      "outputs": [
        {
          "output_type": "stream",
          "text": [
            "Final training accuracy(%): 98.9\n",
            "Final testing accuracy(%): 88.52222222222223\n"
          ],
          "name": "stdout"
        }
      ]
    },
    {
      "cell_type": "code",
      "metadata": {
        "id": "fTTrSU0tLJZE",
        "colab_type": "code",
        "colab": {
          "base_uri": "https://localhost:8080/",
          "height": 227
        },
        "outputId": "12a0d4ba-f5bd-4367-9365-5c7ae1135b33"
      },
      "source": [
        "for i in range(10):\n",
        "    idx = right_pred_list[i][0]\n",
        "    pred_label  = right_pred_list[i][1]\n",
        "    im_vector   = test_image[:, idx]\n",
        "    im_matrix   = im_vector.reshape((size_row, size_col))\n",
        "\n",
        "    plt.subplot(2, 5, i+1)\n",
        "    plt.title(pred_label)\n",
        "    plt.imshow(im_matrix, cmap='Greys', interpolation='None')\n",
        "\n",
        "    frame   = plt.gca()\n",
        "    frame.axes.get_xaxis().set_visible(False)\n",
        "    frame.axes.get_yaxis().set_visible(False)\n",
        "\n",
        "plt.show()"
      ],
      "execution_count": 37,
      "outputs": [
        {
          "output_type": "display_data",
          "data": {
            "image/png": "[encoded data removed]",
            "text/plain": [
              "<Figure size 432x288 with 10 Axes>"
            ]
          },
          "metadata": {
            "tags": [],
            "needs_background": "light"
          }
        }
      ]
    },
    {
      "cell_type": "code",
      "metadata": {
        "id": "8ijyDb46Wa22",
        "colab_type": "code",
        "colab": {
          "base_uri": "https://localhost:8080/",
          "height": 227
        },
        "outputId": "4cd3af6f-ee1d-44f4-f59d-b9ac254f3181"
      },
      "source": [
        "for i in range(10):\n",
        "    idx = wrong_pred_list[i][0]\n",
        "    pred_label  = wrong_pred_list[i][1]\n",
        "    im_vector   = test_image[:, idx]\n",
        "    im_matrix   = im_vector.reshape((size_row, size_col))\n",
        "\n",
        "    plt.subplot(2, 5, i+1)\n",
        "    plt.title(pred_label)\n",
        "    plt.imshow(im_matrix, cmap='Greys', interpolation='None')\n",
        "\n",
        "    frame   = plt.gca()\n",
        "    frame.axes.get_xaxis().set_visible(False)\n",
        "    frame.axes.get_yaxis().set_visible(False)\n",
        "\n",
        "plt.show()"
      ],
      "execution_count": 38,
      "outputs": [
        {
          "output_type": "display_data",
          "data": {
            "image/png": "[encoded data removed]",
            "text/plain": [
              "<Figure size 432x288 with 10 Axes>"
            ]
          },
          "metadata": {
            "tags": [],
            "needs_background": "light"
          }
        }
      ]
    },
    {
      "cell_type": "code",
      "metadata": {
        "id": "1A1I6PXJXLqZ",
        "colab_type": "code",
        "colab": {}
      },
      "source": [
        ""
      ],
      "execution_count": 0,
      "outputs": []
    }
  ]
}