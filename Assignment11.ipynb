{
  "nbformat": 4,
  "nbformat_minor": 0,
  "metadata": {
    "colab": {
      "name": "Assignment11.ipynb",
      "provenance": [],
      "collapsed_sections": [],
      "mount_file_id": "1zy0CxkEMpu1vyDIF6px0inxz5xUUZoRK",
      "authorship_tag": "ABX9TyMC9FUM9fTV0cIVfO1Z8oXN",
      "include_colab_link": true
    },
    "kernelspec": {
      "name": "python3",
      "display_name": "Python 3"
    }
  },
  "cells": [
    {
      "cell_type": "markdown",
      "metadata": {
        "id": "view-in-github",
        "colab_type": "text"
      },
      "source": [
        "<a href=\"https://colab.research.google.com/github/SuhyeonHa/MatrixComputation/blob/master/Assignment11.ipynb\" target=\"_parent\"><img src=\"https://colab.research.google.com/assets/colab-badge.svg\" alt=\"Open In Colab\"/></a>"
      ]
    },
    {
      "cell_type": "markdown",
      "metadata": {
        "id": "XCMH5rVZ8fBD",
        "colab_type": "text"
      },
      "source": [
        "# Text classification using neural networks\n",
        "\n",
        "This assignment aims to build a binary classifier for text data based on neural networks. The classifier is designed to classify input review text data into positive or negative.\n",
        "\n",
        "#### 1. Text Data\n",
        "\n",
        "- the data directory ('movie_review') consists of two sub-directories ('pos') and ('neg') for positive and negative, respectively\n",
        "- each sub-directory includes a list of files for review texts\n",
        "- the preprocessing given by the below codes transforms each text into the frequency information\n",
        "\n",
        "#### 2. Neural Networks Architecture\n",
        "\n",
        "https://gitlab.com/byungwoohong/class-2020-1-machinelearning/-/blob/master/assignment/11/assignment-11.md\n",
        "\n",
        "- build a classifier using neural networks for the text cateogrization with binary labels that are either positive or negative\n",
        "- construct a neural network that consists of an input layer, an output layer and a sequence of hidden layers\n",
        "- each hidden layer is defined by a logistic unit\n",
        "- a logistic unit consists of a fully connected layer with a bias followed by the sigmoid activation function \n",
        "- you are allowed to determine the number of hidden layers and their dimensions as you want\n",
        "\n",
        "#### 3. Sigmoid function as an activation function\n",
        "\n",
        "- $\\sigma(z) = \\frac{1}{1 + \\exp(-z)}$\n",
        "- $\\sigma^{\\prime}(z) = \\sigma(z) (1 - \\sigma(z))$\n",
        "\n",
        "#### 4. Objective Function\n",
        "\n",
        "- $J(\\theta) = \\frac{1}{m} \\sum_{i=1}^m ( - l^{(i)} \\log( h^{(i)} ) - (1 - l^{(i)}) \\log(1 - h^{(i)}) ) + \\frac{\\lambda}{2 n} \\sum_{j=1}^n \\theta_j^2$ \n",
        "- $\\theta_j$ denotes a model parameter where $j = 1, 2, \\cdots, n$\n",
        "- $\\lambda$ is a control parameter for the regularization based on the $L_2^2$-norm (weight decay)\n",
        "- $n$ is the total number of all the model parameters over the entire neural network\n",
        "- $h^{(i)}$ denotes the output layer for $i$-th sample data\n",
        "\n",
        "#### 5. Gradient Descent (Back-propagation)\n",
        "\n",
        "- $\\theta_{j}^{(t+1)} := \\theta_{j}^{(t)} - \\alpha \\frac{\\partial J(\\theta^{(t)})}{\\partial \\theta_{j}}$, for all $j$\n",
        "- you should choose a learning rate $\\alpha$ in such a way that the convergence is achieved\n",
        "- you can use random initial conditions $\\theta_j^{(0)}$ for all $j$ following a normal distribution with mean 0 and stardard deviation some number\n",
        "\n",
        "#### 6. Codes for Data Preprocessing\n",
        "\n",
        "- the data preprocessing steps aim to transform text data into informative quantity with respect to the class\n",
        "- it is allowed to use any embedding scheme to trainsform text data into descriptors using any libraries\n",
        "- the classified should be developed by your own codes (use of library is not allowed)\n",
        "\n",
        "\n",
        "- [Tutorial for `load_files`](https://scikit-learn.org/stable/modules/generated/sklearn.datasets.load_files.html)\n",
        "- [Tutorial for `stopwords`](https://pythonspot.com/nltk-stop-words/)\n",
        "- [Tutorial for `WordNetLemmatizer`](https://www.datacamp.com/community/tutorials/stemming-lemmatization-python)\n",
        "- [Tutorial for `Regex`](https://stackabuse.com/using-regex-for-text-manipulation-in-python/)\n",
        "- [Tutorial for `bag-of-words`](https://en.wikipedia.org/wiki/Bag-of-words_model)\n",
        "- [Tutorial for `CountVectorizer`](https://machinelearningmastery.com/prepare-text-data-machine-learning-scikit-learn/)\n",
        "- [Tutorial for `TfidfVectorizer`](https://kavita-ganesan.com/tfidftransformer-tfidfvectorizer-usage-differences/)\n",
        "- [Tutorial for `train_test_split`](https://www.bitdegree.org/learn/train-test-split)\n",
        "\n",
        "#### 7. Training\n",
        "\n",
        "- the training data is constructed by taking the first 70% of the data\n",
        "- the training should be performed using the training data\n",
        " \n",
        "#### 8. Testing\n",
        "\n",
        "- the testing data is constructed by taking the last 30% of the data\n",
        "- the testing should be performed using the testing data\n",
        "\n",
        "#### 9. Determination of the prediction\n",
        "\n",
        "- $l^* = \\begin{cases} 0 & : h < 0.5 \\\\ 1 & : h \\ge 0.5 \\end{cases}$\n",
        "\n",
        "#### 10. Codes for Classification\n",
        "\n",
        "\n",
        "#### 11. Codes for Evaluation\n",
        "\n",
        "- [Tutorial for Confusion Matrix](https://en.wikipedia.org/wiki/Confusion_matrix)\n",
        "- [Tutorial for Precision and Recall](https://en.wikipedia.org/wiki/Precision_and_recall)\n",
        "- [Tutorial for F1 score](https://en.wikipedia.org/wiki/F1_score)\n",
        "\n",
        "#### 12. Confusion Matrix\n",
        "\n",
        "|                 |          | Actual Class   |                |\n",
        "| --------------- | :------: | :------------: | :------------: |\n",
        "|                 |          | Positive       | Negative       |\n",
        "| Predicted Class | Positive | True Positive  | False Positive |\n",
        "|                 | Negative | False Negative | True Negative  |\n",
        "\n",
        "#### 13. F1 score\n",
        "\n",
        "- $\\text{precision} = \\frac{\\text{true positive}}{\\text{true positive} + \\text{false positive}}$\n",
        "- $\\text{recall} = \\frac{\\text{true positive}}{\\text{true positive} + \\text{false negative}}$\n",
        "- $F_1 = 2 \\cdot \\frac{\\text{precision} \\cdot \\text{recall}}{\\text{precision} + \\text{recall}}$\n",
        "\n",
        "#### 14. Compute the accuracy\n",
        "\n",
        "- the accuracy is computed by $\\frac{\\textrm{number of correct predictions}}{\\textrm{total number of predictions}}$\n",
        "\n",
        "#### 15. Regularization\n",
        "\n",
        "- you can choose a value for the regularization parameter $\\lambda$ in such a way that the best `testing accuracy` can be achieved\n",
        "\n",
        "\n",
        "## Maching Learning Lecture\n",
        "~ Lecture 10\n",
        "\n",
        "https://www.youtube.com/playlist?list=PLLssT5z_DsK-h9vYZkQkYNWcItqhlRJLN"
      ]
    },
    {
      "cell_type": "code",
      "metadata": {
        "id": "iwORIvuF1xKn",
        "colab_type": "code",
        "colab": {
          "base_uri": "https://localhost:8080/",
          "height": 89
        },
        "outputId": "21bb191a-b9ea-40df-c2b1-c9979e2dfe27"
      },
      "source": [
        "import numpy as np\n",
        "import re\n",
        "import nltk\n",
        "from sklearn.datasets import load_files\n",
        "nltk.download('stopwords')\n",
        "nltk.download('wordnet')\n",
        "import pickle\n",
        "from nltk.corpus import stopwords\n",
        "from nltk.stem import WordNetLemmatizer\n",
        "from sklearn.feature_extraction.text import CountVectorizer\n",
        "from sklearn.feature_extraction.text import TfidfTransformer\n",
        "from sklearn.model_selection import train_test_split\n",
        "\n",
        "file_data   = '/content/drive/My Drive/Colab Notebooks/MatrixComputation/movie_review'\n",
        "review_data = load_files(file_data)\n",
        "X, y = review_data.data, review_data.target\n",
        "\n",
        "documents = []\n",
        "\n",
        "stemmer = WordNetLemmatizer()\n",
        "\n",
        "for sen in range(0, len(X)):\n",
        "    # Remove all the special characters\n",
        "    document = re.sub(r'\\W', ' ', str(X[sen]))\n",
        "    \n",
        "    # remove all single characters\n",
        "    document = re.sub(r'\\s+[a-zA-Z]\\s+', ' ', document)\n",
        "    \n",
        "    # Remove single characters from the start\n",
        "    document = re.sub(r'\\^[a-zA-Z]\\s+', ' ', document) \n",
        "    \n",
        "    # Substituting multiple spaces with single space\n",
        "    document = re.sub(r'\\s+', ' ', document, flags=re.I)\n",
        "    \n",
        "    # Removing prefixed 'b'\n",
        "    document = re.sub(r'^b\\s+', '', document)\n",
        "    \n",
        "    # Converting to Lowercase\n",
        "    document = document.lower()\n",
        "    \n",
        "    # Lemmatization\n",
        "    document = document.split()\n",
        "    document = [stemmer.lemmatize(word) for word in document]\n",
        "    document = ' '.join(document)\n",
        "    \n",
        "    documents.append(document)\n",
        "\n",
        "vectorizer = CountVectorizer(max_features=1500, min_df=5, max_df=0.7, stop_words=stopwords.words('english'))\n",
        "X = vectorizer.fit_transform(documents).toarray()\n",
        "\n",
        "tfidfconverter = TfidfTransformer()\n",
        "X = tfidfconverter.fit_transform(X).toarray()\n",
        "\n",
        "X_train, X_test, y_train, y_test = train_test_split(X, y, test_size=0.3, shuffle=False)\n"
      ],
      "execution_count": 1,
      "outputs": [
        {
          "output_type": "stream",
          "text": [
            "[nltk_data] Downloading package stopwords to /root/nltk_data...\n",
            "[nltk_data]   Unzipping corpora/stopwords.zip.\n",
            "[nltk_data] Downloading package wordnet to /root/nltk_data...\n",
            "[nltk_data]   Unzipping corpora/wordnet.zip.\n"
          ],
          "name": "stdout"
        }
      ]
    },
    {
      "cell_type": "code",
      "metadata": {
        "id": "auGyWzUVNaAP",
        "colab_type": "code",
        "colab": {}
      },
      "source": [
        "# make data shape as (feature, num_data)\n",
        "X_train = X_train.T\n",
        "X_test = X_test.T"
      ],
      "execution_count": 0,
      "outputs": []
    },
    {
      "cell_type": "code",
      "metadata": {
        "id": "ZlyZd2lw5jIg",
        "colab_type": "code",
        "colab": {
          "base_uri": "https://localhost:8080/",
          "height": 89
        },
        "outputId": "58dcd18a-32bd-476e-a465-2f2e80e1ce8a"
      },
      "source": [
        "print(f'X_train.shape: {X_train.shape}')\n",
        "print(f'X_test.shape: {X_test.shape}')\n",
        "print(f'y_train.shape: {y_train.shape}')\n",
        "print(f'y_test.shape: {y_test.shape}')"
      ],
      "execution_count": 29,
      "outputs": [
        {
          "output_type": "stream",
          "text": [
            "X_train.shape: (1500, 1401)\n",
            "X_test.shape: (1500, 601)\n",
            "y_train.shape: (1401,)\n",
            "y_test.shape: (601,)\n"
          ],
          "name": "stdout"
        }
      ]
    },
    {
      "cell_type": "code",
      "metadata": {
        "id": "38k7awUYlkAX",
        "colab_type": "code",
        "colab": {}
      },
      "source": [
        "def forward_prop(x, theta_1, theta_2, theta_3, bias_1, bias_2, bias_3):\n",
        "  # layer 1\n",
        "  a_1 = x\n",
        "  # print(f'a_1.shape: {a_1.shape}')\n",
        "\n",
        "  # layer 2\n",
        "  y_ = np.matmul(theta_1.T, x) + bias_1\n",
        "  # print(f'y_: {y_}')\n",
        "  y = 1 / (1 + np.exp(-1 * y_))\n",
        "  a_2 = y\n",
        "  # print(f'a_2.shape: {a_2.shape}')\n",
        "\n",
        "  # layer 3\n",
        "  z_ = np.matmul(theta_2.T, y) + bias_2\n",
        "  # print(f'z_: {z_}')\n",
        "  z = 1 / (1 + np.exp(-1 * z_))\n",
        "  a_3 = z\n",
        "\n",
        "  # print(f'a_3.shape: {a_3.shape}')\n",
        "\n",
        "  # layer 4\n",
        "  h_ = np.matmul(theta_3.T, z) + bias_3\n",
        "  # print(f'h_: {h_}')\n",
        "  h = 1 / (1 + np.exp(-1 * h_))\n",
        "  a_4 = h\n",
        "  # print(f'a_4.shape: {a_4.shape}')\n",
        "\n",
        "  return a_1, a_2, a_3, a_4"
      ],
      "execution_count": 0,
      "outputs": []
    },
    {
      "cell_type": "code",
      "metadata": {
        "id": "kh9wTdcAA-gf",
        "colab_type": "code",
        "colab": {}
      },
      "source": [
        "def forward_prop_with_dropout(x, theta_1, theta_2, theta_3, bias_1, bias_2, bias_3, drop_rate):\n",
        "  # layer 1\n",
        "  a_1 = x\n",
        "  # print(f'a_1.shape: {a_1.shape}')\n",
        "\n",
        "  # layer 2\n",
        "  y_ = np.matmul(theta_1.T, x) + bias_1\n",
        "  # print(f'y_: {y_}')\n",
        "  y = 1 / (1 + np.exp(-1 * y_))\n",
        "  a_2 = y\n",
        "  d_2 = np.random.rand(y.shape[0]) > drop_rate # dropout\n",
        "  y *= d_2\n",
        "  # print(f'a_2.shape: {a_2.shape}')\n",
        "\n",
        "  # layer 3\n",
        "  z_ = np.matmul(theta_2.T, y) + bias_2\n",
        "  # print(f'z_: {z_}')\n",
        "  z = 1 / (1 + np.exp(-1 * z_))\n",
        "  a_3 = z\n",
        "  d_3 = np.random.rand(z.shape[0]) > drop_rate # dropout\n",
        "  z *= d_3\n",
        "  # print(f'a_3.shape: {a_3.shape}')\n",
        "\n",
        "  # layer 4\n",
        "  h_ = np.matmul(theta_3.T, z) + bias_3\n",
        "  # print(f'h_: {h_}')\n",
        "  h = 1 / (1 + np.exp(-1 * h_))\n",
        "  a_4 = h\n",
        "  # print(f'a_4.shape: {a_4.shape}')\n",
        "\n",
        "  return a_1, a_2, a_3, a_4, d_2, d_3"
      ],
      "execution_count": 0,
      "outputs": []
    },
    {
      "cell_type": "code",
      "metadata": {
        "id": "9zmu1AM9Hxyf",
        "colab_type": "code",
        "colab": {}
      },
      "source": [
        "def back_prop(m, U, V, W,\n",
        "              a_1, a_2, a_3, a_4,\n",
        "              bias_1, bias_2, bias_3,\n",
        "              d_2, d_3, train_label,\n",
        "              lr, accuracy_count, loss, control_param):\n",
        "  \n",
        "  pred_label = np.zeros_like(a_4)\n",
        "  # Determination of the prediction\n",
        "  for i in range(a_4.shape[0]):\n",
        "    if a_4[i] < 0.5:\n",
        "      pred_label[i] = 0\n",
        "    else:\n",
        "      pred_label[i] = 1\n",
        "  gt_label = train_label[m]\n",
        "  # print(f'gt_label: {gt_label}')\n",
        "  # print(f'pred_label.shape: {pred_label}')\n",
        "\n",
        "  if pred_label == gt_label:\n",
        "    accuracy_count += 1\n",
        "  loss += loss_func(a_4, gt_label)\n",
        "  \n",
        "  delta_4 = a_4 - gt_label\n",
        "  # print(f'delta_4.shape: {delta_4.shape}')\n",
        "  delta_3 = np.dot(W, delta_4)*a_3*(1-a_3)\n",
        "  # print(f'delta_3.shape: {delta_3.shape}')\n",
        "  delta_2 = np.dot(V, delta_3)*a_2*(1-a_2)\n",
        "  # print(f'delta_2.shape: {delta_2.shape}')\n",
        "\n",
        "  a_2 *= d_2\n",
        "  a_3 *= d_3\n",
        "  \n",
        "  a_4 = a_4.reshape((1, 1))\n",
        "  a_3 = a_3.reshape((30, 1))\n",
        "  a_2 = a_2.reshape((500, 1))\n",
        "  a_1 = a_1.reshape((1500, 1))\n",
        "\n",
        "  delta_4 = delta_4.reshape((1, 1))\n",
        "  delta_3 = delta_3.reshape((30, 1))\n",
        "  delta_2 = delta_2.reshape((500, 1))\n",
        "\n",
        "  grad_3 = np.dot(a_3, delta_4.T)\n",
        "  # print(f'grad_3.shape: {grad_3.shape}')\n",
        "  grad_2 = np.dot(a_2, delta_3.T)\n",
        "  # print(f'grad_2.shape: {grad_2.shape}')\n",
        "  grad_1 = np.dot(a_1, delta_2.T)\n",
        "  # print(f'grad_1.shape: {grad_1.shape}')\n",
        "\n",
        "  D_3 = grad_3 + control_param*W\n",
        "  D_2 = grad_2 + control_param*V\n",
        "  D_1 = grad_1 + control_param*U\n",
        "\n",
        "  delta_4 = delta_4.reshape((1,))\n",
        "  delta_3 = delta_3.reshape((30,))\n",
        "  delta_2 = delta_2.reshape((500,))\n",
        "\n",
        "  new_bias_1 = bias_1 - lr * delta_2\n",
        "  new_bias_2 = bias_2 - lr * delta_3\n",
        "  new_bias_3 = bias_3 - lr * delta_4\n",
        "\n",
        "  new_W = W - lr*D_3\n",
        "  new_V = V - lr*D_2\n",
        "  new_U = U - lr*D_1\n",
        "\n",
        "  return new_U, new_V, new_W, new_bias_1, new_bias_2, new_bias_3, accuracy_count, loss"
      ],
      "execution_count": 0,
      "outputs": []
    },
    {
      "cell_type": "code",
      "metadata": {
        "id": "dWgqa4baJmKy",
        "colab_type": "code",
        "colab": {}
      },
      "source": [
        "def loss_func(pred_prob, gt_label):\n",
        "  # print(f'pred_prob: {pred_prob}')\n",
        "  # print(f'gt_label: {gt_label}')\n",
        "  temp = -gt_label*np.log(pred_prob)-(1-gt_label)*np.log(1-pred_prob)\n",
        "  # print(f'temp.shape: {temp.shape}')\n",
        "  return np.mean(temp)"
      ],
      "execution_count": 0,
      "outputs": []
    },
    {
      "cell_type": "code",
      "metadata": {
        "id": "a2JpPFbG9pYV",
        "colab_type": "code",
        "colab": {}
      },
      "source": [
        "def train_classifier(X_train, y_train, X_test, y_test):\n",
        "\n",
        "  num_train = X_train.shape[1]\n",
        "  num_test = X_test.shape[1]\n",
        "  print(f'num_train: {num_train}')\n",
        "  print(f'num_test: {num_test}')\n",
        "\n",
        "  # layer1 = 1500\n",
        "  # layer2 = 500\n",
        "  # layer3 = 30\n",
        "  # layer4 = 1\n",
        "\n",
        "  U = np.random.normal(0.0, 1.0, size=(1500, 500))\n",
        "  V = np.random.normal(0.0, 1.0, size=(500, 30))\n",
        "  W = np.random.normal(0.0, 1.0, size=(30, 1))\n",
        "\n",
        "  b_1 = np.random.normal(0.0, 1.0, size=(500))\n",
        "  b_2 = np.random.normal(0.0, 1.0, size=(30))\n",
        "  b_3 = np.random.normal(0.0, 1.0, size=(1))\n",
        "\n",
        "  epochs = 10\n",
        "  lr = 1e-2 # learning_rate\n",
        "  control_param = 1e-3\n",
        "\n",
        "  num_param = U.shape[0]*U.shape[1]+V.shape[0]*V.shape[1]+W.shape[0]*W.shape[1]\n",
        "  num_theta = 3\n",
        "\n",
        "  train_loss_list = []\n",
        "  train_accuracy_list = []\n",
        "  test_loss_list = []\n",
        "  test_accuracy_list = []\n",
        "  right_pred_list = []\n",
        "  wrong_pred_list = []\n",
        "\n",
        "  for itr in range(epochs):\n",
        "    accr_cnt = 0\n",
        "    loss = 0\n",
        "    for m in range(num_train):\n",
        "      x = X_train[:, m]\n",
        "      a_1, a_2, a_3, a_4, d_2, d_3 = forward_prop_with_dropout(x, U, V, W, b_1, b_2, b_3, 0.1)\n",
        "      U, V, W, b_1, b_2, b_3, accr_cnt, loss = back_prop(m, U, V, W,\n",
        "                                                        a_1, a_2, a_3, a_4,\n",
        "                                                        b_1, b_2, b_3,\n",
        "                                                        d_2, d_3, y_train,\n",
        "                                                        lr, accr_cnt, loss,\n",
        "                                                        control_param)\n",
        "      # print(m, accr_cnt)\n",
        "    \n",
        "    # print(f'before loss: {loss}')\n",
        "    loss += (np.sum(U**2)+np.sum(V**2)+np.sum(W**2))*control_param/(2*num_theta)\n",
        "    # print(f'aft loss: {loss}')\n",
        "    train_loss = loss/num_train\n",
        "    train_loss_list.append(train_loss)\n",
        "    train_accr = (accr_cnt/num_train)*100\n",
        "    train_accuracy_list.append(train_accr)\n",
        "\n",
        "    # test\n",
        "    accr_cnt = 0\n",
        "    loss = 0\n",
        "    for m in range(num_test):\n",
        "        x = X_test[:, m]\n",
        "        a_1, a_2, a_3, a_4 = forward_prop(x, U, V, W, b_1, b_2, b_3)\n",
        "        pred_label = np.zeros_like(a_4)\n",
        "        # Determination of the prediction\n",
        "        for i in range(a_4.shape[0]):\n",
        "          if a_4[i] < 0.5:\n",
        "            pred_label[i] = 0\n",
        "          else:\n",
        "            pred_label[i] = 1\n",
        "        gt_label = y_test[m]\n",
        "        # print(f'gt_label: {gt_label}')\n",
        "        # print(f'pred_label.shape: {pred_label}')\n",
        "\n",
        "        if pred_label == gt_label:\n",
        "          accr_cnt += 1\n",
        "          right_pred_list.append((m, pred_label))\n",
        "        else:\n",
        "          wrong_pred_list.append((m, pred_label))\n",
        "        loss += loss_func(a_4, gt_label)\n",
        "        \n",
        "    # print(f'before loss: {loss}')\n",
        "    loss += (np.sum(U**2)+np.sum(V**2)+np.sum(W**2))*control_param/(2*num_theta)\n",
        "    # print(f'aft loss: {loss}')\n",
        "    test_loss = loss/num_test\n",
        "    test_loss_list.append(test_loss)\n",
        "    test_accr = (accr_cnt/num_test)*100\n",
        "    test_accuracy_list.append(test_accr)\n",
        "\n",
        "    if (itr+1) % 10 == 0:\n",
        "      print(f'itr: {itr+1}')\n",
        "      print(f'train_loss: {train_loss}')\n",
        "      print(f'train_accr: {train_accr}')\n",
        "      print(f'test_loss: {test_loss}')\n",
        "      print(f'test_accr: {test_accr}')\n",
        "\n",
        "  print(f'max_test_accuracy: {max(test_accuracy_list)}')\n",
        "\n",
        "  return U, V, W, b_1, b_2, b_3, train_loss_list, train_accuracy_list,\\\n",
        "  test_loss_list, test_accuracy_list, right_pred_list, wrong_pred_list,epochs"
      ],
      "execution_count": 0,
      "outputs": []
    },
    {
      "cell_type": "code",
      "metadata": {
        "id": "vYJl_GlYIWff",
        "colab_type": "code",
        "colab": {
          "base_uri": "https://localhost:8080/",
          "height": 161
        },
        "outputId": "9df38c8c-ad03-41c5-d617-c0a264f1c527"
      },
      "source": [
        "U, V, W, b_1, b_2, b_3, train_loss_list, train_accuracy_list, test_loss_list,\\\n",
        "test_accuracy_list, right_pred_list, wrong_pred_list,\\\n",
        "epochs = train_classifier(X_train, y_train, X_test, y_test)"
      ],
      "execution_count": 60,
      "outputs": [
        {
          "output_type": "stream",
          "text": [
            "num_train: 1401\n",
            "num_test: 601\n",
            "itr: 10\n",
            "train_loss: 0.758672550210803\n",
            "train_accr: 53.96145610278372\n",
            "test_loss: 0.8519208240227124\n",
            "test_accr: 51.9134775374376\n",
            "max_test_accuracy: 54.24292845257903\n"
          ],
          "name": "stdout"
        }
      ]
    },
    {
      "cell_type": "code",
      "metadata": {
        "id": "rwHQtgzB-sZA",
        "colab_type": "code",
        "colab": {}
      },
      "source": [
        "class Classifier:\n",
        "  def __init__(self, ):\n",
        "\n",
        "\n",
        "  def predict(self, data):\n",
        "    "
      ],
      "execution_count": 0,
      "outputs": []
    },
    {
      "cell_type": "code",
      "metadata": {
        "id": "rnyLEnNMDl76",
        "colab_type": "code",
        "outputId": "ef8513fc-674c-43e0-8f2d-a3008b40dcb5",
        "colab": {
          "base_uri": "https://localhost:8080/",
          "height": 1000
        }
      },
      "source": [
        ""
      ],
      "execution_count": 0,
      "outputs": [
        {
          "output_type": "stream",
          "text": [
            "itr: 10\n",
            "train_loss: 0.1994908022543201\n",
            "train_accr: 65.9\n",
            "test_loss: 0.16584701434629923\n",
            "test_accr: 68.81111111111112\n",
            "itr: 20\n",
            "train_loss: 0.13031807278518195\n",
            "train_accr: 82.89999999999999\n",
            "test_loss: 0.12441477611362668\n",
            "test_accr: 79.3\n",
            "itr: 30\n",
            "train_loss: 0.09744698582640686\n",
            "train_accr: 89.7\n",
            "test_loss: 0.10432092545038052\n",
            "test_accr: 82.97777777777777\n",
            "itr: 40\n",
            "train_loss: 0.07466123147827554\n",
            "train_accr: 93.2\n",
            "test_loss: 0.0937238757553246\n",
            "test_accr: 84.41111111111111\n",
            "itr: 50\n",
            "train_loss: 0.06140745772557123\n",
            "train_accr: 94.89999999999999\n",
            "test_loss: 0.08726792427769962\n",
            "test_accr: 85.6888888888889\n",
            "itr: 60\n",
            "train_loss: 0.052765752640019294\n",
            "train_accr: 96.3\n",
            "test_loss: 0.0809500038804553\n",
            "test_accr: 86.78888888888889\n",
            "itr: 70\n",
            "train_loss: 0.04477135546506189\n",
            "train_accr: 96.39999999999999\n",
            "test_loss: 0.07813949095161468\n",
            "test_accr: 87.12222222222222\n",
            "itr: 80\n",
            "train_loss: 0.0383682067345731\n",
            "train_accr: 97.3\n",
            "test_loss: 0.07430583565324392\n",
            "test_accr: 87.6888888888889\n",
            "itr: 90\n",
            "train_loss: 0.03529279800685038\n",
            "train_accr: 97.8\n",
            "test_loss: 0.07469677800835883\n",
            "test_accr: 87.65555555555555\n",
            "itr: 100\n",
            "train_loss: 0.03238793199898866\n",
            "train_accr: 97.3\n",
            "test_loss: 0.07121444404119122\n",
            "test_accr: 88.3111111111111\n",
            "itr: 110\n",
            "train_loss: 0.029068648162387724\n",
            "train_accr: 98.5\n",
            "test_loss: 0.07039345764395644\n",
            "test_accr: 88.53333333333333\n",
            "itr: 120\n",
            "train_loss: 0.02816797891963246\n",
            "train_accr: 99.1\n",
            "test_loss: 0.06912231550854649\n",
            "test_accr: 88.72222222222223\n",
            "itr: 130\n",
            "train_loss: 0.027187712149442968\n",
            "train_accr: 98.6\n",
            "test_loss: 0.06892400741411533\n",
            "test_accr: 88.72222222222223\n",
            "itr: 140\n",
            "train_loss: 0.025197600647751714\n",
            "train_accr: 99.0\n",
            "test_loss: 0.06848304243684104\n",
            "test_accr: 88.75555555555556\n",
            "itr: 150\n",
            "train_loss: 0.026427504258943992\n",
            "train_accr: 98.7\n",
            "test_loss: 0.06750499954093585\n",
            "test_accr: 89.02222222222223\n",
            "itr: 160\n",
            "train_loss: 0.024746560024907476\n",
            "train_accr: 99.3\n",
            "test_loss: 0.06753163586577439\n",
            "test_accr: 88.88888888888889\n",
            "itr: 170\n",
            "train_loss: 0.024923090157130772\n",
            "train_accr: 98.9\n",
            "test_loss: 0.06805774598846993\n",
            "test_accr: 88.92222222222223\n",
            "itr: 180\n",
            "train_loss: 0.02351632060779339\n",
            "train_accr: 98.9\n",
            "test_loss: 0.06797136016581666\n",
            "test_accr: 88.94444444444444\n",
            "itr: 190\n",
            "train_loss: 0.02332047558672447\n",
            "train_accr: 98.8\n",
            "test_loss: 0.06724466426688219\n",
            "test_accr: 89.05555555555556\n",
            "itr: 200\n",
            "train_loss: 0.023604115301796562\n",
            "train_accr: 99.1\n",
            "test_loss: 0.067874877315453\n",
            "test_accr: 89.0111111111111\n",
            "max_test_accuracy: 89.22222222222223\n"
          ],
          "name": "stdout"
        }
      ]
    },
    {
      "cell_type": "code",
      "metadata": {
        "id": "e-eooRL96Gbt",
        "colab_type": "code",
        "colab": {}
      },
      "source": [
        "classifier = train_classifier(X_train, y_train)"
      ],
      "execution_count": 0,
      "outputs": []
    },
    {
      "cell_type": "code",
      "metadata": {
        "id": "1KFEyuMEvAJs",
        "colab_type": "code",
        "outputId": "7810ee9f-d358-4fe1-e0ab-b429007e8163",
        "colab": {
          "base_uri": "https://localhost:8080/",
          "height": 295
        }
      },
      "source": [
        "plt.plot(range(epochs), train_loss_list, c='b')\n",
        "plt.plot(range(epochs), test_loss_list, c='r')\n",
        "plt.xlabel('optimization step')\n",
        "plt.ylabel('value of obeject function')\n",
        "plt.title('Loss curve')\n",
        "plt.show()"
      ],
      "execution_count": 0,
      "outputs": [
        {
          "output_type": "display_data",
          "data": {
            "image/png": "[encoded data removed]",
            "text/plain": [
              "<Figure size 432x288 with 1 Axes>"
            ]
          },
          "metadata": {
            "tags": [],
            "needs_background": "light"
          }
        }
      ]
    },
    {
      "cell_type": "code",
      "metadata": {
        "id": "BIL3VJqQJEJC",
        "colab_type": "code",
        "outputId": "ad69ab33-3652-4f6b-b919-391ee358f8ba",
        "colab": {
          "base_uri": "https://localhost:8080/",
          "height": 295
        }
      },
      "source": [
        "plt.plot(range(epochs), train_accuracy_list, c='b')\n",
        "plt.plot(range(epochs), test_accuracy_list, c='r')\n",
        "plt.xlabel('optimization step')\n",
        "plt.ylabel('score')\n",
        "plt.title('Accuracy curve')\n",
        "plt.show()"
      ],
      "execution_count": 0,
      "outputs": [
        {
          "output_type": "display_data",
          "data": {
            "image/png": "[encoded data removed]",
            "text/plain": [
              "<Figure size 432x288 with 1 Axes>"
            ]
          },
          "metadata": {
            "tags": [],
            "needs_background": "light"
          }
        }
      ]
    },
    {
      "cell_type": "code",
      "metadata": {
        "id": "zEXNccSNK6Vx",
        "colab_type": "code",
        "outputId": "41a945d3-70b5-43d7-f33a-bd51cb66ab53",
        "colab": {
          "base_uri": "https://localhost:8080/",
          "height": 51
        }
      },
      "source": [
        "# print the accuracy value\n",
        "print(f'Final training accuracy(%): {train_accuracy_list[-1]}')\n",
        "print(f'Final testing accuracy(%): {test_accuracy_list[-1]}')"
      ],
      "execution_count": 0,
      "outputs": [
        {
          "output_type": "stream",
          "text": [
            "Final training accuracy(%): 99.1\n",
            "Final testing accuracy(%): 89.0111111111111\n"
          ],
          "name": "stdout"
        }
      ]
    },
    {
      "cell_type": "code",
      "metadata": {
        "id": "fTTrSU0tLJZE",
        "colab_type": "code",
        "outputId": "5edce350-4d29-4fcf-f03a-c222418ddc9c",
        "colab": {
          "base_uri": "https://localhost:8080/",
          "height": 227
        }
      },
      "source": [
        "for i in range(10):\n",
        "    idx = right_pred_list[i][0]\n",
        "    pred_label  = right_pred_list[i][1]\n",
        "    im_vector   = test_image[:, idx]\n",
        "    im_matrix   = im_vector.reshape((size_row, size_col))\n",
        "\n",
        "    plt.subplot(2, 5, i+1)\n",
        "    plt.title(pred_label)\n",
        "    plt.imshow(im_matrix, cmap='Greys', interpolation='None')\n",
        "\n",
        "    frame   = plt.gca()\n",
        "    frame.axes.get_xaxis().set_visible(False)\n",
        "    frame.axes.get_yaxis().set_visible(False)\n",
        "\n",
        "plt.show()"
      ],
      "execution_count": 0,
      "outputs": [
        {
          "output_type": "display_data",
          "data": {
            "image/png": "[encoded data removed]",
            "text/plain": [
              "<Figure size 432x288 with 10 Axes>"
            ]
          },
          "metadata": {
            "tags": [],
            "needs_background": "light"
          }
        }
      ]
    },
    {
      "cell_type": "code",
      "metadata": {
        "id": "8ijyDb46Wa22",
        "colab_type": "code",
        "outputId": "f11b6a8a-417c-44c3-b048-7b48e703f88d",
        "colab": {
          "base_uri": "https://localhost:8080/",
          "height": 227
        }
      },
      "source": [
        "for i in range(10):\n",
        "    idx = wrong_pred_list[i][0]\n",
        "    pred_label  = wrong_pred_list[i][1]\n",
        "    im_vector   = test_image[:, idx]\n",
        "    im_matrix   = im_vector.reshape((size_row, size_col))\n",
        "\n",
        "    plt.subplot(2, 5, i+1)\n",
        "    plt.title(pred_label)\n",
        "    plt.imshow(im_matrix, cmap='Greys', interpolation='None')\n",
        "\n",
        "    frame   = plt.gca()\n",
        "    frame.axes.get_xaxis().set_visible(False)\n",
        "    frame.axes.get_yaxis().set_visible(False)\n",
        "\n",
        "plt.show()"
      ],
      "execution_count": 0,
      "outputs": [
        {
          "output_type": "display_data",
          "data": {
            "image/png": "[encoded data removed]",
            "text/plain": [
              "<Figure size 432x288 with 10 Axes>"
            ]
          },
          "metadata": {
            "tags": [],
            "needs_background": "light"
          }
        }
      ]
    },
    {
      "cell_type": "code",
      "metadata": {
        "id": "1A1I6PXJXLqZ",
        "colab_type": "code",
        "colab": {}
      },
      "source": [
        ""
      ],
      "execution_count": 0,
      "outputs": []
    }
  ]
}